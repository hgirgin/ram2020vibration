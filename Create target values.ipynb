{
 "cells": [
  {
   "cell_type": "code",
   "execution_count": null,
   "metadata": {
    "ExecuteTime": {
     "end_time": "2020-12-17T17:50:58.909819Z",
     "start_time": "2020-12-17T17:50:57.813433Z"
    },
    "scrolled": true
   },
   "outputs": [],
   "source": [
    "import matplotlib.pyplot as plt\n",
    "import numpy as np\n",
    "import time\n",
    "from IPython.display import clear_output\n",
    "import os\n",
    "import pandapybullet as ppb\n",
    "import scipy\n",
    "import matplotlib\n",
    "\n",
    "from robot import *\n",
    "from utils import *\n",
    "import pybullet as p\n",
    "import pybullet_data\n",
    "import networkx as nx\n",
    "from functools import partial\n",
    "%load_ext autoreload\n",
    "%autoreload 2"
   ]
  },
  {
   "cell_type": "markdown",
   "metadata": {},
   "source": [
    "## Setup Pybullet"
   ]
  },
  {
   "cell_type": "code",
   "execution_count": null,
   "metadata": {
    "ExecuteTime": {
     "end_time": "2020-12-17T17:50:59.764638Z",
     "start_time": "2020-12-17T17:50:58.910792Z"
    }
   },
   "outputs": [],
   "source": [
    "simulation_step = 1e-3\n",
    "world_sim = ppb.WorldSim(gravity=[0,0,-10])\n",
    "world_sim.set_time_step(simulation_step)"
   ]
  },
  {
   "cell_type": "code",
   "execution_count": null,
   "metadata": {
    "ExecuteTime": {
     "end_time": "2020-12-17T17:50:59.932190Z",
     "start_time": "2020-12-17T17:50:59.765635Z"
    }
   },
   "outputs": [],
   "source": [
    "p.resetSimulation()"
   ]
  },
  {
   "cell_type": "code",
   "execution_count": null,
   "metadata": {
    "ExecuteTime": {
     "end_time": "2020-12-17T17:51:00.115698Z",
     "start_time": "2020-12-17T17:50:59.934187Z"
    }
   },
   "outputs": [],
   "source": [
    "world_sim.setup_scene()"
   ]
  },
  {
   "cell_type": "code",
   "execution_count": null,
   "metadata": {
    "ExecuteTime": {
     "end_time": "2020-12-17T17:51:00.227399Z",
     "start_time": "2020-12-17T17:51:00.116723Z"
    }
   },
   "outputs": [],
   "source": [
    "robot_details = {\n",
    "    'urdf': '/robots/panda/panda_arm_rivet.urdf',\n",
    "    'base_position': [0, 0, 0],\n",
    "    'base_orientation': [0, 0, 0],\n",
    "    'ee_index': 11,\n",
    "    'gripper_indices': [9, 10],\n",
    "}"
   ]
  },
  {
   "cell_type": "code",
   "execution_count": null,
   "metadata": {
    "ExecuteTime": {
     "end_time": "2020-12-17T17:51:01.745195Z",
     "start_time": "2020-12-17T17:51:00.229396Z"
    }
   },
   "outputs": [],
   "source": [
    "robot = world_sim.add_robot(robot_details)"
   ]
  },
  {
   "cell_type": "markdown",
   "metadata": {},
   "source": [
    "### Setup Obstacles"
   ]
  },
  {
   "cell_type": "code",
   "execution_count": null,
   "metadata": {
    "ExecuteTime": {
     "end_time": "2020-12-17T17:51:02.774942Z",
     "start_time": "2020-12-17T17:51:01.747171Z"
    }
   },
   "outputs": [],
   "source": [
    "is_simple = False\n",
    "obs_ids = []\n",
    "rgbacolor = (0,0,1,0)\n",
    "\n",
    "board_id = p.loadURDF('urdf/support_cylindrical.urdf', globalScaling=0.0008, useFixedBase=1)\n",
    "quat = w2quat(np.array([0,0,-np.pi/2]))\n",
    "p.resetBasePositionAndOrientation(board_id, (0.6,-2.2,-.3), quat)\n",
    "\n",
    "offset = 0.\n"
   ]
  },
  {
   "cell_type": "code",
   "execution_count": null,
   "metadata": {
    "ExecuteTime": {
     "end_time": "2020-12-17T17:51:02.885168Z",
     "start_time": "2020-12-17T17:51:02.776916Z"
    }
   },
   "outputs": [],
   "source": [
    "x_board = 0.47\n",
    "p.resetBasePositionAndOrientation(board_id, (x_board,-1.7,-.41), quat)"
   ]
  },
  {
   "cell_type": "markdown",
   "metadata": {},
   "source": [
    "### Setup targets in the middle"
   ]
  },
  {
   "cell_type": "code",
   "execution_count": null,
   "metadata": {
    "ExecuteTime": {
     "end_time": "2020-12-17T17:51:04.412673Z",
     "start_time": "2020-12-17T17:51:02.887161Z"
    }
   },
   "outputs": [],
   "source": [
    "ys = np.concatenate([np.arange(-0.34, -0.15, 0.05), np.arange(0.2, 0.36, 0.05)],-1)\n",
    "zs = np.arange(0.35, 0.54, 0.05) + 0.2\n",
    "x = x_board + 0.3\n",
    "targets_mid = []\n",
    "target_ids = []\n",
    "offset = -0.05\n",
    "for y in ys:\n",
    "    for z in zs:\n",
    "        target = np.array([x, y,z])\n",
    "        targets_mid += [target]\n",
    "        _,_,target_id = create_primitives(p.GEOM_BOX, halfExtents=(0.03, 0.01, 0.01), rgbaColor=(1,0,0,1), baseMass=0)\n",
    "        target_ids += [target_id]\n",
    "        p.resetBasePositionAndOrientation(target_id, targets_mid[-1], (0,0,0,1))\n",
    "        targets_mid[-1][0] -= 0.03\n",
    "\n",
    "targets_mid = np.array(targets_mid)"
   ]
  },
  {
   "cell_type": "markdown",
   "metadata": {},
   "source": [
    "### Targets on the bottom"
   ]
  },
  {
   "cell_type": "code",
   "execution_count": null,
   "metadata": {
    "ExecuteTime": {
     "end_time": "2020-12-17T17:51:04.521887Z",
     "start_time": "2020-12-17T17:51:04.413669Z"
    }
   },
   "outputs": [],
   "source": [
    "R = w2mat(quat2w(euler2quat([0,10,0.])))"
   ]
  },
  {
   "cell_type": "code",
   "execution_count": null,
   "metadata": {
    "ExecuteTime": {
     "end_time": "2020-12-17T17:51:05.375156Z",
     "start_time": "2020-12-17T17:51:04.522885Z"
    }
   },
   "outputs": [],
   "source": [
    "zs = np.arange(0.25,0.31, 0.05) + 0.2\n",
    "#ys = np.array([-0.45, -0.25,  0.15,  0.35])\n",
    "#zs = np.arange(0.6, 0.81, 0.1)\n",
    "x = x_board + 0.25\n",
    "targets_down = []\n",
    "target_ids = []\n",
    "offset = 0.03\n",
    "for y in ys:\n",
    "    offset_x = 0.\n",
    "    for z in zs:\n",
    "        target = np.array([x+offset_x, y,z])\n",
    "        targets_down += [target]\n",
    "        _,_,target_id = create_primitives(p.GEOM_BOX, halfExtents=(0.03, 0.01, 0.01), rgbaColor=(0,0,1,1), baseMass=0)\n",
    "        target_ids += [target_id]\n",
    "        p.resetBasePositionAndOrientation(target_id, targets_down[-1], (0,0,0,1))\n",
    "        targets_down[-1] += (R@np.array([1,0,0]))*offset\n",
    "        offset_x += 0.03\n",
    "\n",
    "targets_down = np.array(targets_down)"
   ]
  },
  {
   "cell_type": "code",
   "execution_count": null,
   "metadata": {
    "ExecuteTime": {
     "end_time": "2020-12-17T17:51:05.483369Z",
     "start_time": "2020-12-17T17:51:05.376116Z"
    }
   },
   "outputs": [],
   "source": [
    "for target_id in target_ids:\n",
    "    p.resetBasePositionAndOrientation(target_id,posObj=p.getBasePositionAndOrientation(target_id)[0 ], ornObj=euler2quat([0,10,0.]).tolist())"
   ]
  },
  {
   "cell_type": "code",
   "execution_count": null,
   "metadata": {
    "ExecuteTime": {
     "end_time": "2020-12-17T17:51:05.750483Z",
     "start_time": "2020-12-17T17:51:05.484339Z"
    }
   },
   "outputs": [],
   "source": [
    "robot.reset_q()"
   ]
  },
  {
   "cell_type": "code",
   "execution_count": null,
   "metadata": {
    "ExecuteTime": {
     "end_time": "2020-12-17T17:51:05.888142Z",
     "start_time": "2020-12-17T17:51:05.751452Z"
    },
    "scrolled": true
   },
   "outputs": [],
   "source": [
    "p.addUserDebugLine(robot.x.tolist(), (targets_down[1]).tolist(), lineColorRGB=(1,0,0))"
   ]
  },
  {
   "cell_type": "markdown",
   "metadata": {},
   "source": [
    "### Targets on the top"
   ]
  },
  {
   "cell_type": "code",
   "execution_count": null,
   "metadata": {
    "ExecuteTime": {
     "end_time": "2020-12-17T17:04:26.632865Z",
     "start_time": "2020-12-17T17:04:26.511176Z"
    }
   },
   "outputs": [],
   "source": [
    "R = w2mat(quat2w(euler2quat([0,-10,0.])))"
   ]
  },
  {
   "cell_type": "code",
   "execution_count": null,
   "metadata": {
    "ExecuteTime": {
     "end_time": "2020-12-17T17:04:27.456604Z",
     "start_time": "2020-12-17T17:04:26.634848Z"
    }
   },
   "outputs": [],
   "source": [
    "zs = np.arange(0.55,0.61, 0.05) + 0.2\n",
    "\n",
    "x = x_board + 0.27\n",
    "targets_up = []\n",
    "target_ids = []\n",
    "offset = 0.03\n",
    "for y in ys:\n",
    "    offset_x = 0.\n",
    "    for z in zs:\n",
    "        target = np.array([x+offset_x, y,z])\n",
    "        targets_up += [target]\n",
    "        _,_,target_id = create_primitives(p.GEOM_BOX, halfExtents=(0.03, 0.01, 0.01), rgbaColor=(0,1,0,1), baseMass=0)\n",
    "        target_ids += [target_id]\n",
    "        p.resetBasePositionAndOrientation(target_id, targets_up[-1], (0,0,0,1))\n",
    "        targets_up[-1] += (R@np.array([1,0,0]))*offset\n",
    "        offset_x -= 0.03\n",
    "\n",
    "targets_up = np.array(targets_up)"
   ]
  },
  {
   "cell_type": "code",
   "execution_count": null,
   "metadata": {
    "ExecuteTime": {
     "end_time": "2020-12-17T17:04:27.579205Z",
     "start_time": "2020-12-17T17:04:27.457575Z"
    }
   },
   "outputs": [],
   "source": [
    "for target_id in target_ids:\n",
    "    p.resetBasePositionAndOrientation(target_id,posObj=p.getBasePositionAndOrientation(target_id)[0], ornObj=euler2quat([0,-10,0.]).tolist())"
   ]
  },
  {
   "cell_type": "code",
   "execution_count": null,
   "metadata": {
    "ExecuteTime": {
     "end_time": "2020-12-17T17:04:27.701869Z",
     "start_time": "2020-12-17T17:04:27.580174Z"
    }
   },
   "outputs": [],
   "source": [
    "p.addUserDebugLine(robot.x.tolist(), (targets_up[0]).tolist(), lineColorRGB=(0,0,1))"
   ]
  },
  {
   "cell_type": "markdown",
   "metadata": {},
   "source": [
    "### Try IK "
   ]
  },
  {
   "cell_type": "code",
   "execution_count": null,
   "metadata": {
    "ExecuteTime": {
     "end_time": "2020-12-17T16:15:05.056888Z",
     "start_time": "2020-12-17T16:15:04.762676Z"
    }
   },
   "outputs": [],
   "source": [
    "robot.reset_q()\n"
   ]
  },
  {
   "cell_type": "code",
   "execution_count": null,
   "metadata": {
    "ExecuteTime": {
     "end_time": "2020-12-17T16:37:50.451866Z",
     "start_time": "2020-12-17T16:37:50.330204Z"
    }
   },
   "outputs": [],
   "source": [
    "qs_teguh = [[-0.83932275, -1.54137399,  0.95430008, -1.86467053,  2.40159777,\n",
    "        3.59695137, -1.15764069],\n",
    "            [-0.28033785, -1.75766024,  1.12916018, -2.29047562,  2.52327724,\n",
    "        3.63650991, -0.64595397],\n",
    "            [-0.31252869, -1.67061596,  0.78073781, -2.52464951,  2.34896703,\n",
    "        2.82965887,  0.8981308 ],\n",
    "            [ 0.57645143, -1.69599059,  0.31823516, -2.23416334,  2.39084771,\n",
    "        3.50976051,  2.64189416],\n",
    "            [ 0.47841517, -1.65205786, -0.48158265, -2.74690527,  1.4707326 ,\n",
    "        3.33008487,  2.70119612],\n",
    "            [ 0.53582313, -1.60804724,  0.23277705, -2.3715542 ,  2.16054946,\n",
    "        3.6711258 ,  1.4526345 ]]\n"
   ]
  },
  {
   "cell_type": "code",
   "execution_count": null,
   "metadata": {
    "ExecuteTime": {
     "end_time": "2020-12-17T16:38:47.151179Z",
     "start_time": "2020-12-17T16:38:47.024520Z"
    }
   },
   "outputs": [],
   "source": [
    "np.save('qs_outside', np.stack(qs_teguh), allow_pickle=True)"
   ]
  },
  {
   "cell_type": "code",
   "execution_count": null,
   "metadata": {},
   "outputs": [],
   "source": []
  },
  {
   "cell_type": "code",
   "execution_count": null,
   "metadata": {
    "ExecuteTime": {
     "end_time": "2020-12-17T16:35:51.004259Z",
     "start_time": "2020-12-17T16:35:50.897546Z"
    }
   },
   "outputs": [],
   "source": [
    "robot.q"
   ]
  },
  {
   "cell_type": "code",
   "execution_count": null,
   "metadata": {
    "ExecuteTime": {
     "end_time": "2020-12-17T16:36:03.533598Z",
     "start_time": "2020-12-17T16:36:03.417907Z"
    }
   },
   "outputs": [],
   "source": [
    "robot.q"
   ]
  },
  {
   "cell_type": "code",
   "execution_count": null,
   "metadata": {},
   "outputs": [],
   "source": []
  },
  {
   "cell_type": "code",
   "execution_count": null,
   "metadata": {
    "ExecuteTime": {
     "end_time": "2020-12-17T16:35:59.922276Z",
     "start_time": "2020-12-17T16:35:53.977310Z"
    }
   },
   "outputs": [],
   "source": [
    "robot.teaching_mode()"
   ]
  },
  {
   "cell_type": "code",
   "execution_count": null,
   "metadata": {
    "ExecuteTime": {
     "end_time": "2020-12-17T15:49:28.224921Z",
     "start_time": "2020-12-17T15:49:28.123167Z"
    }
   },
   "outputs": [],
   "source": [
    "robot.rotation = \"quat\""
   ]
  },
  {
   "cell_type": "code",
   "execution_count": null,
   "metadata": {
    "ExecuteTime": {
     "end_time": "2020-12-16T19:25:15.600319Z",
     "start_time": "2020-12-16T19:25:15.489613Z"
    }
   },
   "outputs": [],
   "source": [
    "p.resetBasePositionAndOrientation(board_id, (x_board,-1.7,-.41), quat)"
   ]
  },
  {
   "cell_type": "code",
   "execution_count": null,
   "metadata": {
    "ExecuteTime": {
     "end_time": "2020-12-16T19:25:31.660421Z",
     "start_time": "2020-12-16T19:25:29.815378Z"
    }
   },
   "outputs": [],
   "source": [
    "robot.ik(targets_down[2], orn_des=np.array([0,2.16,0.]) , K=2)"
   ]
  },
  {
   "cell_type": "code",
   "execution_count": null,
   "metadata": {
    "ExecuteTime": {
     "end_time": "2020-12-16T19:25:31.770621Z",
     "start_time": "2020-12-16T19:25:31.661383Z"
    }
   },
   "outputs": [],
   "source": [
    "euler2quat([0,2.16,0.])"
   ]
  },
  {
   "cell_type": "code",
   "execution_count": null,
   "metadata": {
    "ExecuteTime": {
     "end_time": "2020-12-16T19:25:32.334111Z",
     "start_time": "2020-12-16T19:25:32.225402Z"
    }
   },
   "outputs": [],
   "source": [
    "robot.orn"
   ]
  },
  {
   "cell_type": "code",
   "execution_count": null,
   "metadata": {
    "ExecuteTime": {
     "end_time": "2020-12-16T19:25:37.948148Z",
     "start_time": "2020-12-16T19:25:36.112946Z"
    }
   },
   "outputs": [],
   "source": [
    "robot.ik(targets_up[2], orn_des=np.array([0,1.029,0.]) , K=2)"
   ]
  },
  {
   "cell_type": "code",
   "execution_count": null,
   "metadata": {
    "ExecuteTime": {
     "end_time": "2020-12-16T19:25:45.431407Z",
     "start_time": "2020-12-16T19:25:43.544969Z"
    }
   },
   "outputs": [],
   "source": [
    "robot.ik(targets_mid[7], orn_des=np.array([0,np.pi/2,0]) , K=20)"
   ]
  },
  {
   "cell_type": "code",
   "execution_count": null,
   "metadata": {
    "ExecuteTime": {
     "end_time": "2020-12-17T16:53:39.478075Z",
     "start_time": "2020-12-17T16:53:39.369317Z"
    }
   },
   "outputs": [],
   "source": [
    "targets_x = {'up': targets_up,\n",
    "               'mid': targets_mid,\n",
    "               'down': targets_down}\n",
    "targets_orn = {'up': euler2quat([0,1.029,0.]),\n",
    "               'mid': euler2quat([0,np.pi/2,0]),\n",
    "               'down': euler2quat([0,2.16,0.])}\n",
    "R = {'up': w2mat(quat2w(euler2quat([0,10,0.]))),\n",
    "     'mid':np.eye(3),\n",
    "     'down':w2mat(quat2w(euler2quat([0,-10,0.])))\n",
    "    }"
   ]
  },
  {
   "cell_type": "code",
   "execution_count": null,
   "metadata": {
    "ExecuteTime": {
     "end_time": "2020-12-17T16:53:39.648593Z",
     "start_time": "2020-12-17T16:53:39.547862Z"
    }
   },
   "outputs": [],
   "source": [
    "np.save('targets_x',targets_x, allow_pickle=True)"
   ]
  },
  {
   "cell_type": "code",
   "execution_count": null,
   "metadata": {
    "ExecuteTime": {
     "end_time": "2020-12-17T16:53:39.822156Z",
     "start_time": "2020-12-17T16:53:39.696466Z"
    }
   },
   "outputs": [],
   "source": [
    "np.save('targets_orn',targets_orn, allow_pickle=True)"
   ]
  },
  {
   "cell_type": "code",
   "execution_count": null,
   "metadata": {
    "ExecuteTime": {
     "end_time": "2020-12-17T16:53:39.962780Z",
     "start_time": "2020-12-17T16:53:39.852051Z"
    }
   },
   "outputs": [],
   "source": [
    "np.save('rotation_axes', R, allow_pickle=True)"
   ]
  },
  {
   "cell_type": "markdown",
   "metadata": {},
   "source": [
    "#### check savings"
   ]
  },
  {
   "cell_type": "code",
   "execution_count": null,
   "metadata": {
    "ExecuteTime": {
     "end_time": "2020-12-16T19:25:54.192882Z",
     "start_time": "2020-12-16T19:25:54.073202Z"
    }
   },
   "outputs": [],
   "source": [
    "np.load('targets_orn.npy', allow_pickle=True)"
   ]
  },
  {
   "cell_type": "markdown",
   "metadata": {},
   "source": [
    "### Check the joint positions after IK solution"
   ]
  },
  {
   "cell_type": "code",
   "execution_count": null,
   "metadata": {
    "ExecuteTime": {
     "end_time": "2020-12-17T17:04:27.918303Z",
     "start_time": "2020-12-17T17:04:27.800588Z"
    }
   },
   "outputs": [],
   "source": [
    "qs = np.load(\"good_q.npy\", allow_pickle=True)"
   ]
  },
  {
   "cell_type": "code",
   "execution_count": null,
   "metadata": {
    "ExecuteTime": {
     "end_time": "2020-12-17T17:04:28.698237Z",
     "start_time": "2020-12-17T17:04:28.584513Z"
    }
   },
   "outputs": [],
   "source": [
    "hole_nb =49\n",
    "sample = 0"
   ]
  },
  {
   "cell_type": "code",
   "execution_count": null,
   "metadata": {
    "ExecuteTime": {
     "end_time": "2020-12-17T17:04:29.227004Z",
     "start_time": "2020-12-17T17:04:29.121717Z"
    }
   },
   "outputs": [],
   "source": [
    "hole_nb += 1"
   ]
  },
  {
   "cell_type": "code",
   "execution_count": null,
   "metadata": {
    "ExecuteTime": {
     "end_time": "2020-12-17T17:05:01.655734Z",
     "start_time": "2020-12-17T17:05:01.536478Z"
    }
   },
   "outputs": [],
   "source": [
    "sample += 1\n",
    "robot.set_q_(qs[hole_nb, sample])"
   ]
  },
  {
   "cell_type": "code",
   "execution_count": null,
   "metadata": {},
   "outputs": [],
   "source": []
  }
 ],
 "metadata": {
  "kernelspec": {
   "display_name": "Python 3",
   "language": "python",
   "name": "python3"
  },
  "language_info": {
   "codemirror_mode": {
    "name": "ipython",
    "version": 3
   },
   "file_extension": ".py",
   "mimetype": "text/x-python",
   "name": "python",
   "nbconvert_exporter": "python",
   "pygments_lexer": "ipython3",
   "version": "3.7.6"
  },
  "latex_envs": {
   "LaTeX_envs_menu_present": true,
   "autoclose": false,
   "autocomplete": true,
   "bibliofile": "biblio.bib",
   "cite_by": "apalike",
   "current_citInitial": 1,
   "eqLabelWithNumbers": true,
   "eqNumInitial": 1,
   "hotkeys": {
    "equation": "Ctrl-E",
    "itemize": "Ctrl-I"
   },
   "labels_anchors": false,
   "latex_user_defs": false,
   "report_style_numbering": false,
   "user_envs_cfg": false
  },
  "toc": {
   "base_numbering": 1,
   "nav_menu": {},
   "number_sections": true,
   "sideBar": true,
   "skip_h1_title": false,
   "title_cell": "Table of Contents",
   "title_sidebar": "Contents",
   "toc_cell": false,
   "toc_position": {},
   "toc_section_display": true,
   "toc_window_display": false
  },
  "varInspector": {
   "cols": {
    "lenName": 16,
    "lenType": 16,
    "lenVar": 40
   },
   "kernels_config": {
    "python": {
     "delete_cmd_postfix": "",
     "delete_cmd_prefix": "del ",
     "library": "var_list.py",
     "varRefreshCmd": "print(var_dic_list())"
    },
    "r": {
     "delete_cmd_postfix": ") ",
     "delete_cmd_prefix": "rm(",
     "library": "var_list.r",
     "varRefreshCmd": "cat(var_dic_list()) "
    }
   },
   "types_to_exclude": [
    "module",
    "function",
    "builtin_function_or_method",
    "instance",
    "_Feature"
   ],
   "window_display": false
  }
 },
 "nbformat": 4,
 "nbformat_minor": 4
}

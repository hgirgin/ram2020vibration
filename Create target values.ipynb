{
 "cells": [
  {
   "cell_type": "code",
   "execution_count": 1,
   "metadata": {
    "ExecuteTime": {
     "end_time": "2020-12-16T21:08:38.168460Z",
     "start_time": "2020-12-16T21:08:37.155650Z"
    },
    "scrolled": true
   },
   "outputs": [],
   "source": [
    "import matplotlib.pyplot as plt\n",
    "import numpy as np\n",
    "import time\n",
    "from IPython.display import clear_output\n",
    "import os\n",
    "import pandapybullet as ppb\n",
    "import scipy\n",
    "import matplotlib\n",
    "\n",
    "from robot import *\n",
    "from utils import *\n",
    "import pybullet as p\n",
    "import pybullet_data\n",
    "import networkx as nx\n",
    "from functools import partial\n",
    "%load_ext autoreload\n",
    "%autoreload 2"
   ]
  },
  {
   "cell_type": "markdown",
   "metadata": {},
   "source": [
    "## Setup Pybullet"
   ]
  },
  {
   "cell_type": "code",
   "execution_count": 2,
   "metadata": {
    "ExecuteTime": {
     "end_time": "2020-12-16T21:08:39.053885Z",
     "start_time": "2020-12-16T21:08:38.169238Z"
    }
   },
   "outputs": [],
   "source": [
    "simulation_step = 1e-3\n",
    "world_sim = ppb.WorldSim(gravity=[0,0,-10])\n",
    "world_sim.set_time_step(simulation_step)"
   ]
  },
  {
   "cell_type": "code",
   "execution_count": 81,
   "metadata": {
    "ExecuteTime": {
     "end_time": "2020-12-16T21:17:11.523989Z",
     "start_time": "2020-12-16T21:17:11.300587Z"
    }
   },
   "outputs": [],
   "source": [
    "p.resetSimulation()"
   ]
  },
  {
   "cell_type": "code",
   "execution_count": 82,
   "metadata": {
    "ExecuteTime": {
     "end_time": "2020-12-16T21:17:11.711517Z",
     "start_time": "2020-12-16T21:17:11.524987Z"
    }
   },
   "outputs": [],
   "source": [
    "world_sim.setup_scene()"
   ]
  },
  {
   "cell_type": "code",
   "execution_count": 83,
   "metadata": {
    "ExecuteTime": {
     "end_time": "2020-12-16T21:17:11.822193Z",
     "start_time": "2020-12-16T21:17:11.712487Z"
    }
   },
   "outputs": [],
   "source": [
    "robot_details = {\n",
    "    'urdf': '/robots/panda/panda_arm_rivet.urdf',\n",
    "    'base_position': [0, 0, 0],\n",
    "    'base_orientation': [0, 0, 0],\n",
    "    'ee_index': 11,\n",
    "    'gripper_indices': [9, 10],\n",
    "}"
   ]
  },
  {
   "cell_type": "code",
   "execution_count": 84,
   "metadata": {
    "ExecuteTime": {
     "end_time": "2020-12-16T21:17:13.333540Z",
     "start_time": "2020-12-16T21:17:11.823190Z"
    }
   },
   "outputs": [
    {
     "name": "stdout",
     "output_type": "stream",
     "text": [
      "[0, 1, 2, 3, 4, 5, 6]\n"
     ]
    }
   ],
   "source": [
    "robot = world_sim.add_robot(robot_details)"
   ]
  },
  {
   "cell_type": "markdown",
   "metadata": {},
   "source": [
    "### Setup Obstacles"
   ]
  },
  {
   "cell_type": "code",
   "execution_count": 85,
   "metadata": {
    "ExecuteTime": {
     "end_time": "2020-12-16T21:17:14.369769Z",
     "start_time": "2020-12-16T21:17:13.373435Z"
    }
   },
   "outputs": [],
   "source": [
    "is_simple = False\n",
    "obs_ids = []\n",
    "rgbacolor = (0,0,1,0)\n",
    "\n",
    "board_id = p.loadURDF('urdf/support_cylindrical.urdf', globalScaling=0.0008, useFixedBase=1)\n",
    "quat = w2quat(np.array([0,0,-np.pi/2]))\n",
    "p.resetBasePositionAndOrientation(board_id, (0.6,-2.2,-.3), quat)\n",
    "\n",
    "offset = 0.\n"
   ]
  },
  {
   "cell_type": "code",
   "execution_count": 86,
   "metadata": {
    "ExecuteTime": {
     "end_time": "2020-12-16T21:17:14.478479Z",
     "start_time": "2020-12-16T21:17:14.370767Z"
    }
   },
   "outputs": [],
   "source": [
    "x_board = 0.37\n",
    "p.resetBasePositionAndOrientation(board_id, (x_board,-1.7,-.41), quat)"
   ]
  },
  {
   "cell_type": "markdown",
   "metadata": {},
   "source": [
    "### Setup targets in the middle"
   ]
  },
  {
   "cell_type": "code",
   "execution_count": 87,
   "metadata": {
    "ExecuteTime": {
     "end_time": "2020-12-16T21:17:23.485026Z",
     "start_time": "2020-12-16T21:17:21.933202Z"
    }
   },
   "outputs": [],
   "source": [
    "ys = np.concatenate([np.arange(-0.34, -0.15, 0.05), np.arange(0.2, 0.36, 0.05)],-1)\n",
    "zs = np.arange(0.35, 0.54, 0.05) + 0.2\n",
    "x = x_board + 0.3\n",
    "targets_mid = []\n",
    "target_ids = []\n",
    "offset = -0.05\n",
    "for y in ys:\n",
    "    for z in zs:\n",
    "        target = np.array([x, y,z])\n",
    "        targets_mid += [target]\n",
    "        _,_,target_id = create_primitives(p.GEOM_BOX, halfExtents=(0.03, 0.01, 0.01), rgbaColor=(1,0,0,1), baseMass=0)\n",
    "        target_ids += [target_id]\n",
    "        p.resetBasePositionAndOrientation(target_id, targets_mid[-1], (0,0,0,1))\n",
    "        targets_mid[-1][0] -= 0.03\n",
    "\n",
    "targets_mid = np.array(targets_mid)"
   ]
  },
  {
   "cell_type": "markdown",
   "metadata": {},
   "source": [
    "### Targets on the bottom"
   ]
  },
  {
   "cell_type": "code",
   "execution_count": 88,
   "metadata": {
    "ExecuteTime": {
     "end_time": "2020-12-16T21:17:33.021441Z",
     "start_time": "2020-12-16T21:17:32.892758Z"
    }
   },
   "outputs": [],
   "source": [
    "R = w2mat(quat2w(euler2quat([0,10,0.])))"
   ]
  },
  {
   "cell_type": "code",
   "execution_count": 89,
   "metadata": {
    "ExecuteTime": {
     "end_time": "2020-12-16T21:17:33.848229Z",
     "start_time": "2020-12-16T21:17:33.029392Z"
    }
   },
   "outputs": [],
   "source": [
    "zs = np.arange(0.25,0.31, 0.05) + 0.2\n",
    "#ys = np.array([-0.45, -0.25,  0.15,  0.35])\n",
    "#zs = np.arange(0.6, 0.81, 0.1)\n",
    "x = x_board + 0.25\n",
    "targets_down = []\n",
    "target_ids = []\n",
    "offset = 0.03\n",
    "for y in ys:\n",
    "    offset_x = 0.\n",
    "    for z in zs:\n",
    "        target = np.array([x+offset_x, y,z])\n",
    "        targets_down += [target]\n",
    "        _,_,target_id = create_primitives(p.GEOM_BOX, halfExtents=(0.03, 0.01, 0.01), rgbaColor=(0,0,1,1), baseMass=0)\n",
    "        target_ids += [target_id]\n",
    "        p.resetBasePositionAndOrientation(target_id, targets_down[-1], (0,0,0,1))\n",
    "        targets_down[-1] += (R@np.array([1,0,0]))*offset\n",
    "        offset_x += 0.03\n",
    "\n",
    "targets_down = np.array(targets_down)"
   ]
  },
  {
   "cell_type": "code",
   "execution_count": 90,
   "metadata": {
    "ExecuteTime": {
     "end_time": "2020-12-16T21:17:33.957908Z",
     "start_time": "2020-12-16T21:17:33.849221Z"
    }
   },
   "outputs": [],
   "source": [
    "for target_id in target_ids:\n",
    "    p.resetBasePositionAndOrientation(target_id,posObj=p.getBasePositionAndOrientation(target_id)[0 ], ornObj=euler2quat([0,10,0.]).tolist())"
   ]
  },
  {
   "cell_type": "code",
   "execution_count": 91,
   "metadata": {
    "ExecuteTime": {
     "end_time": "2020-12-16T21:17:34.236164Z",
     "start_time": "2020-12-16T21:17:33.959905Z"
    }
   },
   "outputs": [],
   "source": [
    "robot.reset_q()"
   ]
  },
  {
   "cell_type": "code",
   "execution_count": 92,
   "metadata": {
    "ExecuteTime": {
     "end_time": "2020-12-16T21:17:35.499680Z",
     "start_time": "2020-12-16T21:17:35.373046Z"
    },
    "scrolled": true
   },
   "outputs": [
    {
     "data": {
      "text/plain": [
       "0"
      ]
     },
     "execution_count": 92,
     "metadata": {},
     "output_type": "execute_result"
    }
   ],
   "source": [
    "p.addUserDebugLine(robot.x.tolist(), (targets_down[1]).tolist(), lineColorRGB=(1,0,0))"
   ]
  },
  {
   "cell_type": "markdown",
   "metadata": {},
   "source": [
    "### Targets on the top"
   ]
  },
  {
   "cell_type": "code",
   "execution_count": 93,
   "metadata": {
    "ExecuteTime": {
     "end_time": "2020-12-16T21:17:35.778933Z",
     "start_time": "2020-12-16T21:17:35.677227Z"
    }
   },
   "outputs": [],
   "source": [
    "R = w2mat(quat2w(euler2quat([0,-10,0.])))"
   ]
  },
  {
   "cell_type": "code",
   "execution_count": 94,
   "metadata": {
    "ExecuteTime": {
     "end_time": "2020-12-16T21:17:36.760329Z",
     "start_time": "2020-12-16T21:17:35.828799Z"
    }
   },
   "outputs": [],
   "source": [
    "zs = np.arange(0.55,0.61, 0.05) + 0.2\n",
    "\n",
    "x = x_board + 0.27\n",
    "targets_up = []\n",
    "target_ids = []\n",
    "offset = 0.03\n",
    "for y in ys:\n",
    "    offset_x = 0.\n",
    "    for z in zs:\n",
    "        target = np.array([x+offset_x, y,z])\n",
    "        targets_up += [target]\n",
    "        _,_,target_id = create_primitives(p.GEOM_BOX, halfExtents=(0.03, 0.01, 0.01), rgbaColor=(0,1,0,1), baseMass=0)\n",
    "        target_ids += [target_id]\n",
    "        p.resetBasePositionAndOrientation(target_id, targets_up[-1], (0,0,0,1))\n",
    "        targets_up[-1] += (R@np.array([1,0,0]))*offset\n",
    "        offset_x -= 0.03\n",
    "\n",
    "targets_up = np.array(targets_up)"
   ]
  },
  {
   "cell_type": "code",
   "execution_count": 95,
   "metadata": {
    "ExecuteTime": {
     "end_time": "2020-12-16T21:17:37.906265Z",
     "start_time": "2020-12-16T21:17:37.797534Z"
    }
   },
   "outputs": [],
   "source": [
    "for target_id in target_ids:\n",
    "    p.resetBasePositionAndOrientation(target_id,posObj=p.getBasePositionAndOrientation(target_id)[0], ornObj=euler2quat([0,-10,0.]).tolist())"
   ]
  },
  {
   "cell_type": "code",
   "execution_count": 96,
   "metadata": {
    "ExecuteTime": {
     "end_time": "2020-12-16T21:17:38.901247Z",
     "start_time": "2020-12-16T21:17:38.773589Z"
    }
   },
   "outputs": [
    {
     "data": {
      "text/plain": [
       "1"
      ]
     },
     "execution_count": 96,
     "metadata": {},
     "output_type": "execute_result"
    }
   ],
   "source": [
    "p.addUserDebugLine(robot.x.tolist(), (targets_up[0]).tolist(), lineColorRGB=(0,0,1))"
   ]
  },
  {
   "cell_type": "markdown",
   "metadata": {
    "heading_collapsed": true
   },
   "source": [
    "### Try IK "
   ]
  },
  {
   "cell_type": "code",
   "execution_count": null,
   "metadata": {
    "ExecuteTime": {
     "end_time": "2020-12-16T19:25:14.634329Z",
     "start_time": "2020-12-16T19:25:14.313075Z"
    },
    "hidden": true
   },
   "outputs": [],
   "source": [
    "robot.reset_q()\n"
   ]
  },
  {
   "cell_type": "code",
   "execution_count": null,
   "metadata": {
    "ExecuteTime": {
     "end_time": "2020-12-16T19:25:15.244726Z",
     "start_time": "2020-12-16T19:25:15.137977Z"
    },
    "hidden": true
   },
   "outputs": [],
   "source": [
    "robot.rotation = \"quat\""
   ]
  },
  {
   "cell_type": "code",
   "execution_count": null,
   "metadata": {
    "ExecuteTime": {
     "end_time": "2020-12-16T19:25:15.600319Z",
     "start_time": "2020-12-16T19:25:15.489613Z"
    },
    "hidden": true
   },
   "outputs": [],
   "source": [
    "p.resetBasePositionAndOrientation(board_id, (x_board,-1.7,-.41), quat)"
   ]
  },
  {
   "cell_type": "code",
   "execution_count": null,
   "metadata": {
    "ExecuteTime": {
     "end_time": "2020-12-16T19:25:31.660421Z",
     "start_time": "2020-12-16T19:25:29.815378Z"
    },
    "hidden": true
   },
   "outputs": [],
   "source": [
    "robot.ik(targets_down[2], orn_des=np.array([0,2.16,0.]) , K=2)"
   ]
  },
  {
   "cell_type": "code",
   "execution_count": null,
   "metadata": {
    "ExecuteTime": {
     "end_time": "2020-12-16T19:25:31.770621Z",
     "start_time": "2020-12-16T19:25:31.661383Z"
    },
    "hidden": true
   },
   "outputs": [],
   "source": [
    "euler2quat([0,2.16,0.])"
   ]
  },
  {
   "cell_type": "code",
   "execution_count": null,
   "metadata": {
    "ExecuteTime": {
     "end_time": "2020-12-16T19:25:32.334111Z",
     "start_time": "2020-12-16T19:25:32.225402Z"
    },
    "hidden": true
   },
   "outputs": [],
   "source": [
    "robot.orn"
   ]
  },
  {
   "cell_type": "code",
   "execution_count": null,
   "metadata": {
    "ExecuteTime": {
     "end_time": "2020-12-16T19:25:37.948148Z",
     "start_time": "2020-12-16T19:25:36.112946Z"
    },
    "hidden": true
   },
   "outputs": [],
   "source": [
    "robot.ik(targets_up[2], orn_des=np.array([0,1.029,0.]) , K=2)"
   ]
  },
  {
   "cell_type": "code",
   "execution_count": null,
   "metadata": {
    "ExecuteTime": {
     "end_time": "2020-12-16T19:25:45.431407Z",
     "start_time": "2020-12-16T19:25:43.544969Z"
    },
    "hidden": true
   },
   "outputs": [],
   "source": [
    "robot.ik(targets_mid[7], orn_des=np.array([0,np.pi/2,0]) , K=20)"
   ]
  },
  {
   "cell_type": "code",
   "execution_count": 97,
   "metadata": {
    "ExecuteTime": {
     "end_time": "2020-12-16T21:17:58.199935Z",
     "start_time": "2020-12-16T21:17:58.085218Z"
    },
    "hidden": true
   },
   "outputs": [],
   "source": [
    "targets_x = {'up': targets_up,\n",
    "               'mid': targets_mid,\n",
    "               'down': targets_down}\n",
    "targets_orn = {'up': euler2quat([0,1.029,0.]),\n",
    "               'mid': euler2quat([0,np.pi/2,0]),\n",
    "               'down': euler2quat([0,2.16,0.])}\n",
    "R = {'up': w2mat(quat2w(euler2quat([0,10,0.]))),\n",
    "     'mid':np.eye(3),\n",
    "     'down':w2mat(quat2w(euler2quat([0,-10,0.])))\n",
    "    }"
   ]
  },
  {
   "cell_type": "code",
   "execution_count": 98,
   "metadata": {
    "ExecuteTime": {
     "end_time": "2020-12-16T21:17:59.573235Z",
     "start_time": "2020-12-16T21:17:59.453556Z"
    },
    "hidden": true
   },
   "outputs": [],
   "source": [
    "np.save('targets_x',targets_x, allow_pickle=True)"
   ]
  },
  {
   "cell_type": "code",
   "execution_count": 99,
   "metadata": {
    "ExecuteTime": {
     "end_time": "2020-12-16T21:17:59.883406Z",
     "start_time": "2020-12-16T21:17:59.757743Z"
    },
    "hidden": true
   },
   "outputs": [],
   "source": [
    "np.save('targets_orn',targets_orn, allow_pickle=True)"
   ]
  },
  {
   "cell_type": "code",
   "execution_count": 100,
   "metadata": {
    "ExecuteTime": {
     "end_time": "2020-12-16T21:18:00.073239Z",
     "start_time": "2020-12-16T21:17:59.958207Z"
    },
    "hidden": true
   },
   "outputs": [],
   "source": [
    "np.save('rotation_axes', R, allow_pickle=True)"
   ]
  },
  {
   "cell_type": "markdown",
   "metadata": {
    "heading_collapsed": true,
    "hidden": true
   },
   "source": [
    "#### check savings"
   ]
  },
  {
   "cell_type": "code",
   "execution_count": null,
   "metadata": {
    "ExecuteTime": {
     "end_time": "2020-12-16T19:25:54.192882Z",
     "start_time": "2020-12-16T19:25:54.073202Z"
    },
    "hidden": true
   },
   "outputs": [],
   "source": [
    "np.load('targets_orn.npy', allow_pickle=True)"
   ]
  },
  {
   "cell_type": "markdown",
   "metadata": {},
   "source": [
    "### Check the joint positions after IK solution"
   ]
  },
  {
   "cell_type": "code",
   "execution_count": null,
   "metadata": {
    "ExecuteTime": {
     "end_time": "2020-12-16T19:36:15.358565Z",
     "start_time": "2020-12-16T19:36:15.250265Z"
    }
   },
   "outputs": [],
   "source": [
    "qs = np.load(\"good_q.npy\", allow_pickle=True)"
   ]
  },
  {
   "cell_type": "code",
   "execution_count": null,
   "metadata": {
    "ExecuteTime": {
     "end_time": "2020-12-16T19:36:27.061683Z",
     "start_time": "2020-12-16T19:36:26.952003Z"
    }
   },
   "outputs": [],
   "source": [
    "hole_nb =0\n",
    "sample = 0"
   ]
  },
  {
   "cell_type": "code",
   "execution_count": null,
   "metadata": {
    "ExecuteTime": {
     "end_time": "2020-12-16T19:36:16.354888Z",
     "start_time": "2020-12-16T19:36:16.251195Z"
    }
   },
   "outputs": [],
   "source": [
    "hole_nb += 1"
   ]
  },
  {
   "cell_type": "code",
   "execution_count": null,
   "metadata": {
    "ExecuteTime": {
     "end_time": "2020-12-16T19:36:59.681542Z",
     "start_time": "2020-12-16T19:36:59.568264Z"
    }
   },
   "outputs": [],
   "source": [
    "sample += 1\n",
    "robot.set_q_(qs[hole_nb, sample])"
   ]
  },
  {
   "cell_type": "code",
   "execution_count": null,
   "metadata": {},
   "outputs": [],
   "source": []
  }
 ],
 "metadata": {
  "kernelspec": {
   "display_name": "Python 3",
   "language": "python",
   "name": "python3"
  },
  "language_info": {
   "codemirror_mode": {
    "name": "ipython",
    "version": 3
   },
   "file_extension": ".py",
   "mimetype": "text/x-python",
   "name": "python",
   "nbconvert_exporter": "python",
   "pygments_lexer": "ipython3",
   "version": "3.7.6"
  },
  "latex_envs": {
   "LaTeX_envs_menu_present": true,
   "autoclose": false,
   "autocomplete": true,
   "bibliofile": "biblio.bib",
   "cite_by": "apalike",
   "current_citInitial": 1,
   "eqLabelWithNumbers": true,
   "eqNumInitial": 1,
   "hotkeys": {
    "equation": "Ctrl-E",
    "itemize": "Ctrl-I"
   },
   "labels_anchors": false,
   "latex_user_defs": false,
   "report_style_numbering": false,
   "user_envs_cfg": false
  },
  "toc": {
   "base_numbering": 1,
   "nav_menu": {},
   "number_sections": true,
   "sideBar": true,
   "skip_h1_title": false,
   "title_cell": "Table of Contents",
   "title_sidebar": "Contents",
   "toc_cell": false,
   "toc_position": {},
   "toc_section_display": true,
   "toc_window_display": false
  },
  "varInspector": {
   "cols": {
    "lenName": 16,
    "lenType": 16,
    "lenVar": 40
   },
   "kernels_config": {
    "python": {
     "delete_cmd_postfix": "",
     "delete_cmd_prefix": "del ",
     "library": "var_list.py",
     "varRefreshCmd": "print(var_dic_list())"
    },
    "r": {
     "delete_cmd_postfix": ") ",
     "delete_cmd_prefix": "rm(",
     "library": "var_list.r",
     "varRefreshCmd": "cat(var_dic_list()) "
    }
   },
   "types_to_exclude": [
    "module",
    "function",
    "builtin_function_or_method",
    "instance",
    "_Feature"
   ],
   "window_display": false
  }
 },
 "nbformat": 4,
 "nbformat_minor": 4
}

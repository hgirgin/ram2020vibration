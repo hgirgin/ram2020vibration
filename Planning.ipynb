{
 "cells": [
  {
   "cell_type": "code",
   "execution_count": 4,
   "metadata": {
    "ExecuteTime": {
     "end_time": "2020-10-12T09:28:02.851458Z",
     "start_time": "2020-10-12T09:28:02.704218Z"
    },
    "scrolled": true
   },
   "outputs": [
    {
     "name": "stdout",
     "output_type": "stream",
     "text": [
      "The autoreload extension is already loaded. To reload it, use:\n",
      "  %reload_ext autoreload\n"
     ]
    }
   ],
   "source": [
    "import matplotlib.pyplot as plt\n",
    "import numpy as np\n",
    "import time\n",
    "from IPython.display import clear_output\n",
    "import os\n",
    "\n",
    "import scipy\n",
    "import matplotlib\n",
    "\n",
    "from robot import *\n",
    "from utils import *\n",
    "import pybullet as p\n",
    "import pybullet_data\n",
    "import networkx as nx\n",
    "from functools import partial\n",
    "\n",
    "#import tf_robot_learning as rl\n",
    "\n",
    "%load_ext autoreload\n",
    "%autoreload 2"
   ]
  },
  {
   "cell_type": "markdown",
   "metadata": {},
   "source": [
    "### Setup Pybullet"
   ]
  },
  {
   "cell_type": "code",
   "execution_count": 5,
   "metadata": {
    "ExecuteTime": {
     "end_time": "2020-10-12T09:28:05.105060Z",
     "start_time": "2020-10-12T09:28:04.120032Z"
    }
   },
   "outputs": [],
   "source": [
    "physics_client_id = p.connect(p.GUI)\n",
    "p.setPhysicsEngineParameter(enableFileCaching=0)\n",
    "p.setAdditionalSearchPath(pybullet_data.getDataPath())\n",
    "\n",
    "p.configureDebugVisualizer(p.COV_ENABLE_GUI,0)\n"
   ]
  },
  {
   "cell_type": "code",
   "execution_count": 6,
   "metadata": {
    "ExecuteTime": {
     "end_time": "2020-10-12T09:28:05.355259Z",
     "start_time": "2020-10-12T09:28:05.231030Z"
    }
   },
   "outputs": [],
   "source": [
    "p.resetSimulation()"
   ]
  },
  {
   "cell_type": "markdown",
   "metadata": {},
   "source": [
    "### Setup Robot"
   ]
  },
  {
   "cell_type": "code",
   "execution_count": 7,
   "metadata": {
    "ExecuteTime": {
     "end_time": "2020-10-12T09:28:08.392279Z",
     "start_time": "2020-10-12T09:28:06.581356Z"
    }
   },
   "outputs": [],
   "source": [
    "robot_urdf = 'urdf/frankaemika_new/panda_arm_rivet.urdf';\n",
    "robot_id = p.loadURDF(fileName=robot_urdf)\n",
    "dof = p.getNumJoints(robot_id)\n",
    "\n",
    "plane_id = p.loadURDF('plane.urdf')\n",
    "pb_joint_indices = np.arange(7)\n",
    "joint_limits = get_joint_limits(robot_id, pb_joint_indices)\n",
    "\n",
    "\n",
    "set_q_std = partial(set_q,robot_id, pb_joint_indices)\n",
    "\n",
    "vis_traj_std = partial(vis_traj, vis_func= set_q_std)"
   ]
  },
  {
   "cell_type": "markdown",
   "metadata": {},
   "source": [
    "### Setup Obstacles"
   ]
  },
  {
   "cell_type": "code",
   "execution_count": 8,
   "metadata": {
    "ExecuteTime": {
     "end_time": "2020-10-12T09:28:12.328627Z",
     "start_time": "2020-10-12T09:28:09.564290Z"
    }
   },
   "outputs": [],
   "source": [
    "is_simple = False\n",
    "obs_ids = []\n",
    "rgbacolor = (0,0,1,0)\n",
    "if is_simple:\n",
    "    _,_,board_id = create_primitives(p.GEOM_BOX, halfExtents=(0.02, 0.5, 0.3))\n",
    "    p.resetBasePositionAndOrientation(board_id, (0.6, 0., 0.6), (0,0,0,1))\n",
    "    obs_ids = [board_id]\n",
    "else:\n",
    "    board_id = p.loadURDF('urdf/support.urdf', globalScaling=0.001)\n",
    "    quat = w2quat(np.array([0,0,-np.pi/2]))\n",
    "    p.resetBasePositionAndOrientation(board_id, (0.6,-2.2,-.6), quat)\n",
    "    \n",
    "    offset = 0.\n",
    "    #p.resetBasePositionAndOrientation(board_id, (0.50,-2.18,-.62), quat)\n",
    "\n",
    "    _,_,main_board_id = create_primitives(p.GEOM_BOX, halfExtents=(0.02, 0.7, 0.25), rgbaColor=rgbacolor)\n",
    "    p.resetBasePositionAndOrientation(main_board_id, (0.75-offset, -0.1, 0.67), (0,0,0,1))\n",
    "    obs_ids += [main_board_id]\n",
    "    \n",
    "    _,_,bottom_board_id = create_primitives(p.GEOM_BOX, halfExtents=(0.15, 0.7, 0.02), rgbaColor=rgbacolor)\n",
    "\n",
    "    p.resetBasePositionAndOrientation(bottom_board_id, (0.60-offset, -0.1, 0.44), (0,0,0,1))\n",
    "    obs_ids += [bottom_board_id]\n",
    "\n",
    "    _,_,top_board_id = create_primitives(p.GEOM_BOX, halfExtents=(0.17, 0.7, 0.02), rgbaColor=rgbacolor)\n",
    "\n",
    "    p.resetBasePositionAndOrientation(top_board_id, (0.59-offset, -0.1, 0.9), (0,0,0,1))\n",
    "    obs_ids += [top_board_id]\n",
    "\n",
    "    _,_,middle_board_id = create_primitives(p.GEOM_BOX, halfExtents=(0.17, 0.02, 0.25), rgbaColor=rgbacolor)\n",
    "\n",
    "    p.resetBasePositionAndOrientation(middle_board_id, (0.59-offset, -0.08, 0.67), (0,0,0,1))\n",
    "    obs_ids += [middle_board_id]\n",
    "\n",
    "    _,_,left_board_id = create_primitives(p.GEOM_BOX, halfExtents=(0.17, 0.02, 0.25), rgbaColor=rgbacolor)\n",
    "\n",
    "    p.resetBasePositionAndOrientation(left_board_id, (0.59-offset, 0.6, 0.67), (0,0,0,1))\n",
    "    obs_ids += [left_board_id]\n",
    "\n",
    "    _,_,right_board_id = create_primitives(p.GEOM_BOX, halfExtents=(0.17, 0.02, 0.25), rgbaColor=rgbacolor)\n",
    "\n",
    "    p.resetBasePositionAndOrientation(right_board_id, (0.59-offset, -0.75, 0.67), (0,0,0,1))\n",
    "    obs_ids += [right_board_id]"
   ]
  },
  {
   "cell_type": "markdown",
   "metadata": {},
   "source": [
    "### Setup targets"
   ]
  },
  {
   "cell_type": "code",
   "execution_count": 9,
   "metadata": {
    "ExecuteTime": {
     "end_time": "2020-10-12T09:28:36.280880Z",
     "start_time": "2020-10-12T09:28:31.523600Z"
    }
   },
   "outputs": [],
   "source": [
    "#ys = np.arange(-0.45, 0.46, 0.20)\n",
    "ys = np.array([ -0.55, -0.5, -0.45, -0.4, -0.35, -0.3, -0.25, -0.2,  0.15, 0.2, 0.25, 0.3, 0.35, 0.4])\n",
    "zs = np.arange(0.55, 0.81, 0.05)\n",
    "#ys = np.array([-0.45, -0.25,  0.15,  0.35])\n",
    "#zs = np.arange(0.6, 0.81, 0.1)\n",
    "x = 0.6\n",
    "targets = []\n",
    "offset = -0.05\n",
    "for y in ys:\n",
    "    for z in zs:\n",
    "        target = np.array([x, y,z])\n",
    "        targets += [target]\n",
    "        _,_,target_id = create_primitives(p.GEOM_BOX, halfExtents=(0.03, 0.01, 0.01), rgbaColor=(1,0,0,1))\n",
    "        p.resetBasePositionAndOrientation(target_id, targets[-1], (0,0,0,1))\n",
    "        targets[-1][0] += offset\n",
    "\n",
    "targets = np.array(targets)"
   ]
  },
  {
   "cell_type": "markdown",
   "metadata": {},
   "source": [
    "### RRT"
   ]
  },
  {
   "cell_type": "code",
   "execution_count": 10,
   "metadata": {
    "ExecuteTime": {
     "end_time": "2020-10-12T09:28:40.675389Z",
     "start_time": "2020-10-12T09:28:40.534801Z"
    }
   },
   "outputs": [],
   "source": [
    "rob_sampler = sampler(joint_limits)\n",
    "rob_col_checker = col_checker(robot_id, pb_joint_indices, [ plane_id] + obs_ids)\n",
    "rob_interpolator = interpolator()"
   ]
  },
  {
   "cell_type": "code",
   "execution_count": 11,
   "metadata": {
    "ExecuteTime": {
     "end_time": "2020-10-12T09:28:41.436144Z",
     "start_time": "2020-10-12T09:28:41.305785Z"
    }
   },
   "outputs": [],
   "source": [
    "rrt = BiRRT(7, rob_sampler, rob_col_checker, rob_interpolator)"
   ]
  },
  {
   "cell_type": "raw",
   "metadata": {},
   "source": [
    "start_state = rrt.sample(True).flatten()\n",
    "end_state = rrt.sample(True).flatten()\n",
    "traj,_,_ = rrt.plan(start_state,end_state)\n",
    "shortpath = rrt.shortcut_path(traj)\n",
    "shorttraj = rrt.interpolate_traj(shortpath, traj)\n",
    "for q in shorttraj:\n",
    "    set_q_std(q)\n",
    "    time.sleep(0.05)"
   ]
  },
  {
   "cell_type": "markdown",
   "metadata": {},
   "source": [
    "#### Setup IK solver"
   ]
  },
  {
   "cell_type": "code",
   "execution_count": 12,
   "metadata": {
    "ExecuteTime": {
     "end_time": "2020-10-12T09:28:50.093625Z",
     "start_time": "2020-10-12T09:28:49.959240Z"
    }
   },
   "outputs": [],
   "source": [
    "class CostProjector():\n",
    "    def __init__(self, cost):\n",
    "        self.cost = cost\n",
    "    \n",
    "    def project(self, q, ftol = 1e-12, gtol = 1e-12, disp = 1, maxiter = 1000 ):\n",
    "        #update the variables\n",
    "        self.cost.reset_iter()\n",
    "\n",
    "        status = False\n",
    "        res = minimize(self.cost.calc,q,method='l-bfgs-b', jac=self.cost.calcDiff,  options={'ftol':ftol, 'gtol':gtol, 'disp':disp, 'maxiter':maxiter})      \n",
    "        res = {'stat':status, 'q':  self.cost.qs[-1], 'qs': self.cost.qs, 'nfev': self.cost.nfev, 'feval': self.cost.feval}\n",
    "        return res"
   ]
  },
  {
   "cell_type": "markdown",
   "metadata": {},
   "source": [
    "#### Load model in pinocchio"
   ]
  },
  {
   "cell_type": "code",
   "execution_count": 13,
   "metadata": {
    "ExecuteTime": {
     "end_time": "2020-10-12T09:28:53.393912Z",
     "start_time": "2020-10-12T09:28:53.248057Z"
    }
   },
   "outputs": [],
   "source": [
    "robot_urdf = 'urdf/frankaemika_new/panda_arm_franka.urdf';\n",
    "rmodel = pin.buildModelFromUrdf(robot_urdf)\n",
    "rdata = rmodel.createData()\n",
    "\n",
    "pin_frame_names = [f.name for f in rmodel.frames]\n",
    "ee_frame_id = rmodel.getFrameId('panda_grasptarget_hand')\n",
    "pb_ee_frame_id = 7"
   ]
  },
  {
   "cell_type": "markdown",
   "metadata": {},
   "source": [
    "#### Set IK Solver"
   ]
  },
  {
   "cell_type": "code",
   "execution_count": 14,
   "metadata": {
    "ExecuteTime": {
     "end_time": "2020-10-12T09:28:55.201604Z",
     "start_time": "2020-10-12T09:28:55.041892Z"
    }
   },
   "outputs": [],
   "source": [
    "x = np.array([0.4,0.2,0.4])\n",
    "w = np.array([0.,np.pi/2,0.])\n",
    "pose = np.concatenate((x,w))\n",
    "\n",
    "#define joint limit cost\n",
    "bound_cost = CostBound(joint_limits)\n",
    "#define pose cost\n",
    "pos_cost = CostFrame(rmodel, rdata, pose, ee_frame_id, np.array([1,1,1,1,1,1]))\n",
    "\n",
    "#Define IK solver\n",
    "cost_sum_ik = CostSum()\n",
    "cost_sum_ik.addCost(pos_cost, 50., 'pose_cost', 1e-12)\n",
    "cost_sum_ik.addCost(bound_cost, 100., 'joint_limit', 1e-12)\n",
    "ik_solver = CostProjector(cost_sum_ik)"
   ]
  },
  {
   "cell_type": "markdown",
   "metadata": {},
   "source": [
    "# Load Data"
   ]
  },
  {
   "cell_type": "raw",
   "metadata": {},
   "source": [
    "data = np.load('rivetting_data2.npy')\n",
    "qs = data['qs']\n",
    "targets = data['targets']\n",
    "w = data['w']"
   ]
  },
  {
   "cell_type": "code",
   "execution_count": 15,
   "metadata": {
    "ExecuteTime": {
     "end_time": "2020-10-12T09:28:59.249247Z",
     "start_time": "2020-10-12T09:28:59.101597Z"
    }
   },
   "outputs": [],
   "source": [
    "data = np.load('data/data_holes.npy', allow_pickle=True)[()]"
   ]
  },
  {
   "cell_type": "code",
   "execution_count": 16,
   "metadata": {
    "ExecuteTime": {
     "end_time": "2020-10-12T09:28:59.901863Z",
     "start_time": "2020-10-12T09:28:59.772269Z"
    }
   },
   "outputs": [],
   "source": [
    "targets = data['targets']\n",
    "\n",
    "qs_raw = data['q']\n",
    "\n",
    "disp = np.linalg.norm(data['disp'], axis=2)\n",
    "disp = data['disp'][:,:,0]"
   ]
  },
  {
   "cell_type": "markdown",
   "metadata": {},
   "source": [
    "#### Filter the data"
   ]
  },
  {
   "cell_type": "code",
   "execution_count": 17,
   "metadata": {
    "ExecuteTime": {
     "end_time": "2020-10-12T09:29:28.603557Z",
     "start_time": "2020-10-12T09:29:03.378694Z"
    }
   },
   "outputs": [],
   "source": [
    "qs = []\n",
    "disps = []\n",
    "count_col = 0\n",
    "for i,qset in enumerate(qs_raw):\n",
    "    qlist = []\n",
    "    displist = []\n",
    "    for j,q in enumerate(qset):\n",
    "        if rob_col_checker.check_collision(q) is False:\n",
    "            qlist += [q]\n",
    "            displist += [disp[i][j]*1000]\n",
    "        else:\n",
    "            count_col += 1 \n",
    "            print('Collision',count_col)\n",
    "    qlist = np.array(qlist)\n",
    "    displist = np.array(displist)\n",
    "\n",
    "    qs += [qlist]\n",
    "    disps += [displist]\n",
    "clear_output()"
   ]
  },
  {
   "cell_type": "markdown",
   "metadata": {},
   "source": [
    "#### Visualize the data"
   ]
  },
  {
   "cell_type": "raw",
   "metadata": {},
   "source": [
    "for qset in qs:\n",
    "    for q in qset[:20]:\n",
    "        set_q_std(q)\n",
    "        time.sleep(0.02)\n",
    "    input()"
   ]
  },
  {
   "cell_type": "markdown",
   "metadata": {},
   "source": [
    "### Construct Graph & Solve TSP"
   ]
  },
  {
   "cell_type": "code",
   "execution_count": 15,
   "metadata": {},
   "outputs": [],
   "source": [
    "from rtsp import *"
   ]
  },
  {
   "cell_type": "code",
   "execution_count": 16,
   "metadata": {},
   "outputs": [],
   "source": [
    "graph = from_coordinate_list(targets, euclidean_metric)\n",
    "\n",
    "path = two_opt(graph)"
   ]
  },
  {
   "cell_type": "markdown",
   "metadata": {},
   "source": [
    "### Construct the c-space graph"
   ]
  },
  {
   "cell_type": "code",
   "execution_count": 17,
   "metadata": {},
   "outputs": [],
   "source": [
    "max_config = 50\n",
    "\n",
    "q_init = np.array([ 0.73170025, -1.10558688,  0.22936525, -2.28523573, -1.07928728,\n",
    "        2.17303381, -1.24231352])[None,:]"
   ]
  },
  {
   "cell_type": "code",
   "execution_count": 18,
   "metadata": {},
   "outputs": [],
   "source": [
    "class time_struct():\n",
    "    def __init__(self):\n",
    "        self.select_config = 0\n",
    "        self.plan = 0\n",
    "        self.postplan = 0"
   ]
  },
  {
   "cell_type": "code",
   "execution_count": 19,
   "metadata": {},
   "outputs": [],
   "source": [
    "def plan_motion(q_init, path, qs, disps, max_config, w_disp = 20, max_try = 20):\n",
    "    comp_time = time_struct()\n",
    "    tic = time.time()\n",
    "    print('Obtaining configurations in the required order')\n",
    "    qs_new = [q_init]\n",
    "    disps_new = [np.array([0])]\n",
    "    for idx in path:\n",
    "        qs_new += [qs[idx][:max_config]]\n",
    "        disps_new += [disps[idx][:max_config]]\n",
    "    qs_new += [q_init]\n",
    "    disps_new += [np.array([0])]\n",
    "    \n",
    "    print(\"Construct cgraph\")\n",
    "    cgraph = construct_cgraph(qs_new, disps_new, w_disp = w_disp)\n",
    "    \n",
    "    print('Plan configuration path')\n",
    "    cpath = nx.dijkstra_path(cgraph, 0, len(cgraph.nodes()) - 1)\n",
    "    traj, total_disp = extract_traj(cgraph, cpath)\n",
    "    clear_output()\n",
    "    toc = time.time()\n",
    "    \n",
    "    comp_time.select_config = toc-tic\n",
    "    comp_time.plan = 0\n",
    "    comp_time.postplan = 0\n",
    "    \n",
    "    print('Plan motion')\n",
    "    trajs = []\n",
    "    total_dist = 0\n",
    "    for i in range(0,len(cpath)-1):\n",
    "        q = cgraph.nodes[cpath[i]]['value']\n",
    "        qn = cgraph.nodes[cpath[i+1]]['value']\n",
    "        tic = time.time()\n",
    "        traj,_,_ = rrt.plan(q,qn)\n",
    "        toc = time.time()\n",
    "        comp_time.plan += toc-tic\n",
    "        shortpath = rrt.shortcut_path(traj, max_try = max_try)\n",
    "        shorttraj = np.array(traj)[shortpath]\n",
    "        shortpath2 = rrt.shortcut_path_old(shorttraj,step_length=0.05)\n",
    "        shorttraj2 = rrt.interpolate_traj(shortpath2, shorttraj)\n",
    "        toc2 = time.time()\n",
    "        comp_time.postplan += toc2-toc\n",
    "        trajs += [shorttraj2]\n",
    "        total_dist += calc_dist(shorttraj2)\n",
    "        clear_output()\n",
    "\n",
    "    clear_output()\n",
    "    print('Planning time:{}, {}, {}'.format(comp_time.select_config, comp_time.plan, comp_time.postplan))\n",
    "    return trajs, total_dist, total_disp, comp_time"
   ]
  },
  {
   "cell_type": "code",
   "execution_count": 20,
   "metadata": {},
   "outputs": [],
   "source": [
    "def plan_motion_max(q_init, path, qs, disps, max_config, w_disp = 0.3, max_try = 20):\n",
    "    comp_time = time_struct()\n",
    "    tic = time.time()\n",
    "    print('Obtaining configurations that minimizes d') \n",
    "    qs_new = [q_init[0]]\n",
    "    disps_new = [np.array([0])]\n",
    "    total_disp = 0\n",
    "    for idx in path:\n",
    "        disp = disps[idx]\n",
    "        idx_min = np.argmin(disp[:max_config])\n",
    "        total_disp += disp[idx_min]\n",
    "        qs_new += [qs[idx][idx_min]]\n",
    "        disps_new += [disps[idx][idx_min]]\n",
    "    disps_new += [np.array([0])]\n",
    "    qs_new += [q_init[0]]\n",
    "    toc = time.time()\n",
    "\n",
    "    comp_time.select_config = toc-tic\n",
    "    comp_time.plan = 0\n",
    "    comp_time.postplan = 0\n",
    "\n",
    "    \n",
    "    clear_output()\n",
    "    print('Plan the motion')\n",
    "    trajs = []\n",
    "    total_dist = 0\n",
    "    for i in range(len(path)-1):\n",
    "        q = qs_new[i]\n",
    "        qn = qs_new[i+1]\n",
    "        tic = time.time()\n",
    "        traj,_,_ = rrt.plan(q,qn)\n",
    "        toc = time.time()\n",
    "        comp_time.plan += toc-tic\n",
    "        \n",
    "        shortpath = rrt.shortcut_path(traj, max_try = max_try)\n",
    "        shorttraj = np.array(traj)[shortpath]\n",
    "        shortpath2 = rrt.shortcut_path_old(shorttraj,step_length=0.05)\n",
    "        shorttraj2 = rrt.interpolate_traj(shortpath2, shorttraj)\n",
    "        #shorttraj2 = rrt.interpolate_traj(shortpath, traj)\n",
    "        toc2 = time.time()\n",
    "        comp_time.postplan += toc2-toc\n",
    "        trajs += [shorttraj2]\n",
    "        total_dist += calc_dist(shorttraj2)\n",
    "        clear_output()\n",
    "\n",
    "\n",
    "    clear_output()\n",
    "    print('Planning time:{}, {}, {}'.format(comp_time.select_config, comp_time.plan, comp_time.postplan))\n",
    "    return trajs, total_dist, total_disp, comp_time"
   ]
  },
  {
   "cell_type": "markdown",
   "metadata": {},
   "source": [
    "#### Determine the weight"
   ]
  },
  {
   "cell_type": "raw",
   "metadata": {},
   "source": [
    "ws = [10, 100, 1000, 5000]\n",
    "rtsp_fixed_dists = dict()\n",
    "rtsp_fixed_disps = dict()\n",
    "rtsp_fixed_trajs = dict()\n",
    "rtsp_fixed_time = dict()"
   ]
  },
  {
   "cell_type": "raw",
   "metadata": {},
   "source": [
    "ws = [2000]\n",
    "for n in ws:\n",
    "    rtsp_fixed_trajs[n], rtsp_fixed_dists[n], rtsp_fixed_disps[n], rtsp_fixed_time[n] = plan_motion(q_init, np.arange(len(path)), qs, disps, 100, w_disp = n)"
   ]
  },
  {
   "cell_type": "raw",
   "metadata": {},
   "source": [
    "for traj in rtsp_fixed_trajs[2000]:\n",
    "    vis_traj_std(traj,dt=0.02)"
   ]
  },
  {
   "cell_type": "raw",
   "metadata": {},
   "source": [
    "plt.plot(list(rtsp_fixed_dists.keys()), list(rtsp_fixed_dists.values()), '*')"
   ]
  },
  {
   "cell_type": "raw",
   "metadata": {},
   "source": [
    "plt.plot(list(rtsp_fixed_disps.keys()), list(rtsp_fixed_disps.values()), '*')"
   ]
  },
  {
   "cell_type": "markdown",
   "metadata": {},
   "source": [
    "#### Plan using RTSP"
   ]
  },
  {
   "cell_type": "code",
   "execution_count": 21,
   "metadata": {},
   "outputs": [],
   "source": [
    "num_configs = [1, 5, 10, 20, 50, 75, 100, 200]\n",
    "num_configs = num_configs[6:7]"
   ]
  },
  {
   "cell_type": "code",
   "execution_count": 22,
   "metadata": {},
   "outputs": [],
   "source": [
    "rtsp_fixed_dists = dict()\n",
    "rtsp_fixed_disps = dict()\n",
    "rtsp_fixed_trajs = dict()\n",
    "rtsp_fixed_time = dict()"
   ]
  },
  {
   "cell_type": "code",
   "execution_count": 23,
   "metadata": {},
   "outputs": [
    {
     "name": "stdout",
     "output_type": "stream",
     "text": [
      "Planning time:2.5477070808410645, 2.1790497303009033, 4.8677802085876465\n"
     ]
    }
   ],
   "source": [
    "for n in num_configs:\n",
    "    print('Planning with {} configs'.format(n))\n",
    "    rtsp_fixed_trajs[n], rtsp_fixed_dists[n], rtsp_fixed_disps[n], rtsp_fixed_time[n] = plan_motion(q_init, np.arange(len(path)), qs, disps, n, w_disp = 2000.)"
   ]
  },
  {
   "cell_type": "code",
   "execution_count": 230,
   "metadata": {},
   "outputs": [],
   "source": [
    "set_q_std(q_init[0])"
   ]
  },
  {
   "cell_type": "code",
   "execution_count": 231,
   "metadata": {},
   "outputs": [],
   "source": [
    "for traj in rtsp_fixed_trajs[100]:\n",
    "    vis_traj_std(traj,dt=0.02)\n",
    "    time.sleep(0.1)"
   ]
  },
  {
   "cell_type": "code",
   "execution_count": 75,
   "metadata": {},
   "outputs": [
    {
     "data": {
      "text/plain": [
       "(63.89606845773394, 0.0002451692914927692)"
      ]
     },
     "execution_count": 75,
     "metadata": {},
     "output_type": "execute_result"
    }
   ],
   "source": [
    "rtsp_fixed_dists[100], rtsp_fixed_disps[100]/84"
   ]
  },
  {
   "cell_type": "code",
   "execution_count": 92,
   "metadata": {},
   "outputs": [],
   "source": [
    "set_q_std(rtsp_fixed_trajs[n][1][0])"
   ]
  },
  {
   "cell_type": "code",
   "execution_count": 71,
   "metadata": {},
   "outputs": [],
   "source": [
    "rtsp_fixed_config_time = []\n",
    "rtsp_fixed_plan_time = []\n",
    "rtsp_fixed_postplan_time = []\n",
    "for n in num_configs:\n",
    "    rtsp_fixed_config_time += [rtsp_fixed_time[n].select_config]\n",
    "    rtsp_fixed_plan_time += [rtsp_fixed_time[n].plan]\n",
    "    rtsp_fixed_postplan_time += [rtsp_fixed_time[n].postplan]"
   ]
  },
  {
   "cell_type": "code",
   "execution_count": 72,
   "metadata": {},
   "outputs": [],
   "source": [
    "data = dict()\n",
    "data['rtsp_fixed'] = [rtsp_fixed_dists, rtsp_fixed_disps, rtsp_fixed_trajs, rtsp_fixed_config_time,rtsp_fixed_plan_time, rtsp_fixed_postplan_time ]\n",
    "data['num_configs'] = num_configs\n",
    "np.save('data/rivet_planning' + str(len(qs)) + '.npy', data, allow_pickle=True)"
   ]
  },
  {
   "cell_type": "markdown",
   "metadata": {},
   "source": [
    "#### Plan using Baseline"
   ]
  },
  {
   "cell_type": "code",
   "execution_count": 222,
   "metadata": {},
   "outputs": [
    {
     "name": "stdout",
     "output_type": "stream",
     "text": [
      "Planning time:0.0007295608520507812, 7.56900429725647, 34.09576916694641\n"
     ]
    }
   ],
   "source": [
    "selmax_dists = dict()\n",
    "selmax_disps = dict()\n",
    "selmax_trajs = dict()\n",
    "selmax_time  = dict()\n",
    "for n in num_configs:\n",
    "    print('Planning with {} configs'.format(n))\n",
    "    selmax_trajs[n], selmax_dists[n], selmax_disps[n], selmax_time[n] = plan_motion_max(q_init,  np.arange(len(path)), qs, disps, n)"
   ]
  },
  {
   "cell_type": "code",
   "execution_count": 232,
   "metadata": {},
   "outputs": [],
   "source": [
    "set_q_std(q_init[0])"
   ]
  },
  {
   "cell_type": "code",
   "execution_count": 233,
   "metadata": {},
   "outputs": [],
   "source": [
    "for traj in selmax_trajs[100]:\n",
    "    vis_traj_std(traj,dt=0.02)\n",
    "    time.sleep(0.1)"
   ]
  },
  {
   "cell_type": "code",
   "execution_count": 240,
   "metadata": {},
   "outputs": [
    {
     "data": {
      "image/png": "[encoded data removed]",
      "text/plain": [
       "<PIL.PngImagePlugin.PngImageFile image mode=RGB size=750x780 at 0x7F3B829D1400>"
      ]
     },
     "execution_count": 240,
     "metadata": {},
     "output_type": "execute_result"
    }
   ],
   "source": [
    "save_screenshot(150,300,900, 1200, 'try.png')"
   ]
  },
  {
   "cell_type": "code",
   "execution_count": 39,
   "metadata": {},
   "outputs": [
    {
     "name": "stdout",
     "output_type": "stream",
     "text": [
      "1 669.4416406827673 0.03358834725020188 63.089629888534546\n",
      "5 477.4983032134316 0.02469748207545308 38.259376525878906\n",
      "10 429.5098856074272 0.021454115358920944 31.973226070404053\n",
      "20 416.80077563122074 0.01957408373343128 36.82099986076355\n",
      "50 419.2487642347558 0.017989704396370598 35.77718639373779\n",
      "75 391.8141450395147 0.017361030760554286 31.973713874816895\n",
      "100 394.0534919731281 0.016791441975527732 28.959649085998535\n",
      "200 463.9406768627587 0.016082212514589855 35.65513300895691\n"
     ]
    }
   ],
   "source": [
    "for n in num_configs:\n",
    "    print(n, selmax_dists[n], selmax_disps[n], selmax_time[n].postplan)"
   ]
  },
  {
   "cell_type": "markdown",
   "metadata": {},
   "source": [
    "#### Plan using Random"
   ]
  },
  {
   "cell_type": "raw",
   "metadata": {},
   "source": [
    "selrandom_dists = dict()\n",
    "selrandom_disps = dict()\n",
    "selrandom_trajs = dict()\n",
    "selrandom_time  = dict()\n",
    "for n in num_configs:\n",
    "    print('Planning with {} configs'.format(n))\n",
    "    selrandom_trajs[n], selrandom_dists[n], selrandom_disps[n], selrandom_time[n] = plan_motion_random(q_init, path, qs, disps, n)"
   ]
  },
  {
   "cell_type": "markdown",
   "metadata": {},
   "source": [
    "#### Save Data"
   ]
  },
  {
   "cell_type": "code",
   "execution_count": 76,
   "metadata": {},
   "outputs": [],
   "source": [
    "rtsp_fixed_config_time = []\n",
    "rtsp_fixed_plan_time = []\n",
    "rtsp_fixed_postplan_time = []\n",
    "\n",
    "selmax_config_time = []\n",
    "selmax_plan_time = []\n",
    "selmax_postplan_time = []\n",
    "\n",
    "# selrandom_config_time = []\n",
    "# selrandom_plan_time = []\n",
    "# selrandom_postplan_time = []\n",
    "\n",
    "for n in num_configs:\n",
    "    rtsp_fixed_config_time += [rtsp_fixed_time[n].select_config]\n",
    "    rtsp_fixed_plan_time += [rtsp_fixed_time[n].plan]\n",
    "    rtsp_fixed_postplan_time += [rtsp_fixed_time[n].postplan]\n",
    "\n",
    "    selmax_config_time += [selmax_time[n].select_config]\n",
    "    selmax_plan_time += [selmax_time[n].plan]\n",
    "    selmax_postplan_time += [selmax_time[n].postplan]\n",
    "\n",
    "#     selrandom_config_time += [selrandom_time[n].select_config]\n",
    "#     selrandom_plan_time += [selrandom_time[n].plan]\n",
    "#     selrandom_postplan_time += [selrandom_time[n].postplan]\n",
    "rtsp_fixed_config_time = np.array(rtsp_fixed_config_time)\n",
    "rtsp_fixed_plan_time = np.array(rtsp_fixed_plan_time)\n",
    "rtsp_fixed_postplan_time = np.array(rtsp_fixed_postplan_time)\n",
    "\n",
    "selmax_config_time = np.array(selmax_config_time)\n",
    "selmax_plan_time = np.array(selmax_plan_time)\n",
    "selmax_postplan_time = np.array(selmax_postplan_time)"
   ]
  },
  {
   "cell_type": "code",
   "execution_count": 77,
   "metadata": {},
   "outputs": [],
   "source": [
    "data = dict()\n",
    "data['rtsp_fixed'] = [rtsp_fixed_dists, rtsp_fixed_disps, rtsp_fixed_trajs, rtsp_fixed_config_time,rtsp_fixed_plan_time, rtsp_fixed_postplan_time ]\n",
    "data['baseline'] = [selmax_dists, selmax_disps, selmax_trajs, selmax_config_time, selmax_plan_time, selmax_postplan_time]\n",
    "#data['random'] = [selrandom_dists, selrandom_disps, selrandom_trajs, selrandom_config_time, selrandom_plan_time, selrandom_postplan_time]\n",
    "data['num_configs'] = num_configs\n",
    "np.save('data/rivet_planning' + str(len(qs)) + '.npy', data, allow_pickle=True)"
   ]
  },
  {
   "cell_type": "markdown",
   "metadata": {},
   "source": [
    "#### Visualize"
   ]
  },
  {
   "cell_type": "code",
   "execution_count": 213,
   "metadata": {},
   "outputs": [],
   "source": [
    "for traj in rtsp_fixed_trajs[20]:\n",
    "    vis_traj_std(traj,dt=0.02)\n",
    "    time.sleep(0.1)"
   ]
  },
  {
   "cell_type": "markdown",
   "metadata": {},
   "source": [
    "## Comparison"
   ]
  },
  {
   "cell_type": "markdown",
   "metadata": {},
   "source": [
    "### Follow the hole ordering & Select the lowest displacement"
   ]
  },
  {
   "cell_type": "raw",
   "metadata": {},
   "source": [
    "### Iterate the planning"
   ]
  },
  {
   "cell_type": "raw",
   "metadata": {},
   "source": [
    "targets_configs = np.zeros((len(targets), 7))\n",
    "for i,idx in enumerate(path):\n",
    "    targets_configs[idx] = traj[i+1]\n",
    "#check\n",
    "for i in range(len(targets_configs)):\n",
    "    set_q_std(targets_configs[i])\n",
    "    time.sleep(0.1)\n",
    "    set_q_std(qs[i][0])\n",
    "    time.sleep(0.1)"
   ]
  },
  {
   "cell_type": "raw",
   "metadata": {},
   "source": [
    "graph2 = from_coordinate_list(targets_configs, euclidean_metric)\n",
    "path2 = two_opt(graph2)"
   ]
  },
  {
   "cell_type": "raw",
   "metadata": {},
   "source": [
    "q_init = np.array([ 2.80610866, -1.43654197,  2.84295035, -1.50896751,  1.38798534,\n",
    "        2.49565709,  2.56055424])[None,:]\n",
    "qs_new2 = [q_init]\n",
    "for idx in path2:\n",
    "    qs_new2 += [qs[idx][:max_config]]"
   ]
  },
  {
   "cell_type": "raw",
   "metadata": {},
   "source": [
    "cgraph2 = construct_cgraph(qs_new2)"
   ]
  },
  {
   "cell_type": "raw",
   "metadata": {},
   "source": [
    "#### Plan"
   ]
  },
  {
   "cell_type": "raw",
   "metadata": {},
   "source": [
    "cpath2 = nx.dijkstra_path(cgraph2, 0, len(cgraph2.nodes()) - 1)"
   ]
  },
  {
   "cell_type": "raw",
   "metadata": {},
   "source": [
    "traj = []\n",
    "for i in cpath2:\n",
    "    traj += [cgraph2.nodes[i]['value']]\n",
    "traj = np.array(traj)"
   ]
  },
  {
   "cell_type": "raw",
   "metadata": {},
   "source": [
    "for q in traj:\n",
    "    set_q_std(q)\n",
    "    time.sleep(0.3)"
   ]
  },
  {
   "cell_type": "raw",
   "metadata": {},
   "source": [
    "### Iterate the planning"
   ]
  },
  {
   "cell_type": "raw",
   "metadata": {},
   "source": [
    "targets_configs = np.zeros((len(targets), 7))\n",
    "for i,idx in enumerate(path2):\n",
    "    targets_configs[idx] = traj[i+1]\n",
    "#check\n",
    "for i in range(len(targets_configs)):\n",
    "    set_q_std(targets_configs[i])\n",
    "    time.sleep(0.1)\n",
    "    set_q_std(qs[i][0])\n",
    "    time.sleep(0.1)"
   ]
  },
  {
   "cell_type": "raw",
   "metadata": {},
   "source": [
    "graph2 = from_coordinate_list(targets_configs, euclidean_metric)\n",
    "path2 = two_opt(graph2)"
   ]
  },
  {
   "cell_type": "raw",
   "metadata": {},
   "source": [
    "q_init = np.array([ 2.80610866, -1.43654197,  2.84295035, -1.50896751,  1.38798534,\n",
    "        2.49565709,  2.56055424])[None,:]\n",
    "qs_new2 = [q_init]\n",
    "for idx in path2:\n",
    "    qs_new2 += [qs[idx][:max_config]]"
   ]
  },
  {
   "cell_type": "raw",
   "metadata": {},
   "source": [
    "cgraph2 = construct_cgraph(qs_new2)"
   ]
  },
  {
   "cell_type": "raw",
   "metadata": {},
   "source": [
    "#### Plan"
   ]
  },
  {
   "cell_type": "raw",
   "metadata": {},
   "source": [
    "cpath2 = nx.dijkstra_path(cgraph2, 0, len(cgraph2.nodes()) - 1)"
   ]
  },
  {
   "cell_type": "raw",
   "metadata": {},
   "source": [
    "traj = []\n",
    "for i in cpath2:\n",
    "    traj += [cgraph2.nodes[i]['value']]\n",
    "traj = np.array(traj)"
   ]
  },
  {
   "cell_type": "raw",
   "metadata": {},
   "source": [
    "for q in traj:\n",
    "    set_q_std(q)\n",
    "    time.sleep(0.3)"
   ]
  },
  {
   "cell_type": "raw",
   "metadata": {},
   "source": [
    "tic = time.time()\n",
    "trajs = []\n",
    "for i in range(1,len(cpath2)-1):\n",
    "    idx = cpath2[i]\n",
    "    idx_n = cpath2[i+1]\n",
    "    n = cgraph2.nodes[idx]\n",
    "    n_next = cgraph2.nodes[idx_n]\n",
    "    set_q_std(n['value'])\n",
    "    #input()\n",
    "    set_q_std(n_next['value'])\n",
    "    #input()\n",
    "    \n",
    "    q = n['value']\n",
    "    if i== 0:\n",
    "        q = start_state\n",
    "    qn = n_next['value']\n",
    "    traj,_,_ = rrt.plan(q,qn)\n",
    "    shortpath = rrt.shortcut_path(traj)\n",
    "    shorttraj = rrt.interpolate_traj(shortpath, traj)\n",
    "    print(len(traj))\n",
    "    print(len(shortpath))\n",
    "    trajs += [shorttraj]\n",
    "    #trajs += [traj]\n",
    "\n",
    "clear_output()\n",
    "toc = time.time()\n",
    "print('Planning time:{}'.format(toc-tic))"
   ]
  },
  {
   "cell_type": "code",
   "execution_count": 348,
   "metadata": {},
   "outputs": [],
   "source": [
    "q_init = np.array([ 2.80610866, -1.43654197,  2.84295035, -1.50896751,  1.38798534,\n",
    "        2.49565709,  2.56055424])\n",
    "qs_new = []\n",
    "for idx in path:\n",
    "    qs_new += [qs[idx][0]]"
   ]
  },
  {
   "cell_type": "code",
   "execution_count": 349,
   "metadata": {},
   "outputs": [],
   "source": [
    "qs_new = np.array(qs_new)"
   ]
  },
  {
   "cell_type": "code",
   "execution_count": 350,
   "metadata": {},
   "outputs": [],
   "source": [
    "graph3 = from_coordinate_list(qs_new, euclidean_metric)\n",
    "path3 = two_opt(graph3)"
   ]
  },
  {
   "cell_type": "code",
   "execution_count": 354,
   "metadata": {},
   "outputs": [],
   "source": [
    "qnodes = []\n",
    "for i in path3:\n",
    "    set_q_std(qs_new[i])\n",
    "    time.sleep(0.3)\n",
    "    qnodes += [qs_new[i]]"
   ]
  },
  {
   "cell_type": "code",
   "execution_count": 361,
   "metadata": {},
   "outputs": [
    {
     "name": "stdout",
     "output_type": "stream",
     "text": [
      "Planning time:37.39302349090576\n"
     ]
    }
   ],
   "source": [
    "tic = time.time()\n",
    "trajs = []\n",
    "for i in range(len(path3)-1):\n",
    "    idx = path3[i]\n",
    "    idx_n = path3[i+1]\n",
    "    n = qnodes[idx]\n",
    "    n_next = qnodes[idx_n]\n",
    "    set_q_std(n)\n",
    "    #input()\n",
    "    set_q_std(n_next)\n",
    "    #input()\n",
    "    \n",
    "    q = n\n",
    "    qn = n_next\n",
    "    traj,_,_ = rrt.plan(q,qn)\n",
    "    shortpath = rrt.shortcut_path(traj)\n",
    "    shorttraj = rrt.interpolate_traj(shortpath, traj)\n",
    "    print(len(traj))\n",
    "    print(len(shortpath))\n",
    "    trajs += [shorttraj]\n",
    "\n",
    "clear_output()\n",
    "toc = time.time()\n",
    "print('Planning time:{}'.format(toc-tic))"
   ]
  },
  {
   "cell_type": "markdown",
   "metadata": {},
   "source": [
    "## IK for the targets"
   ]
  },
  {
   "cell_type": "raw",
   "metadata": {},
   "source": [
    "ws = [pose[3:]]"
   ]
  },
  {
   "cell_type": "raw",
   "metadata": {},
   "source": [
    "R = w2mat(pose[3:])\n",
    "N_inc = 6\n",
    "for i in range(N_inc):\n",
    "    Rz = Rot_z(2*np.pi*i/N_inc)\n",
    "    Rn = R.dot(Rz)\n",
    "    w = mat2w(Rn)\n",
    "    ws+= [w]"
   ]
  },
  {
   "cell_type": "raw",
   "metadata": {},
   "source": [
    "qs = []\n",
    "thres = 1e-4\n",
    "N = 50\n",
    "max_iter = 1000\n",
    "for target in targets:\n",
    "    pose[:3] = target\n",
    "    q_cur = []\n",
    "    for w in ws:\n",
    "        pose[3:] = w\n",
    "        pos_cost.desired_pose = pose\n",
    "        count = 0\n",
    "        it = 0\n",
    "        while count < N and it < max_iter:\n",
    "            it += 1\n",
    "            q = rob_sampler.sample()\n",
    "            res = ik_solver.project(q, disp=1) \n",
    "            r = np.linalg.norm(pos_cost.r)\n",
    "            set_q_std(res['q'])\n",
    "            if r < thres:\n",
    "                if rob_col_checker.check_collision(res['q']) is False:\n",
    "                    count += 1\n",
    "                    set_q_std(res['q'])\n",
    "                    q_cur += [res['q']]\n",
    "    q_cur = np.array(q_cur)\n",
    "    qs += [q_cur]"
   ]
  },
  {
   "cell_type": "markdown",
   "metadata": {},
   "source": [
    "#### Try IK Solver"
   ]
  },
  {
   "cell_type": "raw",
   "metadata": {},
   "source": [
    "pose[:3] = np.array([0.45,0.2,0.6])\n",
    "pos_cost.desired_pose = pose"
   ]
  },
  {
   "cell_type": "raw",
   "metadata": {},
   "source": [
    "status = False\n",
    "thres = 1e-4\n",
    "while status is False:\n",
    "    q = rob_sampler.sample()[0]\n",
    "    res = ik_solver.project(q, disp=1)\n",
    "\n",
    "    set_q_std(res['q'])\n",
    "\n",
    "    if (np.linalg.norm(pos_cost.r)) < thres:\n",
    "        status = True"
   ]
  },
  {
   "cell_type": "markdown",
   "metadata": {},
   "source": [
    "#### Save Data"
   ]
  },
  {
   "cell_type": "raw",
   "metadata": {},
   "source": [
    "data = dict()\n",
    "\n",
    "data['qs'] = qs\n",
    "data['targets'] = targets\n",
    "data['w'] = pose[3:]\n",
    "np.save('rivetting_data2.npy', data)"
   ]
  }
 ],
 "metadata": {
  "kernelspec": {
   "display_name": "Python 3",
   "language": "python",
   "name": "python3"
  },
  "language_info": {
   "codemirror_mode": {
    "name": "ipython",
    "version": 3
   },
   "file_extension": ".py",
   "mimetype": "text/x-python",
   "name": "python",
   "nbconvert_exporter": "python",
   "pygments_lexer": "ipython3",
   "version": "3.7.6"
  },
  "latex_envs": {
   "LaTeX_envs_menu_present": true,
   "autoclose": false,
   "autocomplete": true,
   "bibliofile": "biblio.bib",
   "cite_by": "apalike",
   "current_citInitial": 1,
   "eqLabelWithNumbers": true,
   "eqNumInitial": 1,
   "hotkeys": {
    "equation": "Ctrl-E",
    "itemize": "Ctrl-I"
   },
   "labels_anchors": false,
   "latex_user_defs": false,
   "report_style_numbering": false,
   "user_envs_cfg": false
  },
  "toc": {
   "base_numbering": 1,
   "nav_menu": {},
   "number_sections": true,
   "sideBar": true,
   "skip_h1_title": false,
   "title_cell": "Table of Contents",
   "title_sidebar": "Contents",
   "toc_cell": false,
   "toc_position": {},
   "toc_section_display": true,
   "toc_window_display": false
  },
  "varInspector": {
   "cols": {
    "lenName": 16,
    "lenType": 16,
    "lenVar": 40
   },
   "kernels_config": {
    "python": {
     "delete_cmd_postfix": "",
     "delete_cmd_prefix": "del ",
     "library": "var_list.py",
     "varRefreshCmd": "print(var_dic_list())"
    },
    "r": {
     "delete_cmd_postfix": ") ",
     "delete_cmd_prefix": "rm(",
     "library": "var_list.r",
     "varRefreshCmd": "cat(var_dic_list()) "
    }
   },
   "types_to_exclude": [
    "module",
    "function",
    "builtin_function_or_method",
    "instance",
    "_Feature"
   ],
   "window_display": false
  }
 },
 "nbformat": 4,
 "nbformat_minor": 4
}

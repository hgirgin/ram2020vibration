{
 "cells": [
  {
   "cell_type": "code",
   "execution_count": 1,
   "metadata": {
    "scrolled": true
   },
   "outputs": [
    {
     "name": "stderr",
     "output_type": "stream",
     "text": [
      "D:\\Anaconda\\envs\\venv\\lib\\site-packages\\sklearn\\utils\\deprecation.py:143: FutureWarning: The sklearn.mixture.base module is  deprecated in version 0.22 and will be removed in version 0.24. The corresponding classes / functions should instead be imported from sklearn.mixture. Anything that cannot be imported from sklearn.mixture is now part of the private API.\n",
      "  warnings.warn(message, FutureWarning)\n",
      "D:\\Anaconda\\envs\\venv\\lib\\site-packages\\sklearn\\utils\\deprecation.py:143: FutureWarning: The sklearn.mixture.gaussian_mixture module is  deprecated in version 0.22 and will be removed in version 0.24. The corresponding classes / functions should instead be imported from sklearn.mixture. Anything that cannot be imported from sklearn.mixture is now part of the private API.\n",
      "  warnings.warn(message, FutureWarning)\n"
     ]
    }
   ],
   "source": [
    "import tensorflow as tf\n",
    "import pandapybullet as ppb\n",
    "import pybullet\n",
    "import autograd.numpy as np\n",
    "from IPython.core import display\n",
    "from autograd.scipy.linalg import sqrtm\n",
    "from autograd import grad, jacobian,elementwise_grad\n",
    "import tf_kdl as tk\n",
    "import PyKDL\n",
    "import tensorflow_probability as tfp\n",
    "import tf_oc as oc\n",
    "import matplotlib.pyplot as plt\n",
    "from math import pi\n",
    "from tf_quaternion import *\n",
    "\n",
    "%matplotlib inline\n",
    "%load_ext autoreload\n",
    "%autoreload 2"
   ]
  },
  {
   "cell_type": "code",
   "execution_count": 2,
   "metadata": {},
   "outputs": [],
   "source": [
    "plt.style.use(\"default\")\n"
   ]
  },
  {
   "cell_type": "code",
   "execution_count": 4,
   "metadata": {},
   "outputs": [],
   "source": [
    "dt = 1e-3\n",
    "mode = \"DIRECT\"\n",
    "# mode = \"GUI\""
   ]
  },
  {
   "cell_type": "code",
   "execution_count": 5,
   "metadata": {},
   "outputs": [],
   "source": [
    "world_sim = ppb.WorldSim(gravity=[0,0,-9.81], mode=mode)\n",
    "world_sim.set_time_step(dt)\n",
    "world_sim.setup_scene()"
   ]
  },
  {
   "cell_type": "code",
   "execution_count": 6,
   "metadata": {},
   "outputs": [],
   "source": [
    "# For Panda\n",
    "# table = world_sim.load_table()\n",
    "robot = world_sim.load_panda(pos=[0.,0.,0.], orn=[0.,0.,0.])\n",
    "## For others:\n",
    "# robot = world_sim.add_robot({\"urdf\":\"/robots/3dof_robot.urdf\", \"ee_index\":3}, get_class=False)"
   ]
  },
  {
   "cell_type": "code",
   "execution_count": 7,
   "metadata": {},
   "outputs": [],
   "source": [
    "def create_primitives(shapeType=2, rgbaColor=[1, 1, 0, 1], pos = [0, 0, 0], radius = 1, length = 2, halfExtents = [0.5, 0.5, 0.5], baseMass=0, basePosition = [0,0,0]):\n",
    "    visualShapeId = pybullet.createVisualShape(shapeType=shapeType, rgbaColor=rgbaColor, visualFramePosition=pos, radius=radius, length=length, halfExtents = halfExtents)\n",
    "    collisionShapeId = pybullet.createCollisionShape(shapeType=shapeType, collisionFramePosition=pos, radius=radius, height=length, halfExtents = halfExtents)\n",
    "    bodyId = pybullet.createMultiBody(baseMass=baseMass,\n",
    "                      baseInertialFramePosition=[0, 0, 0],\n",
    "                      baseVisualShapeIndex=visualShapeId,\n",
    "                      basePosition=basePosition,\n",
    "                      useMaximalCoordinates=True)\n",
    "    return visualShapeId, collisionShapeId, bodyId"
   ]
  },
  {
   "cell_type": "code",
   "execution_count": 8,
   "metadata": {},
   "outputs": [],
   "source": [
    "is_simple = False\n",
    "obs_ids = []\n",
    "if is_simple:\n",
    "    _,_,board_id = create_primitives(pybullet.GEOM_BOX, halfExtents=(0.02, 0.5, 0.3))\n",
    "    pybullet.resetBasePositionAndOrientation(board_id, (0.6, 0., 0.6), (0,0,0,1))\n",
    "    obs_ids = [board_id]\n",
    "else:\n",
    "    board_id = pybullet.loadURDF(world_sim.envs_path+\"/objects/support.urdf\", globalScaling=0.001)\n",
    "    u = np.array([0,0,-np.pi/2])   \n",
    "    theta = tf.linalg.norm(u)\n",
    "    u = u/theta\n",
    "    quat = utils.axis_angle2quats(u, theta)\n",
    "    quat = ppb.utils.quat2format_scalar_last(quat)\n",
    "    pybullet.resetBasePositionAndOrientation(board_id, (0.6,-2.2,-.6), quat)\n",
    "\n",
    "    _,_,main_board_id = create_primitives(pybullet.GEOM_BOX, halfExtents=(0.02, 0.7, 0.25))\n",
    "    pybullet.resetBasePositionAndOrientation(main_board_id, (0.75, -0.1, 0.67), (0,0,0,1))\n",
    "    obs_ids += [main_board_id]\n",
    "    \n",
    "    _,_,bottom_board_id = create_primitives(pybullet.GEOM_BOX, halfExtents=(0.15, 0.7, 0.02))\n",
    "\n",
    "    pybullet.resetBasePositionAndOrientation(bottom_board_id, (0.60, -0.1, 0.44), (0,0,0,1))\n",
    "    obs_ids += [bottom_board_id]\n",
    "\n",
    "    _,_,top_board_id = create_primitives(pybullet.GEOM_BOX, halfExtents=(0.17, 0.7, 0.02))\n",
    "\n",
    "    pybullet.resetBasePositionAndOrientation(top_board_id, (0.59, -0.1, 0.9), (0,0,0,1))\n",
    "    obs_ids += [top_board_id]\n",
    "\n",
    "    _,_,middle_board_id = create_primitives(pybullet.GEOM_BOX, halfExtents=(0.17, 0.02, 0.25))\n",
    "\n",
    "    pybullet.resetBasePositionAndOrientation(middle_board_id, (0.59, -0.08, 0.67), (0,0,0,1))\n",
    "    obs_ids += [middle_board_id]\n",
    "\n",
    "    _,_,left_board_id = create_primitives(pybullet.GEOM_BOX, halfExtents=(0.17, 0.02, 0.25))\n",
    "\n",
    "    pybullet.resetBasePositionAndOrientation(left_board_id, (0.59, 0.6, 0.67), (0,0,0,1))\n",
    "    obs_ids += [left_board_id]\n",
    "\n",
    "    _,_,right_board_id = create_primitives(pybullet.GEOM_BOX, halfExtents=(0.17, 0.02, 0.25))\n",
    "\n",
    "    pybullet.resetBasePositionAndOrientation(right_board_id, (0.59, -0.75, 0.67), (0,0,0,1))\n",
    "    obs_ids += [right_board_id]\n",
    "        "
   ]
  },
  {
   "cell_type": "code",
   "execution_count": 9,
   "metadata": {},
   "outputs": [],
   "source": [
    "targets = np.array([[ 0.55, -0.6 ,  0.55],\n",
    "       [ 0.55, -0.6 ,  0.6 ],\n",
    "       [ 0.55, -0.6 ,  0.65],\n",
    "       [ 0.55, -0.6 ,  0.7 ],\n",
    "       [ 0.55, -0.6 ,  0.75],\n",
    "       [ 0.55, -0.6 ,  0.8 ],\n",
    "       [ 0.55, -0.55,  0.55],\n",
    "       [ 0.55, -0.55,  0.6 ],\n",
    "       [ 0.55, -0.55,  0.65],\n",
    "       [ 0.55, -0.55,  0.7 ],\n",
    "       [ 0.55, -0.55,  0.75],\n",
    "       [ 0.55, -0.55,  0.8 ],\n",
    "       [ 0.55, -0.5 ,  0.55],\n",
    "       [ 0.55, -0.5 ,  0.6 ],\n",
    "       [ 0.55, -0.5 ,  0.65],\n",
    "       [ 0.55, -0.5 ,  0.7 ],\n",
    "       [ 0.55, -0.5 ,  0.75],\n",
    "       [ 0.55, -0.5 ,  0.8 ],\n",
    "       [ 0.55, -0.45,  0.55],\n",
    "       [ 0.55, -0.45,  0.6 ],\n",
    "       [ 0.55, -0.45,  0.65],\n",
    "       [ 0.55, -0.45,  0.7 ],\n",
    "       [ 0.55, -0.45,  0.75],\n",
    "       [ 0.55, -0.45,  0.8 ],\n",
    "       [ 0.55, -0.4 ,  0.55],\n",
    "       [ 0.55, -0.4 ,  0.6 ],\n",
    "       [ 0.55, -0.4 ,  0.65],\n",
    "       [ 0.55, -0.4 ,  0.7 ],\n",
    "       [ 0.55, -0.4 ,  0.75],\n",
    "       [ 0.55, -0.4 ,  0.8 ],\n",
    "       [ 0.55, -0.35,  0.55],\n",
    "       [ 0.55, -0.35,  0.6 ],\n",
    "       [ 0.55, -0.35,  0.65],\n",
    "       [ 0.55, -0.35,  0.7 ],\n",
    "       [ 0.55, -0.35,  0.75],\n",
    "       [ 0.55, -0.35,  0.8 ],\n",
    "       [ 0.55, -0.3 ,  0.55],\n",
    "       [ 0.55, -0.3 ,  0.6 ],\n",
    "       [ 0.55, -0.3 ,  0.65],\n",
    "       [ 0.55, -0.3 ,  0.7 ],\n",
    "       [ 0.55, -0.3 ,  0.75],\n",
    "       [ 0.55, -0.3 ,  0.8 ],\n",
    "       [ 0.55, -0.25,  0.55],\n",
    "       [ 0.55, -0.25,  0.6 ],\n",
    "       [ 0.55, -0.25,  0.65],\n",
    "       [ 0.55, -0.25,  0.7 ],\n",
    "       [ 0.55, -0.25,  0.75],\n",
    "       [ 0.55, -0.25,  0.8 ],\n",
    "       [ 0.55, -0.2 ,  0.55],\n",
    "       [ 0.55, -0.2 ,  0.6 ],\n",
    "       [ 0.55, -0.2 ,  0.65],\n",
    "       [ 0.55, -0.2 ,  0.7 ],\n",
    "       [ 0.55, -0.2 ,  0.75],\n",
    "       [ 0.55, -0.2 ,  0.8 ],\n",
    "       [ 0.55,  0.15,  0.55],\n",
    "       [ 0.55,  0.15,  0.6 ],\n",
    "       [ 0.55,  0.15,  0.65],\n",
    "       [ 0.55,  0.15,  0.7 ],\n",
    "       [ 0.55,  0.15,  0.75],\n",
    "       [ 0.55,  0.15,  0.8 ],\n",
    "       [ 0.55,  0.2 ,  0.55],\n",
    "       [ 0.55,  0.2 ,  0.6 ],\n",
    "       [ 0.55,  0.2 ,  0.65],\n",
    "       [ 0.55,  0.2 ,  0.7 ],\n",
    "       [ 0.55,  0.2 ,  0.75],\n",
    "       [ 0.55,  0.2 ,  0.8 ],\n",
    "       [ 0.55,  0.25,  0.55],\n",
    "       [ 0.55,  0.25,  0.6 ],\n",
    "       [ 0.55,  0.25,  0.65],\n",
    "       [ 0.55,  0.25,  0.7 ],\n",
    "       [ 0.55,  0.25,  0.75],\n",
    "       [ 0.55,  0.25,  0.8 ],\n",
    "       [ 0.55,  0.3 ,  0.55],\n",
    "       [ 0.55,  0.3 ,  0.6 ],\n",
    "       [ 0.55,  0.3 ,  0.65],\n",
    "       [ 0.55,  0.3 ,  0.7 ],\n",
    "       [ 0.55,  0.3 ,  0.75],\n",
    "       [ 0.55,  0.3 ,  0.8 ],\n",
    "       [ 0.55,  0.35,  0.55],\n",
    "       [ 0.55,  0.35,  0.6 ],\n",
    "       [ 0.55,  0.35,  0.65],\n",
    "       [ 0.55,  0.35,  0.7 ],\n",
    "       [ 0.55,  0.35,  0.75],\n",
    "       [ 0.55,  0.35,  0.8 ],\n",
    "       [ 0.55,  0.4 ,  0.55],\n",
    "       [ 0.55,  0.4 ,  0.6 ],\n",
    "       [ 0.55,  0.4 ,  0.65],\n",
    "       [ 0.55,  0.4 ,  0.7 ],\n",
    "       [ 0.55,  0.4 ,  0.75],\n",
    "       [ 0.55,  0.4 ,  0.8 ]])"
   ]
  },
  {
   "cell_type": "code",
   "execution_count": 10,
   "metadata": {},
   "outputs": [],
   "source": [
    "targets = targets[6:]"
   ]
  },
  {
   "cell_type": "code",
   "execution_count": 11,
   "metadata": {},
   "outputs": [],
   "source": [
    "ys = np.array([-0.45, -0.25,  0.15,  0.35])\n",
    "zs = np.arange(0.6, 0.81, 0.10)\n",
    "x = 0.6\n",
    "offset = -0.05\n",
    "for i in range(targets.shape[0]):\n",
    "    _,_,target_id = create_primitives(pybullet.GEOM_BOX, halfExtents=(0.03, 0.01, 0.01), rgbaColor=(1,0,0,1))\n",
    "    pybullet.resetBasePositionAndOrientation(target_id, targets[i], (0,0,0,1))\n",
    "\n"
   ]
  },
  {
   "cell_type": "code",
   "execution_count": 12,
   "metadata": {
    "scrolled": false
   },
   "outputs": [
    {
     "name": "stderr",
     "output_type": "stream",
     "text": [
      "Unknown tag \"material\" in /robot[@name='panda']/link[@name='panda_link0']/collision[1]\n",
      "Unknown tag \"material\" in /robot[@name='panda']/link[@name='panda_link1']/collision[1]\n",
      "Unknown tag \"material\" in /robot[@name='panda']/link[@name='panda_link2']/collision[1]\n",
      "Unknown tag \"material\" in /robot[@name='panda']/link[@name='panda_link4']/collision[1]\n",
      "Unknown tag \"material\" in /robot[@name='panda']/link[@name='panda_link5']/collision[1]\n",
      "Unknown tag \"material\" in /robot[@name='panda']/link[@name='panda_link6']/collision[1]\n",
      "Unknown tag \"material\" in /robot[@name='panda']/link[@name='panda_link7']/collision[1]\n",
      "Unknown tag \"material\" in /robot[@name='panda']/link[@name='panda_hand']/collision[1]\n"
     ]
    }
   ],
   "source": [
    "urdf = tk.urdf_from_file(world_sim.envs_path + '/robots/frankaemika_new/panda_arm_kdl.urdf')\n",
    "# urdf = tk.urdf_from_file(world_sim.envs_path + '/robots/3dof_robot.urdf')\n",
    "\n",
    "chain = tk.tk_chain_from_urdf(urdf)\n",
    "# chain_pykdl = tk.kdl_chain_from_urdf(urdf)\n",
    "dyn = tk.ChainDynParam(chain)\n",
    "# dyn_pykdl_mixed = tk.ChainDynParamPyKDL(chain_pykdl)"
   ]
  },
  {
   "cell_type": "code",
   "execution_count": 13,
   "metadata": {},
   "outputs": [],
   "source": [
    "# Transformation from world frame to robot base frame\n",
    "# # For Panda on the table\n",
    "# base_pos = tf.cast(np.array([-.5, -.4, 0.88])[None], tf.float32)\n",
    "# base_rot_vec = np.array([0, 0, np.pi / 2])\n",
    "# base_rot_mat = tf.cast(ppb.utils.rotvec2mat(base_rot_vec), tf.float32)\n",
    "# base_rot_mat_inv = tf.cast(tf.transpose(base_rot_mat), tf.float32)\n",
    "\n",
    "# For Panda on the floor and others\n",
    "base_pos = tf.cast(np.array([0., 0., 0.])[None], tf.float32)\n",
    "base_rot_vec = np.array([0., 0., 0.])\n",
    "base_rot_mat = tf.cast(ppb.utils.rotvec2mat(base_rot_vec), tf.float32)\n",
    "base_rot_mat_inv = tf.cast(tf.transpose(base_rot_mat), tf.float32)\n",
    "\n",
    "\n",
    "\n",
    "def kdl2bullet_x(x):\n",
    "    \"\"\"\n",
    "    param: x: [batch, 3] position in kdl (wrt robot base frame)\n",
    "    \"\"\"\n",
    "    return tf.einsum('ij, aj->ai',base_rot_mat, x) + base_pos\n",
    "\n",
    "def bullet2kdl_x(x):\n",
    "    \"\"\"\n",
    "    param: x: [batch, 3] position in bullet (wrt bullet world frame)\n",
    "    \"\"\"\n",
    "    return tf.einsum('ij, aj->ai',base_rot_mat_inv, x - base_pos)\n",
    "\n",
    "def kdl2bullet_q(x):\n",
    "    \"\"\"\n",
    "    param: x: [batch, 9] vectorized rotation matrix in kdl (wrt robot base frame)\n",
    "    \"\"\"\n",
    "    kdl_end_rot_mat = tf.reshape(x, (x.shape[0], 3,3))\n",
    "    world_end_rot_mat =  tf.einsum('ij, ajk->aik', base_rot_mat, kdl_end_rot_mat)\n",
    "    return rot2quat(world_end_rot_mat)\n",
    "\n",
    "def bullet2kdl_q(x):\n",
    "    \"\"\"\n",
    "    param: x: [batch, 9] vectorized rotation matrix in bullet (wrt bullet world frame)\n",
    "    \"\"\"\n",
    "    world_end_rot_mat = tf.reshape(x, (x.shape[0], 3,3))\n",
    "    kdl_end_rot_mat =  tf.einsum('ij, ajk->aik', base_rot_mat_inv, world_end_rot_mat)\n",
    "    return rot2quat(kdl_end_rot_mat)\n",
    "        \n",
    "def kdl2bullet_xq(x):\n",
    "    \"\"\"\n",
    "    param: x: [batch, 12] position + vectorized rotation matrix\n",
    "    \"\"\"\n",
    "    return kdl2bullet_x(x[:, :3]), kdl2bullet_q(x[:, 3:])\n",
    "\n",
    "def bullet2kdl_xq(x):\n",
    "    \"\"\"\n",
    "    param: x: [batch, 12] position + vectorized rotation matrix\n",
    "    \"\"\"\n",
    "    return bullet2kdl_x(x[:, :3]), bullet2kdl_q(x[:, 3:])\n"
   ]
  },
  {
   "cell_type": "markdown",
   "metadata": {},
   "source": [
    "### Some tests for e-e pose ofr 3dof robot"
   ]
  },
  {
   "cell_type": "code",
   "execution_count": 14,
   "metadata": {},
   "outputs": [],
   "source": [
    "# robot.teaching_mode()"
   ]
  },
  {
   "cell_type": "code",
   "execution_count": 15,
   "metadata": {},
   "outputs": [],
   "source": [
    "# plt.plot(tf.stack(chain.joint_limits), \"o\")\n",
    "# plt.plot(robot.q, \"kx\")"
   ]
  },
  {
   "cell_type": "code",
   "execution_count": 16,
   "metadata": {},
   "outputs": [],
   "source": [
    "# Find the equilibrium configuration given ee pose:\n",
    "# dt = 0.05\n",
    "# xd = tf.constant([0.1, 0., 1.]) # Point A in the paper\n",
    "# qA = tf.constant([6.2831845, 5.364822 , 2.085435 ])\n",
    "# xd = tf.constant([1., 0., 1.]) # Point B in the paper\n",
    "# qB = tf.constant([6.2831855 , 0.25320533, 1.2857    ])\n",
    "# panda\n",
    "# q = tf.cast(robot.q[:chain.nb_joint], tf.float32)\n",
    "# other\n",
    "# q = tf.zeros(chain.nb_joint)\n",
    "# chain.xs(q*0, layout=tk.FkLayout.x)[:, :3]"
   ]
  },
  {
   "cell_type": "code",
   "execution_count": 17,
   "metadata": {},
   "outputs": [],
   "source": [
    "# for i in range(20):\n",
    "#     xs = chain.xs(q, layout=tk.FkLayout.xm)[-1, :3]\n",
    "#     tf.print(xs)\n",
    "#     error = xd - xs\n",
    "# #     tf.print(error)\n",
    "\n",
    "#     J = chain.jacobian(q[None], layout=tk.FkLayout.x)[0]\n",
    "#     dq = tf.linalg.matvec(tf.linalg.pinv(J), error) \n",
    "#     q += 10*dq*dt\n",
    "#     q = q%(2*pi)\n",
    "# #     q = tf.clip_by_value(q, tf.stack(chain.joint_limits)[:,0], tf.stack(chain.joint_limits)[:,1])\n",
    "    \n",
    "     "
   ]
  },
  {
   "cell_type": "code",
   "execution_count": 18,
   "metadata": {},
   "outputs": [],
   "source": [
    "# for i in range(3): \n",
    "#     pybullet.resetJointState(robot, i, qB[i])"
   ]
  },
  {
   "cell_type": "markdown",
   "metadata": {},
   "source": [
    "### End-pose cost"
   ]
  },
  {
   "cell_type": "code",
   "execution_count": 19,
   "metadata": {},
   "outputs": [],
   "source": [
    "quats_xyz = Quaternion(create_unit_rotations(angle=pi/2))\n",
    "# u = tf.constant([-np.pi/2, 0., 0.])\n",
    "u = tf.constant([0.        , np.pi/2, 0. ])       \n",
    "theta = tf.linalg.norm(u)\n",
    "u = u/theta\n",
    "mu = tf.cast(utils.axis_angle2quats(u, theta), tf.float32)[None]\n",
    "\n",
    "mu_  = Quaternion(tf.tile(mu, (3,1)))\n",
    "rot_mu =  mu_ * quats_xyz\n",
    "u = Quaternion(rot_mu) - mu_\n",
    "u = u/tf.linalg.norm(u, axis=-1)[:,None]\n",
    "norms = tf.constant([1, 1e-5, 1e-5])\n",
    "cov = tf.reduce_sum(tf.einsum('k,kij->kij', \n",
    "                                  norms,\n",
    "                                  tf.einsum('ki, kj->kij',u,u)), axis=0)\n",
    "cov += 1e-6 * tf.eye(4)\n",
    "\n",
    "prec = tf.linalg.inv(cov)\n",
    "mu_quat = mu[None]\n",
    "def normalS3_log_prob(x):\n",
    "    \"\"\"\n",
    "    x : [hole_nb, batch_nb, 4]\n",
    "    Quaternion lognormal distribution\n",
    "    \"\"\"\n",
    "    mu__ = Quaternion(tf.tile(mu_quat, (x.q.shape[0], x.q.shape[1], 1)))\n",
    "    diff = x - mu__\n",
    "    quad = -0.5*tf.linalg.einsum('hbi,hbi->hb',diff, tf.linalg.einsum('ij,hbj->hbi',prec,diff))\n",
    "    return quad\n",
    "\n",
    "\n",
    "cov_x = tf.linalg.diag([1e-3, 1e-3, 1e-3])\n",
    "prec_x = tf.linalg.inv(cov_x)\n",
    "\n",
    "def normal_log_prob_(mu_x):\n",
    "    \"\"\"\n",
    "    mu_x : [hole_nb, 1, 3]\n",
    "    \"\"\"\n",
    "    def normal_log_prob(x):\n",
    "        \"\"\"\n",
    "        x: [hole_nb, batch_nb, 3]\n",
    "        Cartesian lognormal distribution\n",
    "        \"\"\"\n",
    "        diff = x - mu_x\n",
    "        quad = -0.5*tf.linalg.einsum('hbi,hbi->hb',diff, tf.linalg.einsum('ij,hbj->hbi',prec_x,diff))\n",
    "        return quad\n",
    "    return normal_log_prob\n",
    "\n",
    "def normal_log_prob__(mu_x):\n",
    "    \"\"\"\n",
    "    mu_x : [1, 3]\n",
    "    \"\"\"\n",
    "    def normal_log_prob(x):\n",
    "        \"\"\"\n",
    "        x: [batch_nb, 3]\n",
    "        Cartesian lognormal distribution\n",
    "        \"\"\"\n",
    "        diff = x - mu_x\n",
    "        quad = -0.5*tf.linalg.einsum('bi,bi->b',diff, tf.linalg.einsum('ij,bj->bi',prec_x,diff))\n",
    "        return quad\n",
    "    return normal_log_prob"
   ]
  },
  {
   "cell_type": "code",
   "execution_count": 20,
   "metadata": {},
   "outputs": [],
   "source": [
    "# # Try orientation distribution\n",
    "# x_ = robot.x\n",
    "# q_ = q_sample(mu, cov)[0]\n",
    "# robot.ik(x_, orn_des=q_, max_iter=3000)"
   ]
  },
  {
   "cell_type": "markdown",
   "metadata": {},
   "source": [
    "### Joint limit costs"
   ]
  },
  {
   "cell_type": "code",
   "execution_count": 21,
   "metadata": {},
   "outputs": [],
   "source": [
    "joint_limits = tf.stack(chain.joint_limits)\n",
    "lower_limits = joint_limits[:,0][None, None]\n",
    "upper_limits = joint_limits[:,1][None, None]\n",
    "def plot_limits(q):\n",
    "    plt.plot(joint_limits, \"o\")\n",
    "    plt.plot(q, \"kx\")\n",
    "    \n",
    "mean_limits = tf.reduce_mean(joint_limits,-1)[None]\n",
    "@tf.function\n",
    "def cost_joint_limit(q):\n",
    "#     return tf.reduce_sum(chain.joint_limit_cost(q),axis=-1)/7.\n",
    "    rl = tf.math.minimum(q-lower_limits, 0)\n",
    "    ru = tf.math.maximum(q-upper_limits, 0)\n",
    "    return 0.5*(tf.linalg.einsum('hbi,hbi->hb',rl, rl) + tf.linalg.einsum('hbi,hbi->hb',ru, ru))\n",
    "#     return 0.5*(tf.reduce_sum(rl*rl, -1) + tf.reduce_sum(ru*ru, -1))\n"
   ]
  },
  {
   "cell_type": "code",
   "execution_count": 22,
   "metadata": {},
   "outputs": [],
   "source": [
    "# start_ = tf.random.uniform(shape=(12, 3, 7), minval=tf.stack(chain.joint_limits)[:,0],maxval=tf.stack(chain.joint_limits)[:,1])\n",
    "\n",
    "# cost_joint_limit(start_)"
   ]
  },
  {
   "cell_type": "markdown",
   "metadata": {},
   "source": [
    "### Optimization with L-BFGS"
   ]
  },
  {
   "cell_type": "markdown",
   "metadata": {},
   "source": [
    "We first get 50 different IK solutions for a rivet hole position using L-BFGS. Sometimes it cannot find a good solution, I just get a bigger batch and hope to get 50 solutions."
   ]
  },
  {
   "cell_type": "markdown",
   "metadata": {},
   "source": [
    "data = np.load('rivetting_data2.npy', allow_pickle=True)\n",
    "targets"
   ]
  },
  {
   "cell_type": "code",
   "execution_count": 23,
   "metadata": {},
   "outputs": [],
   "source": [
    "# start_ = tf.random.uniform(shape=(12, 3, 7), minval=tf.stack(chain.joint_limits)[:,0],maxval=tf.stack(chain.joint_limits)[:,1])\n",
    "# normal_log_prob_batch = normal_log_prob_(mu_x)\n"
   ]
  },
  {
   "cell_type": "code",
   "execution_count": 24,
   "metadata": {},
   "outputs": [],
   "source": [
    "# q_vec = tf.reshape(start_, (12*3, start_.shape[2]))\n",
    "# xs_ = chain.xs(q_vec, layout=tk.FkLayout.xm)[:, -1]\n",
    "# world_end_pos = tf.reshape(xs_[..., :3], (12, 3, 3))\n",
    "# log_prob_batch = normal_log_prob_batch(world_end_pos)\n",
    "\n",
    "# for i in range(12):\n",
    "#     normal_log_prob_nonbatch = normal_log_prob__(mu_x[i])\n",
    "#     nb = normal_log_prob_nonbatch(world_end_pos[i])\n",
    "#     for j in range(3):\n",
    "# #         tf.print(chain.xs(start_[i,j][None], layout=tk.FkLayout.xm)[0, -1, :3]- world_end_pos[i,j])\n",
    "#         tf.print(nb[j], log_prob_batch[i,j])"
   ]
  },
  {
   "cell_type": "code",
   "execution_count": 25,
   "metadata": {},
   "outputs": [],
   "source": [
    "batch = 1500\n",
    "mu_x = tf.cast(targets, tf.float32)[:, None]\n",
    "normal_log_prob = normal_log_prob_(mu_x)\n",
    "hole_nb = targets.shape[0]\n",
    "@tf.function\n",
    "def cost_ik(q):\n",
    "    \"\"\"\n",
    "    q: [hole_nb, batch_nb, nb_dof]\n",
    "    \"\"\"\n",
    "    batch = q.shape[1]\n",
    "    q_vec = tf.reshape(q, (hole_nb*batch, q.shape[2]))\n",
    "    xs_ = chain.xs(q_vec, layout=tk.FkLayout.xm)[:, -1]\n",
    "#     xs_ = tf.reshape(xs_, (q.shape[0], q.shape[1], xs_.shape[-1]))\n",
    "    \n",
    "    # if robot base frame is changed:\n",
    "#     world_end_pos, world_end_quats = kdl2bullet_xq(xs_)\n",
    "#     else:kdl_end_rot_mat = tf.reshape(x, (x.shape[0], 3,3))\n",
    "    world_end_pos = tf.reshape(xs_[..., :3], (hole_nb, batch, 3))\n",
    "    \n",
    "\n",
    "    world_end_quats = rot2quat(tf.reshape(xs_[...,3:], (hole_nb*batch, 3, 3)))\n",
    "    world_end_quats = tf.reshape(world_end_quats, (hole_nb, batch, 4))\n",
    "        \n",
    "    ee_pos_cost = -normal_log_prob(world_end_pos)\n",
    "    ee_quat_cost = -normalS3_log_prob(Quaternion(world_end_quats))\n",
    "    return ee_pos_cost +  ee_quat_cost*0.1 + cost_joint_limit(q)*1e3\n"
   ]
  },
  {
   "cell_type": "code",
   "execution_count": 26,
   "metadata": {},
   "outputs": [],
   "source": [
    "start  = tf.Variable(\n",
    "    tf.random.uniform(shape=(hole_nb, batch, 7), minval=tf.stack(chain.joint_limits)[:,0],maxval=tf.stack(chain.joint_limits)[:,1]))"
   ]
  },
  {
   "cell_type": "code",
   "execution_count": 27,
   "metadata": {},
   "outputs": [],
   "source": [
    "# # L-BFGS\n",
    "# def loss_and_gradient(x):\n",
    "#     return tfp.math.value_and_gradient(cost_ik, x)\n",
    "\n",
    "# optim_results = tfp.optimizer.lbfgs_minimize(\n",
    "#       loss_and_gradient,\n",
    "#       initial_position=start,\n",
    "#       num_correction_pairs=10,\n",
    "#       tolerance=1e-5)"
   ]
  },
  {
   "cell_type": "code",
   "execution_count": 28,
   "metadata": {},
   "outputs": [],
   "source": [
    "@tf.function\n",
    "def cost():\n",
    "    return cost_ik(start)\n",
    "optimizer = tf.keras.optimizers.Adam(0.5)\n"
   ]
  },
  {
   "cell_type": "code",
   "execution_count": 29,
   "metadata": {},
   "outputs": [
    {
     "name": "stdout",
     "output_type": "stream",
     "text": [
      "[[0.73083353 2.8962481 0.000778884161 ... 0.00470411731 150.845032 524.824341]\n",
      " [0.279598624 2.91961527 0.00768206129 ... 2.97506905 1.15664017 3.7469337]\n",
      " [1.93598413 78.9104462 5.0199194 ... 1.2261188 33.4419403 0.053748291]\n",
      " ...\n",
      " [0.0108656315 10.5599728 0.349217534 ... 0.0889642239 0.00306689483 76.0690536]\n",
      " [0.0340588763 0.00248976657 5.47715235 ... 0.000245769304 0.260828167 0.0032112198]\n",
      " [78.6700134 4.10384607 0.0148513382 ... 3.04040623 2.70112729 3.2840879]]\r\n"
     ]
    }
   ],
   "source": [
    "# Stochastic Gradient Descent\n",
    "for i in range(1000000):\n",
    "    try :\n",
    "        optimizer.minimize(cost,[start] )\n",
    "        display.clear_output(wait=True)\n",
    "        tf.print(cost())\n",
    "    except KeyboardInterrupt:\n",
    "        break"
   ]
  },
  {
   "cell_type": "code",
   "execution_count": 30,
   "metadata": {},
   "outputs": [],
   "source": [
    "# good_q__ = optim_results.position\n",
    "good_q__ = start"
   ]
  },
  {
   "cell_type": "code",
   "execution_count": 31,
   "metadata": {},
   "outputs": [],
   "source": [
    "good_q_ = [None for i in range(hole_nb)]\n",
    "max_nb = 1e5\n",
    "for i in range(hole_nb):\n",
    "    good_q_[i] = good_q__[i][cost_joint_limit(good_q__)[i] < 1e-2]\n",
    "    max_nb = min(max_nb,good_q_[i].shape[0])\n",
    "    \n",
    "for i in range(hole_nb):\n",
    "    good_q_[i] = good_q_[i][:max_nb]\n",
    "    \n",
    "good_q_ = tf.stack(good_q_)"
   ]
  },
  {
   "cell_type": "code",
   "execution_count": 32,
   "metadata": {},
   "outputs": [
    {
     "data": {
      "text/plain": [
       "TensorShape([84, 1267, 7])"
      ]
     },
     "execution_count": 32,
     "metadata": {},
     "output_type": "execute_result"
    }
   ],
   "source": [
    "good_q_.shape"
   ]
  },
  {
   "cell_type": "code",
   "execution_count": 33,
   "metadata": {},
   "outputs": [],
   "source": [
    "i = 0 # rivet hole\n",
    "j = 0 # configuration nb"
   ]
  },
  {
   "cell_type": "code",
   "execution_count": 34,
   "metadata": {},
   "outputs": [],
   "source": [
    "i = 0\n"
   ]
  },
  {
   "cell_type": "code",
   "execution_count": 35,
   "metadata": {},
   "outputs": [
    {
     "name": "stdout",
     "output_type": "stream",
     "text": [
      "[[4.10150315e-05]]\r\n"
     ]
    },
    {
     "data": {
      "image/png": "[encoded data removed]",
      "text/plain": [
       "<Figure size 640x480 with 1 Axes>"
      ]
     },
     "metadata": {},
     "output_type": "display_data"
    }
   ],
   "source": [
    "plot_limits(good_q_[i][j])\n",
    "# robot.set_q_(good_q_[i][j])\n",
    "tf.print(cost_joint_limit(good_q_[i][j][None]))\n",
    "j+=1\n",
    "# i+=1"
   ]
  },
  {
   "cell_type": "code",
   "execution_count": 36,
   "metadata": {},
   "outputs": [],
   "source": [
    "def check_q(q):\n",
    "    batch = q.shape[1]\n",
    "    q_vec = tf.reshape(q, (hole_nb*batch, q.shape[2]))\n",
    "    xs_ = chain.xs(q_vec, layout=tk.FkLayout.xm)[:, -1]\n",
    "    \n",
    "    world_end_pos = tf.reshape(xs_[..., :3], (hole_nb, batch , 3))\n",
    "    world_end_quats = rot2quat(tf.reshape(xs_[...,3:], (hole_nb*batch, 3, 3)))\n",
    "    world_end_quats = tf.reshape(world_end_quats, (hole_nb, batch, 4))\n",
    "    \n",
    "    \n",
    "    \n",
    "    good_xs = [None for i in range(hole_nb)]\n",
    "    good_xs_ind = [None for i in range(hole_nb)]\n",
    "    max_nb = 1e5\n",
    "    for i in range(hole_nb):\n",
    "#         print(world_end_pos[i][normal_log_prob(world_end_pos)[i] > -1e-2].shape)\n",
    "        good_xs[i] = world_end_pos[i][normal_log_prob(world_end_pos)[i] > -1e-1]\n",
    "        good_xs_ind[i] = np.where(normal_log_prob(world_end_pos)[i] > -1e-1)\n",
    "        max_nb = min(max_nb,good_xs[i].shape[0])\n",
    "\n",
    "    for i in range(hole_nb):\n",
    "        good_xs[i] = good_xs[i][:max_nb]\n",
    "\n",
    "    good_xs = tf.stack(good_xs)\n",
    "    return world_end_pos, good_xs, good_xs_ind\n",
    "    "
   ]
  },
  {
   "cell_type": "code",
   "execution_count": 37,
   "metadata": {},
   "outputs": [
    {
     "data": {
      "text/plain": [
       "TensorShape([84, 514, 3])"
      ]
     },
     "execution_count": 37,
     "metadata": {},
     "output_type": "execute_result"
    }
   ],
   "source": [
    "xs, good_xs, good_xs_ind = check_q(good_q_)\n",
    "good_xs.shape"
   ]
  },
  {
   "cell_type": "code",
   "execution_count": 38,
   "metadata": {},
   "outputs": [
    {
     "data": {
      "image/png": "[encoded data removed]",
      "text/plain": [
       "<Figure size 1500x500 with 3 Axes>"
      ]
     },
     "metadata": {},
     "output_type": "display_data"
    }
   ],
   "source": [
    "fig,ax = plt.subplots(ncols=3, figsize=(15,5))\n",
    "N = xs.shape[1]\n",
    "j = 0 # choose a rivet hole\n",
    "for i in range(3):\n",
    "    ax[i].plot(range(N), xs[j, :,i], \"r.\")\n",
    "    ax[i].plot(good_xs_ind[j][0][:good_xs.shape[1]], good_xs[j,:,i], \"gx\", ms=10)\n",
    "    ax[i].plot(range(N), [mu_x[j,:,i]]*N, \"k\")"
   ]
  },
  {
   "cell_type": "code",
   "execution_count": 39,
   "metadata": {
    "scrolled": true
   },
   "outputs": [
    {
     "data": {
      "text/plain": [
       "TensorShape([84, 514, 7])"
      ]
     },
     "execution_count": 39,
     "metadata": {},
     "output_type": "execute_result"
    }
   ],
   "source": [
    "good_q = [None for i in range(hole_nb)]\n",
    "max_nb = 1e5\n",
    "for i in range(hole_nb):\n",
    "    good_q[i] = good_q_[i][-normal_log_prob(xs)[i] < 1e-1]\n",
    "    max_nb = min(max_nb,good_q[i].shape[0])\n",
    "    \n",
    "for i in range(hole_nb):\n",
    "    good_q[i] = good_q[i][:max_nb]\n",
    "    \n",
    "good_q = tf.stack(good_q)\n",
    "good_q.shape"
   ]
  },
  {
   "cell_type": "code",
   "execution_count": 40,
   "metadata": {},
   "outputs": [],
   "source": [
    "i = 0\n",
    "j = 1"
   ]
  },
  {
   "cell_type": "code",
   "execution_count": 41,
   "metadata": {},
   "outputs": [
    {
     "name": "stdout",
     "output_type": "stream",
     "text": [
      "[[0]]\r\n"
     ]
    },
    {
     "data": {
      "image/png": "[encoded data removed]",
      "text/plain": [
       "<Figure size 640x480 with 1 Axes>"
      ]
     },
     "metadata": {},
     "output_type": "display_data"
    }
   ],
   "source": [
    "plot_limits(good_q[j,i])\n",
    "# robot.set_q_(good_q[j,i])\n",
    "tf.print(cost_joint_limit(good_q[j,i][None]))\n",
    "i+=1"
   ]
  },
  {
   "cell_type": "code",
   "execution_count": 42,
   "metadata": {},
   "outputs": [
    {
     "data": {
      "text/plain": [
       "<tf.Tensor: shape=(0, 3), dtype=int64, numpy=array([], shape=(0, 3), dtype=int64)>"
      ]
     },
     "execution_count": 42,
     "metadata": {},
     "output_type": "execute_result"
    }
   ],
   "source": [
    "# check if there is any nan\n",
    "tf.where(tf.math.is_nan(good_q) == True)"
   ]
  },
  {
   "cell_type": "markdown",
   "metadata": {},
   "source": [
    "### Displacement cost , new indices paper 2020"
   ]
  },
  {
   "cell_type": "code",
   "execution_count": 43,
   "metadata": {},
   "outputs": [],
   "source": [
    "# Force: \n",
    "F = 150 # in Newton\n",
    "nF = tf.constant([-1, 0., 0]) #direction of force in world frame coordinates"
   ]
  },
  {
   "cell_type": "code",
   "execution_count": 44,
   "metadata": {},
   "outputs": [],
   "source": [
    "# For 7dof robot\n",
    "K = tf.cast(robot.stiffness, tf.float32)[:chain.nb_joint, :chain.nb_joint]*10\n",
    "C = tf.cast(robot.damping, tf.float32)[:chain.nb_joint, :chain.nb_joint] + tf.linalg.diag(tf.ones(7)*0.06)\n",
    "\n",
    "# # ## For 3dof robot in the paper\n",
    "# K = tf.linalg.diag([2.4*1e5, 1e5, 1e5])\n",
    "# C = tf.linalg.diag([0.06, 0.06, 0.06])\n",
    "\n",
    "f = tf.constant(66.) #Hz\n",
    "w = tf.constant(2*pi*f)\n",
    "w = tf.constant(150.)\n",
    "\n",
    "def compute_H(w, M, J, C, K):\n",
    "    \"\"\"\n",
    "    Finds the displacement force frequency response function H(w)\n",
    "    \"\"\"\n",
    "    real = -(w**2)*M+K\n",
    "    imag = w*C\n",
    "    comp = tf.complex(real, imag)\n",
    "#     inv = tf.linalg.inv(comp, adjoint=True)\n",
    "    try:\n",
    "        inv = tf.linalg.inv(comp, adjoint=True)\n",
    "    except:\n",
    "        r0  = tf.linalg.pinv(real) @ imag\n",
    "        y11 = tf.linalg.pinv(imag @ r0 + real)\n",
    "        y10 = -r0 @ y11\n",
    "\n",
    "        inv = tf.cast(tf.complex(y11,y10), dtype =comp.dtype)\n",
    "    return J@inv@tf.transpose(J, (0,2,1))\n",
    "\n",
    "def displacement(q):\n",
    "        q_vec = tf.reshape(q, (q.shape[0]*q.shape[1], q.shape[2]))\n",
    "        M = dyn.inertia_matrix(q_vec)\n",
    "        J = chain.jacobian(q_vec, layout=tk.FkLayout.x)\n",
    "        J = tf.complex(J, tf.zeros_like(J))\n",
    "        H = compute_H(w, M, J, C, K)\n",
    "        \n",
    "        A = tf.transpose(H, perm=(0,2,1),conjugate=True)@H\n",
    "        evals, evecs = tf.linalg.eigh(A)\n",
    "\n",
    "        evals = tf.reshape(evals, (q.shape[0], q.shape[1], 3))\n",
    "        return tf.math.sqrt(tf.math.abs(tf.math.real(evals)))\n",
    "\n",
    "@tf.function\n",
    "def displacement_(w, q):\n",
    "        q_vec = tf.reshape(q, (q.shape[0]*q.shape[1], q.shape[2]))\n",
    "        M = dyn.inertia_matrix(q_vec)\n",
    "        J = chain.jacobian(q_vec, layout=tk.FkLayout.x)\n",
    "        J = tf.complex(J, tf.zeros_like(J))\n",
    "        H = compute_H(w, M, J, C, K)\n",
    "        A = tf.transpose(H, (0,2,1),conjugate=True)@H\n",
    "        evals, evecs = tf.linalg.eigh(A)\n",
    "        evals = tf.reshape(evals, (q.shape[0], q.shape[1], 3))\n",
    "        return  tf.math.sqrt(tf.math.abs(tf.math.real(evals)))"
   ]
  },
  {
   "cell_type": "code",
   "execution_count": 45,
   "metadata": {},
   "outputs": [],
   "source": [
    "# data_nb = 100\n",
    "# w = tf.cast(np.linspace(0, 200, data_nb), tf.float32)\n",
    "# dispA = np.zeros(data_nb)\n",
    "# dispB = np.zeros(data_nb)\n",
    "# for i in range(data_nb):\n",
    "#     dispA[i] = tf.reduce_max(displacement_(w[i], qA[None])[0])\n",
    "#     dispB[i] = tf.reduce_max(displacement_(w[i], qB[None])[0])\n"
   ]
  },
  {
   "cell_type": "code",
   "execution_count": 46,
   "metadata": {},
   "outputs": [],
   "source": [
    "# plt.plot(w,dispA, \"k\", label=\"Point A\")\n",
    "# plt.plot(w,dispB, \"b\",  label=\"Point B\")\n",
    "# plt.ticklabel_format(style='sci', axis='y', scilimits=(0,0))\n",
    "# plt.legend()"
   ]
  },
  {
   "cell_type": "code",
   "execution_count": 47,
   "metadata": {},
   "outputs": [
    {
     "data": {
      "text/plain": [
       "TensorShape([84, 514, 7])"
      ]
     },
     "execution_count": 47,
     "metadata": {},
     "output_type": "execute_result"
    }
   ],
   "source": [
    "good_q.shape"
   ]
  },
  {
   "cell_type": "code",
   "execution_count": 51,
   "metadata": {},
   "outputs": [],
   "source": [
    "data_nb = 500\n",
    "config_nb = 500\n",
    "w__ = 66*2*pi\n",
    "w__ = 450\n",
    "w_ = tf.cast(np.linspace(0, w__, data_nb), tf.float32)\n",
    "disp = np.zeros((hole_nb, config_nb, data_nb))\n",
    "disp_x = np.zeros((hole_nb, config_nb, data_nb, 3))\n",
    "disp_x\n",
    "q_random = tf.random.uniform(shape=(hole_nb, config_nb,7), minval=tf.stack(chain.joint_limits)[:,0],maxval=tf.stack(chain.joint_limits)[:,1])\n",
    "for i in range(data_nb):\n",
    "#     d_ = displacement_(w_[i], good_q[:,:config_nb])\n",
    "    d_ = displacement_(w_[i], q_random[:,:config_nb])\n",
    "#     disp[:,:, i] = tf.reduce_max(displacement_(w_[i], q_random), -1)\n",
    "#     disp[:,:, i] = tf.reduce_max(d_, -1)\n",
    "    disp_x[:,:,i] = d_\n"
   ]
  },
  {
   "cell_type": "code",
   "execution_count": 52,
   "metadata": {},
   "outputs": [],
   "source": [
    "# disp = tf.einsum('abci,i->abc',disp_x, tf.constant([1., 0., 0.]))\n",
    "disp = tf.reduce_max(disp_x, -1)"
   ]
  },
  {
   "cell_type": "code",
   "execution_count": 53,
   "metadata": {
    "scrolled": true
   },
   "outputs": [
    {
     "data": {
      "image/png": "[encoded data removed]",
      "text/plain": [
       "<Figure size 400x300 with 1 Axes>"
      ]
     },
     "metadata": {},
     "output_type": "display_data"
    }
   ],
   "source": [
    "fig,ax = plt.subplots(1, figsize=(4,3))\n",
    "for j in range(1):\n",
    "    for i in range(config_nb):\n",
    "        ax.plot(w_,disp[j,i]*1e3, \"-\", label=\"Point A\")\n",
    "ax.ticklabel_format(style='sci', axis='y', scilimits=(0,0))\n",
    "ax.set_xlabel('$\\omega$'+' (rad/s)')\n",
    "ax.set_ylabel('$\\eta$'+' (mm/N)')\n",
    "ax.grid(\"on\")\n",
    "# Major ticks every 20, minor ticks every 5\n",
    "major_ticks = np.arange(0, w_[-1], 50)\n",
    "minor_ticks = np.arange(0, w_[-1], 10)\n",
    "\n",
    "ax.set_xticks(major_ticks)\n",
    "ax.set_xticks(minor_ticks, minor=True)\n",
    "\n",
    "def forward(x):\n",
    "    return x * 130.\n",
    "\n",
    "\n",
    "def inverse(x):\n",
    "    return x/130.\n",
    "\n",
    "secax = ax.secondary_yaxis('right', functions=(forward, inverse))\n",
    "secax.set_ylabel('$\\Delta x$'+' (mm)')\n",
    "secax.ticklabel_format(style='sci', axis='y', scilimits=(0,0))\n",
    "\n",
    "\n",
    "# And a corresponding grid\n",
    "ax.grid(which='both')\n",
    "\n",
    "# Or if you want different settings for the grids:\n",
    "ax.grid(which='minor', alpha=0.2)\n",
    "ax.grid(which='major', alpha=0.5)\n",
    "# ax.set_facecolor(\"w\")\n",
    "# plt.legend()"
   ]
  },
  {
   "cell_type": "code",
   "execution_count": 54,
   "metadata": {},
   "outputs": [
    {
     "data": {
      "text/plain": [
       "<tf.Tensor: shape=(0, 3), dtype=int64, numpy=array([], shape=(0, 3), dtype=int64)>"
      ]
     },
     "execution_count": 54,
     "metadata": {},
     "output_type": "execute_result"
    }
   ],
   "source": [
    "tf.where(disp < 0.)"
   ]
  },
  {
   "cell_type": "code",
   "execution_count": 55,
   "metadata": {},
   "outputs": [
    {
     "data": {
      "image/png": "[encoded data removed]",
      "text/plain": [
       "<Figure size 640x480 with 1 Axes>"
      ]
     },
     "metadata": {},
     "output_type": "display_data"
    }
   ],
   "source": [
    "_ = plt.hist(disp[0]*1000*130.)"
   ]
  },
  {
   "cell_type": "markdown",
   "metadata": {},
   "source": [
    "### Optimization for displacement"
   ]
  },
  {
   "cell_type": "code",
   "execution_count": 56,
   "metadata": {},
   "outputs": [],
   "source": [
    "batch = 500\n",
    "q_test = tf.Variable(good_q[:, :batch], trainable=True)\n",
    "@tf.function\n",
    "def cost_(): \n",
    "    return cost_ik(q_test)"
   ]
  },
  {
   "cell_type": "code",
   "execution_count": 57,
   "metadata": {},
   "outputs": [],
   "source": [
    "\n",
    "@tf.function\n",
    "def train_step():\n",
    "    with tf.GradientTape(watch_accessed_variables=False) as tape:\n",
    "        tape.watch(q_test)\n",
    "        disp_cost = tf.norm(displacement(q_test),ord=2,axis=-1 )\n",
    "        loss = cost_ik(q_test) + 1e1*disp_cost\n",
    "        \n",
    "    grads = tape.gradient(loss, [q_test])\n",
    "\n",
    "#     J = chain.jacobian(q_test, layout=tk.FkLayout.xq)\n",
    "#     Jv = J[:, :3]\n",
    "#     Jv_pinv = tf.linalg.pinv(Jv)\n",
    "    \n",
    "#     Jw = J[:,3:]\n",
    "#     Jw_ = tf.concat([tf.zeros((batch, 1, chain.nb_joint)), Jw],1)\n",
    "#     Jq = 0.5*utils.omega_quat_left(kdl_q)@Jw_\n",
    "#     Jq_pinv = tf.linalg.pinv(Jq)\n",
    "    \n",
    "#     dquat = world_q - mu_batch\n",
    "#     dx = world_end_pos - mu_x\n",
    "#     grads_ = grads[0] + 10*tf.linalg.matvec(Jq_pinv, dquat) + 100*tf.linalg.matvec(Jv_pinv, dx)\n",
    "#     grads_ = tf.clip_by_value(grads[0], -1e15, 1e15)\n",
    "    grads_ = grads[0]\n",
    "    grads_ = tf.where(tf.math.is_nan(grads_), tf.zeros_like(grads_), grads_)\n",
    "    optimizer.apply_gradients(zip([grads_], [q_test]))\n",
    "    return loss, grads"
   ]
  },
  {
   "cell_type": "code",
   "execution_count": 58,
   "metadata": {},
   "outputs": [],
   "source": [
    "optimizer = tf.keras.optimizers.Adam(0.05)"
   ]
  },
  {
   "cell_type": "code",
   "execution_count": 105,
   "metadata": {},
   "outputs": [
    {
     "name": "stdout",
     "output_type": "stream",
     "text": [
      "[[0.00163814449 0.00165756687 0.0229394641 ... 0.00223494461 0.00444937637 0.0220892038]\n",
      " [0.0185449272 0.00369125186 0.00154372258 ... 0.0194793716 0.00396364927 0.0187286064]\n",
      " [0.00362362759 0.0139812538 0.00782355666 ... 0.00179088872 0.00458873063 0.00444711559]\n",
      " ...\n",
      " [0.00717568491 0.153614476 0.00207277271 ... 0.103289902 0.00270205969 0.00142017857]\n",
      " [0.00376762683 0.00813917071 0.00277020386 ... 0.0222838968 0.0692850128 0.258859754]\n",
      " [0.0201233886 0.0362072401 0.00387115404 ... 0.0157053862 0.0978342667 0.0220157802]]\r\n"
     ]
    }
   ],
   "source": [
    "for i in range(1000000):\n",
    "    try :\n",
    "        loss, grads = train_step()\n",
    "        display.clear_output(wait=True)\n",
    "        tf.print(loss)\n",
    "    except KeyboardInterrupt:\n",
    "        break"
   ]
  },
  {
   "cell_type": "code",
   "execution_count": 106,
   "metadata": {},
   "outputs": [
    {
     "data": {
      "text/plain": [
       "<tf.Tensor: shape=(0, 2), dtype=int64, numpy=array([], shape=(0, 2), dtype=int64)>"
      ]
     },
     "execution_count": 106,
     "metadata": {},
     "output_type": "execute_result"
    }
   ],
   "source": [
    "# check if there is any nan\n",
    "tf.where(tf.math.is_nan(loss) == True)"
   ]
  },
  {
   "cell_type": "code",
   "execution_count": 107,
   "metadata": {
    "scrolled": true
   },
   "outputs": [
    {
     "name": "stdout",
     "output_type": "stream",
     "text": [
      "(84, 500, 3)\n"
     ]
    }
   ],
   "source": [
    "xs_,_,_ = check_q(q_test)\n",
    "print(xs_.shape)\n",
    "i=0"
   ]
  },
  {
   "cell_type": "code",
   "execution_count": 108,
   "metadata": {},
   "outputs": [],
   "source": [
    "j = 0"
   ]
  },
  {
   "cell_type": "code",
   "execution_count": 109,
   "metadata": {
    "scrolled": true
   },
   "outputs": [
    {
     "data": {
      "image/png": "[encoded data removed]",
      "text/plain": [
       "<Figure size 640x480 with 1 Axes>"
      ]
     },
     "metadata": {},
     "output_type": "display_data"
    }
   ],
   "source": [
    "plt.plot(tf.linalg.norm(displacement(good_q[j,:batch][None])[0],axis=-1), \"bx\", label=\"Before optimization\")\n",
    "plt.plot(tf.linalg.norm(displacement(q_test[j][None])[0],axis=-1), \"rx\", label=\"After optimization\")\n",
    "plt.legend()\n",
    "plt.ticklabel_format(style='sci', axis='y', scilimits=(0,0))\n",
    "j+=1\n",
    "# do with 3 different w values"
   ]
  },
  {
   "cell_type": "code",
   "execution_count": 110,
   "metadata": {},
   "outputs": [
    {
     "data": {
      "text/plain": [
       "(42000,)"
      ]
     },
     "execution_count": 110,
     "metadata": {},
     "output_type": "execute_result"
    }
   ],
   "source": [
    "(displacement(good_q[:,:batch])*1e3).numpy()[...,0].flatten().shape"
   ]
  },
  {
   "cell_type": "code",
   "execution_count": 111,
   "metadata": {
    "scrolled": false
   },
   "outputs": [
    {
     "data": {
      "text/plain": [
       "[]"
      ]
     },
     "execution_count": 111,
     "metadata": {},
     "output_type": "execute_result"
    },
    {
     "data": {
      "image/png": "[encoded data removed]",
      "text/plain": [
       "<Figure size 400x300 with 1 Axes>"
      ]
     },
     "metadata": {},
     "output_type": "display_data"
    }
   ],
   "source": [
    "fig,ax=plt.subplots(1,figsize=(4,3))\n",
    "density = 1\n",
    "after_opt_data = displacement(q_test)*1e3\n",
    "before_opt_data = displacement(good_q[:,:batch])*1e3\n",
    "# ax.hist(tf.linalg.norm(after_opt_data,axis=-1).numpy().flatten(), density=density, color=\"b\", label=\"After optimization\")\n",
    "# ax.hist(tf.linalg.norm(before_opt_data,axis=-1).numpy().flatten(), density=density, alpha=0.3, color=\"r\", label=\"Before optimization\")\n",
    "# ax.plot(after_opt_data.numpy().flatten(), np.ones_like(after_opt_data.numpy().flatten())*(-0.1), \"bx\", alpha=0.1)\n",
    "# ax.plot(before_opt_data.numpy().flatten(), np.ones_like(after_opt_data.numpy().flatten())*(-0.2), \"rx\", alpha=0.1)\n",
    "\n",
    "ax.hist(after_opt_data.numpy()[...,0].flatten(),density=density,color=\"b\", label=\"After optimization\")\n",
    "ax.hist(before_opt_data.numpy()[...,0].flatten(), color=\"r\",density=density, alpha=0.3, label=\"Before optimization\")\n",
    "ax.plot(after_opt_data.numpy()[...,0].flatten(), np.ones_like(after_opt_data.numpy()[...,0].flatten())*(-100), \"bx\", alpha=0.1)\n",
    "ax.plot(before_opt_data.numpy()[...,0].flatten(), np.ones_like(after_opt_data.numpy()[...,0].flatten())*(-300), \"rx\", alpha=0.1)\n",
    "\n",
    "\n",
    "\n",
    "ax.ticklabel_format(style='sci', axis='x', scilimits=(0,0))\n",
    "ax.set_xlabel('$\\eta$'+' (mm/N)')\n",
    "ax.set_ylabel(\"density\")\n",
    "secax = ax.secondary_xaxis('top', functions=(forward, inverse))\n",
    "secax.set_xlabel('$\\Delta x$'+' (mm)')\n",
    "secax.ticklabel_format(style='sci', axis='x', scilimits=(0,0))\n",
    "ax.legend(loc=7)\n",
    "\n",
    "ax.set_yticks([])"
   ]
  },
  {
   "cell_type": "code",
   "execution_count": 112,
   "metadata": {},
   "outputs": [
    {
     "data": {
      "image/png": "[encoded data removed]",
      "text/plain": [
       "<Figure size 640x480 with 3 Axes>"
      ]
     },
     "metadata": {},
     "output_type": "display_data"
    }
   ],
   "source": [
    "fig,ax = plt.subplots(ncols=3)\n",
    "j = 0\n",
    "for i in range(3):\n",
    "    ax[i].plot(before_opt_data.numpy()[j,:,i])"
   ]
  },
  {
   "cell_type": "code",
   "execution_count": 118,
   "metadata": {},
   "outputs": [
    {
     "data": {
      "image/png": "[encoded data removed]",
      "text/plain": [
       "<Figure size 400x300 with 1 Axes>"
      ]
     },
     "metadata": {},
     "output_type": "display_data"
    }
   ],
   "source": [
    "fig,ax = plt.subplots(figsize=(4,3))\n",
    "density = 1\n",
    "after_opt_data = displacement(q_test)*1e3\n",
    "before_opt_data = displacement(good_q[:,:batch])*1e3\n",
    "\n",
    "ax.boxplot([ before_opt_data.numpy()[...,0].flatten(), after_opt_data.numpy()[...,0].flatten()])\n",
    "\n",
    "# ax.boxplot([tf.linalg.norm(before_opt_data,axis=-1).numpy().flatten(), \n",
    "#             tf.linalg.norm(after_opt_data,axis=-1).numpy().flatten()])\n",
    "\n",
    "# ax.boxplot(tf.linalg.norm(after_opt_data,axis=-1).numpy().flatten())\n",
    "ticks = [\"Before\", \"After\"]\n",
    "ax.set_xticks([1,2])\n",
    "ax.set_xticklabels( ticks, rotation=0 )\n",
    "ax.ticklabel_format(style='sci', axis='y', scilimits=(0,0))\n",
    "ax.set_ylabel('$\\eta$'+' (mm/N)')\n",
    "\n",
    "secax = ax.secondary_yaxis('right', functions=(forward, inverse))\n",
    "secax.set_ylabel('$\\Delta x$'+' (mm)')\n",
    "secax.ticklabel_format(style='sci', axis='y', scilimits=(0,0))"
   ]
  },
  {
   "cell_type": "code",
   "execution_count": 116,
   "metadata": {},
   "outputs": [
    {
     "name": "stdout",
     "output_type": "stream",
     "text": [
      "0.00013112971\n"
     ]
    },
    {
     "data": {
      "text/plain": [
       "0.00040834103"
      ]
     },
     "execution_count": 116,
     "metadata": {},
     "output_type": "execute_result"
    }
   ],
   "source": [
    "print(np.std(after_opt_data.numpy()[...,0].flatten()))\n",
    "np.mean(after_opt_data.numpy()[...,0].flatten())"
   ]
  },
  {
   "cell_type": "code",
   "execution_count": 117,
   "metadata": {},
   "outputs": [
    {
     "name": "stdout",
     "output_type": "stream",
     "text": [
      "0.00048334175\n"
     ]
    },
    {
     "data": {
      "text/plain": [
       "0.00043539485"
      ]
     },
     "execution_count": 117,
     "metadata": {},
     "output_type": "execute_result"
    }
   ],
   "source": [
    "print(np.std(before_opt_data.numpy()[...,0].flatten()))\n",
    "np.mean(before_opt_data.numpy()[...,0].flatten())"
   ]
  },
  {
   "cell_type": "code",
   "execution_count": 133,
   "metadata": {},
   "outputs": [],
   "source": [
    "data_teguh = {}\n",
    "data_teguh = {\"targets\": targets, \"q\":q_test.numpy(), \"disp\":displacement(q_test).numpy()}"
   ]
  },
  {
   "cell_type": "code",
   "execution_count": 134,
   "metadata": {},
   "outputs": [],
   "source": [
    "np.save(\"data2teguh\", data_teguh)"
   ]
  },
  {
   "cell_type": "code",
   "execution_count": null,
   "metadata": {},
   "outputs": [],
   "source": [
    "# i = 0"
   ]
  },
  {
   "cell_type": "code",
   "execution_count": null,
   "metadata": {},
   "outputs": [],
   "source": [
    "# plot_limits(q_test[i])\n",
    "# robot.set_q_(q_test[i])\n",
    "# tf.print(cost_joint_limit(q_test[i][None]))\n",
    "# i+=1"
   ]
  },
  {
   "cell_type": "markdown",
   "metadata": {},
   "source": [
    "### Fatigue cost"
   ]
  },
  {
   "cell_type": "code",
   "execution_count": null,
   "metadata": {},
   "outputs": [],
   "source": [
    "r = tf.ones(7)*0.12 # radius of the joint shaft\n",
    "l = tf.ones(7)*0.182 # length of the joint shaft\n",
    "G = 10. # joint shaft shear modulus\n",
    "ka = 0.93*tf.ones(7)\n",
    "kb = 0.86*tf.ones(7)\n",
    "kc = 0.59*tf.ones(7)\n",
    "kd = 1.*tf.ones(7)\n",
    "ke = 0.753*tf.ones(7)\n",
    "kf = 1.*tf.ones(7)\n",
    "Se_ = 92.4*tf.ones(7) # in MPa ( N/m^2)\n",
    "Se = ka*kb*kc*kd*ke*kf*Se_ # in MPa ( N/m^2)\n",
    "F_ = tf.cast(F*nF, tf.float32)\n",
    "F_ = tf.complex(F_, tf.zeros_like(F_))[None, None]\n",
    "def compute_H_(w, M, J, C, K):\n",
    "    \"\"\"\n",
    "    Finds the displacement force frequency response function H(w)\n",
    "    \"\"\"\n",
    "    comp = tf.complex(-(w**2)*M+K, w*C)\n",
    "    return tf.linalg.inv(comp, adjoint=True)@tf.transpose(J, (0,2,1))\n",
    "\n",
    "def fatigue_cost(q):\n",
    "    \"\"\"\n",
    "    Inequality cost, -endurance limit < torsional stress < endurance limit\n",
    "    Either take abs value of torsional stress (it comes with the vector, that's why negative), or do as above.\n",
    "    H: (-(w^2)M + jwC + K)^(-1)(J.T)\n",
    "    \"\"\"\n",
    "    q_vec = tf.reshape(q, (q.shape[0]*q.shape[1], q.shape[2]))\n",
    "    M = dyn.inertia_matrix(q_vec)\n",
    "    J = chain.jacobian(q_vec, layout=tk.FkLayout.x)\n",
    "    J = tf.complex(J, tf.zeros_like(J))\n",
    "    H = compute_H_(w, M, J, C, K)\n",
    "    delta_q = tf.linalg.matvec(H , F_)\n",
    "    gamma = tf.math.real(delta_q) * r /l # shear strain\n",
    "    stress = G*gamma # torsional stress\n",
    "#     return -ds.Normal(-Se, std).log_cdf(stress) - ds.Normal(-Se, std).log_cdf(-stress)\n",
    "\n",
    "    rl = tf.math.minimum(stress-(-Se), 0)\n",
    "    ru = tf.math.maximum(stress-(Se), 0)\n",
    "    return 0.5*(tf.linalg.einsum('hbi,hbi->hb',rl, rl) + tf.linalg.einsum('hbi,hbi->hb',ru, ru))\n",
    "    "
   ]
  },
  {
   "cell_type": "code",
   "execution_count": null,
   "metadata": {},
   "outputs": [],
   "source": [
    "plt.plot(fatigue_cost(\n",
    "    tf.random.uniform(shape=(hole_nb, batch, 7), minval=joint_limits[:,0],maxval=joint_limits[:,1]))[0], \"kx\")"
   ]
  },
  {
   "cell_type": "markdown",
   "metadata": {},
   "source": [
    "### Variational Inference Part\n"
   ]
  },
  {
   "cell_type": "code",
   "execution_count": null,
   "metadata": {},
   "outputs": [],
   "source": [
    "# @tf.function\n",
    "def p(q):\n",
    "    xs = chain.xs(q, layout=tk.FkLayout.xm)\n",
    "    kdl_end_pos = xs[:, -1, :3]\n",
    "    world_end_pos = tf.einsum('ij, aj->ai',base_rot_mat, kdl_end_pos) + base_pos\n",
    "\n",
    "    kdl_end_rot_mat = tf.reshape(xs[:, -1, 3:], (q.shape[0], 3,3))\n",
    "    world_end_rot_mat =  tf.einsum('ij, ajk->aik', base_rot_mat, kdl_end_rot_mat)\n",
    "    world_end_quats = rot2quat(world_end_rot_mat)\n",
    "    \n",
    "#     disp_cost = tf.reduce_max(displacement(q), axis=-1)\n",
    "    disp_cost = tf.norm(displacement(q), ord=2, axis=-1)\n",
    "    ee_pos_cost = -normal_log_prob(world_end_pos)\n",
    "    ee_quat_cost = -normalS3_log_prob(Quaternion(world_end_quats))\n",
    "#     return -ee_quat_cost\n",
    "    return -ee_pos_cost - ee_quat_cost\n",
    "#     return -ee_pos_cost - ee_quat_cost + reward_joint_limit(q)\n",
    "#     return -disp_cost - ee_pos_cost - ee_quat_cost + reward_joint_limit(q)\n"
   ]
  },
  {
   "cell_type": "markdown",
   "metadata": {},
   "source": [
    "### Define the cost function for variational inference"
   ]
  },
  {
   "cell_type": "code",
   "execution_count": null,
   "metadata": {},
   "outputs": [],
   "source": [
    "optimizer = tf.keras.optimizers.Adam(0.01)"
   ]
  },
  {
   "cell_type": "code",
   "execution_count": null,
   "metadata": {},
   "outputs": [],
   "source": [
    "## q is GMM with means and covariances to learn\n",
    "K = 5\n",
    "log_priors_gmm = tf.Variable(tf.ones(K), trainable=True)\n",
    "locs_gmm = tf.Variable(tf.random.normal(shape=(K,7)), trainable=True) # better start with the good solutions, this is a very bad guess\n",
    "total_param_dims = 7*8//2\n",
    "total_params =  tf.Variable(0.01*tf.ones((K,total_param_dims)), trainable=True)\n",
    "# diag_params = tf.Variable(2*tf.ones((K,7)), trainable=True)"
   ]
  },
  {
   "cell_type": "code",
   "execution_count": null,
   "metadata": {},
   "outputs": [],
   "source": [
    "@tf.function\n",
    "def cost():\n",
    "    triu = tfp.math.fill_triangular(total_params) # lower\n",
    "    diag_part = tf.nn.softmax(tf.linalg.diag_part(triu)) + 1e-2\n",
    "    triu = triu - tf.linalg.diag(tf.linalg.diag_part(triu)) + tf.linalg.diag(diag_part)\n",
    "    cov_gmm = tf.linalg.matmul(triu, triu, transpose_b=True)\n",
    "\n",
    "    q = oc.stats.GMMFull(oc.utils.log_normalize(log_priors_gmm), locs_gmm,cov_gmm)\n",
    "#     cov_gmm = tf.linalg.diag(diag_params)\n",
    "#     q = oc.stats.GMMFull(oc.utils.log_normalize(log_priors_gmm), locs_gmm,cov_gmm*cov_gmm)\n",
    "    \n",
    "    return q.kl_qp(p, temp=1., samples_size=50)"
   ]
  },
  {
   "cell_type": "code",
   "execution_count": null,
   "metadata": {},
   "outputs": [],
   "source": [
    "optimizer.rate = 0.005\n",
    "for i in range(1000000):\n",
    "    try :\n",
    "#         optimizer.minimize(cost, [locs_gmm,diag_params]) #first run this a bit to find the modes\n",
    "#         optimizer.minimize(cost, [log_priors_gmm,locs_gmm,diag_params]) # then run this to give priorities to modes withhigher ucnertainties\n",
    "\n",
    "        optimizer.minimize(cost, [locs_gmm]) #first run this a bit to find the modes\n",
    "#         optimizer.minimize(cost, [locs_gmm,total_params]) #first run this a bit to find the modes\n",
    "#         optimizer.minimize(cost, [log_priors_gmm,locs_gmm,total_params]) # then run this to give priorities to modes with\n",
    "        loss = cost()\n",
    "#         loss, grads = train_step(optimizer)\n",
    "        display.clear_output(wait=True)\n",
    "        tf.print(loss)\n",
    "#         tf.print(reward_joint_limit(locs_gmm))\n",
    "    except KeyboardInterrupt:\n",
    "        break"
   ]
  },
  {
   "cell_type": "code",
   "execution_count": null,
   "metadata": {},
   "outputs": [],
   "source": [
    "triu = tfp.math.fill_triangular(total_params) # lower\n",
    "diag_part = tf.nn.softmax(tf.linalg.diag_part(triu)) + 1e-3\n",
    "triu = triu - tf.linalg.diag(tf.linalg.diag_part(triu)) + tf.linalg.diag(diag_part)\n",
    "cov_gmm = tf.linalg.matmul(triu, triu, transpose_b=True)\n",
    "q = oc.stats.GMMFull(oc.utils.log_normalize(log_priors_gmm), locs_gmm,cov_gmm)"
   ]
  },
  {
   "cell_type": "code",
   "execution_count": null,
   "metadata": {},
   "outputs": [],
   "source": [
    "i = 0"
   ]
  },
  {
   "cell_type": "code",
   "execution_count": null,
   "metadata": {},
   "outputs": [],
   "source": [
    "robot.teaching_mode()"
   ]
  },
  {
   "cell_type": "code",
   "execution_count": null,
   "metadata": {},
   "outputs": [],
   "source": [
    "robot.q_control(q.locs[i].numpy(), max_iter=5000)\n",
    "tf.print(q.locs[i])\n",
    "tf.print(robot.q)\n",
    "tf.print(robot.x)\n",
    "xs = chain.xs(q.locs[i][None], layout=tk.FkLayout.xm)\n",
    "kdl_end_pos = xs[:, -1, :3]\n",
    "tf.print(tf.einsum('ij, aj->ai',base_rot_mat, kdl_end_pos) + base_pos)\n",
    "i+=1"
   ]
  },
  {
   "cell_type": "code",
   "execution_count": null,
   "metadata": {},
   "outputs": [],
   "source": []
  }
 ],
 "metadata": {
  "kernelspec": {
   "display_name": "Python 3",
   "language": "python",
   "name": "python3"
  },
  "language_info": {
   "codemirror_mode": {
    "name": "ipython",
    "version": 3
   },
   "file_extension": ".py",
   "mimetype": "text/x-python",
   "name": "python",
   "nbconvert_exporter": "python",
   "pygments_lexer": "ipython3",
   "version": "3.7.6"
  }
 },
 "nbformat": 4,
 "nbformat_minor": 4
}

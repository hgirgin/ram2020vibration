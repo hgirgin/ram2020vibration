{
 "cells": [
  {
   "cell_type": "code",
   "execution_count": 663,
   "metadata": {
    "ExecuteTime": {
     "end_time": "2020-12-17T16:53:47.104881Z",
     "start_time": "2020-12-17T16:53:46.850562Z"
    }
   },
   "outputs": [],
   "source": [
    "import tensorflow as tf\n",
    "# tf.debugging.set_log_device_placement(True)  # to  visualize which functions are assigned to which device(CPU or GPU)\n",
    "# # by default, GPU is assigned priority for tensorflow. To disable it, run this:\n",
    "# import os\n",
    "# os.environ[\"CUDA_VISIBLE_DEVICES\"]=\"-1\""
   ]
  },
  {
   "cell_type": "code",
   "execution_count": 664,
   "metadata": {
    "ExecuteTime": {
     "end_time": "2020-12-17T16:53:47.366184Z",
     "start_time": "2020-12-17T16:53:47.106876Z"
    },
    "scrolled": true
   },
   "outputs": [
    {
     "name": "stdout",
     "output_type": "stream",
     "text": [
      "The autoreload extension is already loaded. To reload it, use:\n",
      "  %reload_ext autoreload\n"
     ]
    }
   ],
   "source": [
    "from IPython.core import display\n",
    "import tensorflow_probability as tfp\n",
    "import matplotlib.pyplot as plt\n",
    "from math import pi\n",
    "import tf_kdl as tk\n",
    "from tf_quaternion import *\n",
    "from scipy.spatial.transform import Rotation as R\n",
    "import tensorflow_probability as tfp\n",
    "from utils import *\n",
    "plt.style.use(\"default\")\n",
    "%matplotlib inline\n",
    "%load_ext autoreload\n",
    "%autoreload 2\n",
    "np.set_printoptions(precision=3)"
   ]
  },
  {
   "cell_type": "markdown",
   "metadata": {},
   "source": [
    "### Setup of some functions and variables\n"
   ]
  },
  {
   "cell_type": "code",
   "execution_count": 665,
   "metadata": {
    "ExecuteTime": {
     "end_time": "2020-12-17T16:53:47.635463Z",
     "start_time": "2020-12-17T16:53:47.369175Z"
    }
   },
   "outputs": [],
   "source": [
    "def rotvec2mat(x):\n",
    "    return R.as_matrix(R.from_rotvec(x))"
   ]
  },
  {
   "cell_type": "code",
   "execution_count": 666,
   "metadata": {
    "ExecuteTime": {
     "end_time": "2020-12-17T16:53:47.912721Z",
     "start_time": "2020-12-17T16:53:47.639454Z"
    }
   },
   "outputs": [],
   "source": [
    "# Loading the rivet positions in 3D position vectors\n",
    "targets_x = np.load(\"targets_x.npy\", allow_pickle=True)\n",
    "targets_orn = np.load(\"targets_orn.npy\", allow_pickle=True)\n",
    "rotation_axes = np.load('rotation_axes.npy', allow_pickle=True)"
   ]
  },
  {
   "cell_type": "code",
   "execution_count": 780,
   "metadata": {
    "ExecuteTime": {
     "end_time": "2020-12-17T17:05:56.650705Z",
     "start_time": "2020-12-17T17:05:56.344966Z"
    },
    "scrolled": false
   },
   "outputs": [
    {
     "name": "stdout",
     "output_type": "stream",
     "text": [
      "chain None\n"
     ]
    },
    {
     "name": "stderr",
     "output_type": "stream",
     "text": [
      "Unknown tag \"material\" in /robot[@name='panda']/link[@name='panda_link0']/collision[1]\n",
      "Unknown tag \"material\" in /robot[@name='panda']/link[@name='panda_link1']/collision[1]\n",
      "Unknown tag \"material\" in /robot[@name='panda']/link[@name='panda_link2']/collision[1]\n",
      "Unknown tag \"material\" in /robot[@name='panda']/link[@name='panda_link4']/collision[1]\n",
      "Unknown tag \"material\" in /robot[@name='panda']/link[@name='panda_link5']/collision[1]\n",
      "Unknown tag \"material\" in /robot[@name='panda']/link[@name='panda_link6']/collision[1]\n",
      "Unknown tag \"material\" in /robot[@name='panda']/link[@name='panda_link7']/collision[1]\n",
      "Unknown tag \"material\" in /robot[@name='panda']/link[@name='panda_hand']/collision[1]\n"
     ]
    }
   ],
   "source": [
    "# Using tensorflow implementation of KDL, get the urdf, chain and dyn parameters\n",
    "urdf = tk.utils.urdf_utils.urdf_from_file('urdf/panda/panda_arm_kdl.urdf')\n",
    "chain = tk.utils.urdf_utils.tk_chain_from_urdf(urdf)\n",
    "dyn = tk.ChainDynParam(chain)\n"
   ]
  },
  {
   "cell_type": "code",
   "execution_count": 668,
   "metadata": {
    "ExecuteTime": {
     "end_time": "2020-12-17T16:53:48.457265Z",
     "start_time": "2020-12-17T16:53:48.213916Z"
    }
   },
   "outputs": [],
   "source": [
    "# Transformations from world frame(bullet) of the simulation to the robot frame(kdl):\n",
    "# For Panda on the floor and for this paper, we used the same frame, but the user can change it from here.\n",
    "base_pos = tf.cast(np.array([0., 0., 0.])[None], tf.float32)\n",
    "base_rot_vec = np.array([0., 0., 0.])\n",
    "base_rot_mat = tf.cast(rotvec2mat(base_rot_vec), tf.float32)\n",
    "base_rot_mat_inv = tf.cast(tf.transpose(base_rot_mat), tf.float32)\n",
    "\n",
    "def kdl2bullet_x(x):\n",
    "    \"\"\"\n",
    "    param: x: [batch, 3] position in kdl (wrt robot base frame)\n",
    "    return: [batch, 3] position in bullet (wrt bullet world frame)\n",
    "    \"\"\"\n",
    "    return tf.einsum('ij, aj->ai',base_rot_mat, x) + base_pos\n",
    "\n",
    "def bullet2kdl_x(x):\n",
    "    \"\"\"\n",
    "    param: x: [batch, 3] position in bullet (wrt bullet world frame)\n",
    "    return: [batch, 3] position in kdl (wrt robot base frame)\n",
    "    \"\"\"\n",
    "    return tf.einsum('ij, aj->ai',base_rot_mat_inv, x - base_pos)\n",
    "\n",
    "def kdl2bullet_q(x):\n",
    "    \"\"\"\n",
    "    param: x: [batch, 9] vectorized rotation matrix in kdl (wrt robot base frame)\n",
    "    return: [batch, 4] quaternion vector in bullet (wrt bullet world frame)\n",
    "    \"\"\"\n",
    "    kdl_end_rot_mat = tf.reshape(x, (x.shape[0], 3,3))\n",
    "    world_end_rot_mat =  tf.einsum('ij, ajk->aik', base_rot_mat, kdl_end_rot_mat)\n",
    "    return rot2quat(world_end_rot_mat)\n",
    "\n",
    "def bullet2kdl_q(x):\n",
    "    \"\"\"\n",
    "    param: x: [batch, 9] vectorized rotation matrix in bullet (wrt bullet world frame)\n",
    "    return: [batch, 4] quaternion vector in kdl (wrt robot base frame)\n",
    "    \"\"\"\n",
    "    world_end_rot_mat = tf.reshape(x, (x.shape[0], 3,3))\n",
    "    kdl_end_rot_mat =  tf.einsum('ij, ajk->aik', base_rot_mat_inv, world_end_rot_mat)\n",
    "    return rot2quat(kdl_end_rot_mat)\n",
    "        \n",
    "def kdl2bullet_xq(x):\n",
    "    \"\"\"\n",
    "    param: x: [batch, 12] position + vectorized rotation matrix in kdl (wrt robot base frame)\n",
    "    return: [batch, 3], [batch, 4]  position, quaternion in bullet (wrt bullet world frame)\n",
    "    \"\"\"\n",
    "    return kdl2bullet_x(x[:, :3]), kdl2bullet_q(x[:, 3:])\n",
    "\n",
    "def bullet2kdl_xq(x):\n",
    "    \"\"\"\n",
    "    param: x: [batch, 12] position + vectorized rotation matrix in bullet (wrt bullet world frame)\n",
    "    return: [batch, 3], [batch, 4]  position, quaternion in kdl (wrt robot base frame)\n",
    "    \"\"\"\n",
    "    return bullet2kdl_x(x[:, :3]), bullet2kdl_q(x[:, 3:])\n"
   ]
  },
  {
   "cell_type": "markdown",
   "metadata": {},
   "source": [
    "### Defining the end-pose cost"
   ]
  },
  {
   "cell_type": "code",
   "execution_count": 669,
   "metadata": {
    "ExecuteTime": {
     "end_time": "2020-12-17T16:53:48.708627Z",
     "start_time": "2020-12-17T16:53:48.458263Z"
    }
   },
   "outputs": [],
   "source": [
    "def quat2format_scalar_first(x):\n",
    "    return np.array([x[-1], x[0], x[1], x[2]])\n",
    "\n",
    "def prec_from_mu(mu, R):\n",
    "    quats_xyz = Quaternion(create_unit_rotations(angle=pi/2, R=R))\n",
    "    mu_  = Quaternion(tf.tile(mu, (3,1)))\n",
    "    rot_mu =  mu_ * quats_xyz\n",
    "    u = Quaternion(rot_mu) - mu_\n",
    "    u = u/tf.linalg.norm(u, axis=-1)[:,None]\n",
    "    norms = tf.constant([1, 1e-4, 1e-4]) # this defines the precision\n",
    "    cov = tf.reduce_sum(tf.einsum('k,kij->kij', \n",
    "                                      norms,\n",
    "                                      tf.einsum('ki, kj->kij',u,u)), axis=0)\n",
    "    cov += 1e-6 * tf.eye(4)\n",
    "\n",
    "    prec = tf.linalg.inv(cov)\n",
    "    return prec"
   ]
  },
  {
   "cell_type": "code",
   "execution_count": 670,
   "metadata": {
    "ExecuteTime": {
     "end_time": "2020-12-17T16:53:48.961960Z",
     "start_time": "2020-12-17T16:53:48.710590Z"
    }
   },
   "outputs": [],
   "source": [
    "# Quaternion cost\n",
    "def normalS3_log_prob_(mu_quat, prec, batch):\n",
    "    \"\"\"\n",
    "    mu_quat: [hole_nb, 1, 4]\n",
    "    prec: [hole_nb, 4, 4]\n",
    "    \"\"\"\n",
    "    mu = Quaternion(tf.tile(mu_quat, (1, batch, 1)))\n",
    "    def normalS3_log_prob(x):\n",
    "        \"\"\"\n",
    "        x : [hole_nb, batch_nb, 4]\n",
    "        Quaternion lognormal distribution\n",
    "        \"\"\"\n",
    "        diff = x - mu\n",
    "        quad = -0.5*tf.linalg.einsum('hbi,hbi->hb',diff, tf.linalg.einsum('hij,hbj->hbi',prec,diff))\n",
    "        return quad\n",
    "    return normalS3_log_prob"
   ]
  },
  {
   "cell_type": "code",
   "execution_count": 671,
   "metadata": {
    "ExecuteTime": {
     "end_time": "2020-12-17T16:53:49.211317Z",
     "start_time": "2020-12-17T16:53:48.963937Z"
    }
   },
   "outputs": [],
   "source": [
    "# Position cost\n",
    "cov_x = tf.linalg.diag([1e-3, 1e-3, 1e-3])\n",
    "prec_x = tf.linalg.inv(cov_x)\n",
    "\n",
    "def normal_log_prob_(mu_x):\n",
    "    \"\"\"\n",
    "    mu_x : [hole_nb, 1, 3]\n",
    "    \"\"\"\n",
    "    def normal_log_prob(x):\n",
    "        \"\"\"\n",
    "        x: [hole_nb, batch_nb, 3]\n",
    "        Cartesian lognormal distribution\n",
    "        \"\"\"\n",
    "        diff = x - mu_x\n",
    "        quad = -0.5*tf.linalg.einsum('hbi,hbi->hb',diff, tf.linalg.einsum('ij,hbj->hbi',prec_x,diff))\n",
    "        return quad\n",
    "    return normal_log_prob"
   ]
  },
  {
   "cell_type": "markdown",
   "metadata": {},
   "source": [
    "### Joint limit costs"
   ]
  },
  {
   "cell_type": "code",
   "execution_count": 672,
   "metadata": {
    "ExecuteTime": {
     "end_time": "2020-12-17T16:53:49.460629Z",
     "start_time": "2020-12-17T16:53:49.213289Z"
    }
   },
   "outputs": [],
   "source": [
    "joint_limits = tf.stack(chain.joint_limits)\n",
    "lower_limits = joint_limits[:,0][None, None]\n",
    "upper_limits = joint_limits[:,1][None, None]\n",
    "def plot_limits(q):\n",
    "    plt.plot(joint_limits, \"o\")\n",
    "    plt.plot(q, \"kx\")\n",
    "    \n",
    "mean_limits = tf.reduce_mean(joint_limits,-1)[None]\n",
    "@tf.function\n",
    "def cost_joint_limit(q):\n",
    "    rl = tf.math.minimum(q-lower_limits, 0)\n",
    "    ru = tf.math.maximum(q-upper_limits, 0)\n",
    "    return 0.5*(tf.linalg.einsum('hbi,hbi->hb',rl, rl) + tf.linalg.einsum('hbi,hbi->hb',ru, ru))\n"
   ]
  },
  {
   "cell_type": "markdown",
   "metadata": {},
   "source": [
    "### Optimization to find the joint configuration corresponding to rivet hole positions within joint limits"
   ]
  },
  {
   "cell_type": "code",
   "execution_count": 673,
   "metadata": {
    "ExecuteTime": {
     "end_time": "2020-12-17T16:53:49.724958Z",
     "start_time": "2020-12-17T16:53:49.461627Z"
    }
   },
   "outputs": [],
   "source": [
    "labels = [\"up\", \"mid\", \"down\"]"
   ]
  },
  {
   "cell_type": "code",
   "execution_count": 674,
   "metadata": {
    "ExecuteTime": {
     "end_time": "2020-12-17T16:53:49.977276Z",
     "start_time": "2020-12-17T16:53:49.726918Z"
    }
   },
   "outputs": [
    {
     "name": "stdout",
     "output_type": "stream",
     "text": [
      "64\n"
     ]
    }
   ],
   "source": [
    "hole_nb = 0\n",
    "for label in labels:\n",
    "    hole_nb += targets_x.item()[label].shape[0]\n",
    "print(hole_nb)"
   ]
  },
  {
   "cell_type": "code",
   "execution_count": 675,
   "metadata": {
    "ExecuteTime": {
     "end_time": "2020-12-17T16:53:50.212699Z",
     "start_time": "2020-12-17T16:53:49.979271Z"
    }
   },
   "outputs": [],
   "source": [
    "mu_pos = tf.cast(tf.concat([targets_x.item()[name][:,None] for name in labels],0), tf.float32)"
   ]
  },
  {
   "cell_type": "code",
   "execution_count": 676,
   "metadata": {
    "ExecuteTime": {
     "end_time": "2020-12-17T16:53:50.476992Z",
     "start_time": "2020-12-17T16:53:50.214678Z"
    }
   },
   "outputs": [],
   "source": [
    "mu_orn = tf.cast(\n",
    "    tf.concat([\n",
    "    tf.tile(quat2format_scalar_first(targets_orn.item()[name])[None,None],(targets_x.item()[name].shape[0],1,1)) for name in labels],0),\n",
    "    tf.float32)"
   ]
  },
  {
   "cell_type": "code",
   "execution_count": 677,
   "metadata": {
    "ExecuteTime": {
     "end_time": "2020-12-17T16:53:50.744245Z",
     "start_time": "2020-12-17T16:53:50.477955Z"
    }
   },
   "outputs": [],
   "source": [
    "precs_orn = tf.concat([\n",
    "    tf.tile(\n",
    "        prec_from_mu(\n",
    "            tf.cast(\n",
    "                quat2format_scalar_first(targets_orn.item()[name])[None],\n",
    "                tf.float32),\n",
    "            tf.cast(\n",
    "                rotation_axes.item()[name], tf.float32\n",
    "            )\n",
    "        )[None],\n",
    "        (targets_x.item()[name].shape[0],1,1))\n",
    "    for name in labels], 0)"
   ]
  },
  {
   "cell_type": "code",
   "execution_count": null,
   "metadata": {
    "ExecuteTime": {
     "end_time": "2020-12-17T16:19:39.048005Z",
     "start_time": "2020-12-17T16:19:38.805208Z"
    }
   },
   "outputs": [],
   "source": []
  },
  {
   "cell_type": "code",
   "execution_count": 678,
   "metadata": {
    "ExecuteTime": {
     "end_time": "2020-12-17T16:53:51.009560Z",
     "start_time": "2020-12-17T16:53:50.746276Z"
    }
   },
   "outputs": [],
   "source": [
    "# Start is the initial guess on the joint configurations within the joint limits\n",
    "batch = 3000\n",
    "initial_val =tf.random.uniform(shape=(hole_nb, batch, 7),\n",
    "                      minval=tf.stack(chain.joint_limits)[:,0],\n",
    "                      maxval=tf.stack(chain.joint_limits)[:,1])\n",
    "\n",
    "q_left = tf.tile(np.array([-0.93647355, -0.85181572,  1.39629791, -2.03780449,  1.14492687,\n",
    "        3.27162269,  2.7709552 ])[None, None], (hole_nb, batch//2, 1))\n",
    "\n",
    "q_right = tf.tile(np.array([ 0.88689171, -1.25769221, -0.70598013, -1.90600929,  2.92777794,\n",
    "        3.81677752, -1.94067666])[None, None], (hole_nb, batch//2, 1))\n",
    "\n",
    "reg_val = tf.cast(tf.concat([q_left, q_right],axis=1), tf.float32)\n",
    "reg_val = reg_val[:,:1]\n",
    "start  = tf.Variable(initial_val)\n",
    "\n",
    "\n",
    "# # Initialize from pretrained configurations\n",
    "# good_q = np.load(\"good_q.npy\",allow_pickle=True)\n",
    "# batch = good_q.shape[1]\n",
    "# start = tf.Variable(good_q[:,:batch])"
   ]
  },
  {
   "cell_type": "code",
   "execution_count": 679,
   "metadata": {
    "ExecuteTime": {
     "end_time": "2020-12-17T16:53:51.255874Z",
     "start_time": "2020-12-17T16:53:51.011530Z"
    }
   },
   "outputs": [],
   "source": [
    "pos_log_prob = normal_log_prob_(mu_pos)\n",
    "orn_log_prob = normalS3_log_prob_(mu_orn, precs_orn, batch)"
   ]
  },
  {
   "cell_type": "code",
   "execution_count": 680,
   "metadata": {
    "ExecuteTime": {
     "end_time": "2020-12-17T16:53:52.490857Z",
     "start_time": "2020-12-17T16:53:52.233547Z"
    }
   },
   "outputs": [],
   "source": [
    "# with jacobian, i would need to take inverse of the jacobian which is very expensive when considered batch formulation\n",
    "@tf.function\n",
    "def cost_ik(q):\n",
    "    \"\"\"\n",
    "    q: [hole_nb, batch_nb, nb_dof]\n",
    "    \"\"\"\n",
    "    batch = q.shape[1]\n",
    "    q_vec = tf.reshape(q, (hole_nb*batch, q.shape[2]))\n",
    "    xs_ = chain.xs(q_vec, layout=tk.FkLayout.xm)[:, -1]\n",
    "    \n",
    "    # if robot base frame is changed, uncomment this\n",
    "    # world_end_pos, world_end_quats = kdl2bullet_xq(xs_)\n",
    "    \n",
    "    world_end_pos = tf.reshape(xs_[..., :3], (hole_nb, batch, 3))\n",
    "    world_end_quats = rot2quat(tf.reshape(xs_[...,3:], (hole_nb*batch, 3, 3)))\n",
    "    world_end_quats = tf.reshape(world_end_quats, (hole_nb, batch, 4))\n",
    "        \n",
    "    ee_pos_cost = -pos_log_prob(world_end_pos)\n",
    "    ee_quat_cost = -orn_log_prob(Quaternion(world_end_quats))\n",
    "    return ee_pos_cost, ee_quat_cost\n"
   ]
  },
  {
   "cell_type": "code",
   "execution_count": 681,
   "metadata": {
    "ExecuteTime": {
     "end_time": "2020-12-17T16:53:52.740219Z",
     "start_time": "2020-12-17T16:53:52.492852Z"
    }
   },
   "outputs": [],
   "source": [
    "def regularize(q):\n",
    "    diff = q-reg_val\n",
    "    return tf.reduce_sum(diff**2, -1)\n",
    "\n",
    "def get_pos_orn(q):\n",
    "    batch = q.shape[1]\n",
    "    q_vec = tf.reshape(q, (hole_nb*batch, q.shape[2]))\n",
    "    xs_ = chain.xs(q_vec, layout=tk.FkLayout.xm)[:, -1]\n",
    "    \n",
    "    world_end_pos = tf.reshape(xs_[..., :3], (hole_nb, batch , 3))\n",
    "    world_end_quats = rot2quat(tf.reshape(xs_[...,3:], (hole_nb*batch, 3, 3)))\n",
    "    world_end_quats = tf.reshape(world_end_quats, (hole_nb, batch, 4))\n",
    "    \n",
    "    return world_end_pos, world_end_quats"
   ]
  },
  {
   "cell_type": "code",
   "execution_count": 682,
   "metadata": {
    "ExecuteTime": {
     "end_time": "2020-12-17T16:53:53.285752Z",
     "start_time": "2020-12-17T16:53:53.033407Z"
    }
   },
   "outputs": [],
   "source": [
    "optimizer = tf.keras.optimizers.Adam(0.1)"
   ]
  },
  {
   "cell_type": "code",
   "execution_count": 683,
   "metadata": {
    "ExecuteTime": {
     "end_time": "2020-12-17T16:53:53.813349Z",
     "start_time": "2020-12-17T16:53:53.388458Z"
    }
   },
   "outputs": [],
   "source": [
    "@tf.function\n",
    "def train_step(lmb_pos, lmb_quat):\n",
    "    with tf.GradientTape(watch_accessed_variables=False) as tape:\n",
    "        tape.watch(start)\n",
    "        start_ = tf.nn.sigmoid(start)*(upper_limits-lower_limits)+lower_limits\n",
    "        loss_pos, loss_orn = cost_ik(start_)\n",
    "        loss = lmb_pos*loss_pos + lmb_quat*loss_orn + regularize(start_)*1e-4\n",
    "        \n",
    "    grads = tape.gradient(loss, [start])\n",
    "    grads_ = grads[0]\n",
    "    # removing nans\n",
    "    grads_ = tf.where(tf.math.is_nan(grads_), tf.zeros_like(grads_), grads_)\n",
    "    optimizer.apply_gradients(zip([grads_], [start]))\n",
    "    return loss_pos, loss_orn, grads"
   ]
  },
  {
   "cell_type": "code",
   "execution_count": 684,
   "metadata": {
    "ExecuteTime": {
     "end_time": "2020-12-17T16:53:54.608217Z",
     "start_time": "2020-12-17T16:53:54.353875Z"
    }
   },
   "outputs": [],
   "source": [
    "lmb_pos = tf.constant(1e0)\n",
    "lmb_quat = tf.constant(1e-1)"
   ]
  },
  {
   "cell_type": "code",
   "execution_count": 685,
   "metadata": {
    "ExecuteTime": {
     "end_time": "2020-12-17T16:56:02.572929Z",
     "start_time": "2020-12-17T16:53:56.201681Z"
    },
    "code_folding": [],
    "scrolled": true
   },
   "outputs": [
    {
     "name": "stdout",
     "output_type": "stream",
     "text": [
      "[[1.822e-05 5.485e+00 3.262e-04 1.599e-05 6.047e+00]\n",
      " [3.975e+00 8.207e-03 7.974e-06 8.394e-01 3.304e+00]\n",
      " [8.444e-06 4.320e+00 3.716e+00 1.306e-04 1.160e+02]\n",
      " [3.099e+01 7.115e-06 4.619e+00 4.872e+00 2.727e-01]\n",
      " [4.983e+00 9.570e-02 4.655e+00 3.324e+01 2.322e-03]] \n",
      " \n",
      " [[1.573e-01 5.018e+01 5.037e-02 1.569e-02 8.928e+01]\n",
      " [4.168e+01 5.165e-01 4.627e-01 8.644e-02 8.775e+00]\n",
      " [2.214e-02 7.279e+01 4.575e+01 4.040e-01 1.966e+02]\n",
      " [2.554e+02 3.878e-02 1.522e+01 1.045e+01 4.144e+00]\n",
      " [2.541e+01 1.594e+00 3.465e+01 2.165e+02 1.620e-01]]\n"
     ]
    }
   ],
   "source": [
    "for i in range(1000):\n",
    "    try :\n",
    "        loss_pos, loss_orn, _ = train_step(lmb_pos, lmb_quat)\n",
    "        display.clear_output(wait=True)\n",
    "        print(loss_pos[:5,:5].numpy(),'\\n','\\n', loss_orn[:5,:5].numpy())\n",
    "    except KeyboardInterrupt:\n",
    "        break"
   ]
  },
  {
   "cell_type": "markdown",
   "metadata": {},
   "source": [
    "### Filtering to get converging solutions"
   ]
  },
  {
   "cell_type": "code",
   "execution_count": 686,
   "metadata": {
    "ExecuteTime": {
     "end_time": "2020-12-17T16:56:03.800802Z",
     "start_time": "2020-12-17T16:56:03.561443Z"
    }
   },
   "outputs": [
    {
     "data": {
      "text/plain": [
       "TensorShape([64, 3000, 7])"
      ]
     },
     "execution_count": 686,
     "metadata": {},
     "output_type": "execute_result"
    }
   ],
   "source": [
    "# first version of the found joint configurations,\n",
    "# some may not be within the joint limits nor correspond to rivet positions since the SGD did not converge\n",
    "good_q___ = tf.nn.sigmoid(start)*(upper_limits-lower_limits)+lower_limits\n",
    "good_q___.shape"
   ]
  },
  {
   "cell_type": "code",
   "execution_count": 687,
   "metadata": {
    "ExecuteTime": {
     "end_time": "2020-12-17T16:56:04.779997Z",
     "start_time": "2020-12-17T16:56:03.802797Z"
    }
   },
   "outputs": [
    {
     "data": {
      "text/plain": [
       "TensorShape([64, 3000, 7])"
      ]
     },
     "execution_count": 687,
     "metadata": {},
     "output_type": "execute_result"
    }
   ],
   "source": [
    "# Second version containing all the solutions in the joint configurations\n",
    "good_q__ = [None for i in range(hole_nb)]\n",
    "max_nb = 1e5\n",
    "for i in range(hole_nb):\n",
    "    good_q__[i] = good_q___[i][cost_joint_limit(good_q___)[i] < 1e-1]\n",
    "    max_nb = min(max_nb,good_q__[i].shape[0])\n",
    "    \n",
    "for i in range(hole_nb):\n",
    "    good_q__[i] = good_q__[i][:max_nb]\n",
    "    \n",
    "good_q__ = tf.stack(good_q__)\n",
    "good_q__.shape"
   ]
  },
  {
   "cell_type": "code",
   "execution_count": 688,
   "metadata": {
    "ExecuteTime": {
     "end_time": "2020-12-17T16:56:05.043406Z",
     "start_time": "2020-12-17T16:56:04.781957Z"
    }
   },
   "outputs": [],
   "source": [
    "xs, orn_xs = get_pos_orn(good_q__)"
   ]
  },
  {
   "cell_type": "code",
   "execution_count": 689,
   "metadata": {
    "ExecuteTime": {
     "end_time": "2020-12-17T16:56:05.710714Z",
     "start_time": "2020-12-17T16:56:05.046400Z"
    },
    "scrolled": true
   },
   "outputs": [
    {
     "data": {
      "text/plain": [
       "TensorShape([64, 723, 7])"
      ]
     },
     "execution_count": 689,
     "metadata": {},
     "output_type": "execute_result"
    }
   ],
   "source": [
    "# third version of the joint configurations, within joint limits and within the tolerance of corresponding rivet position\n",
    "good_q_ = [None for i in range(hole_nb)]\n",
    "max_nb = 1e5\n",
    "for i in range(hole_nb):\n",
    "    good_q_[i] = good_q__[i][-pos_log_prob(xs)[i] < 1e-1]\n",
    "#     print(good_q[i].shape[0])\n",
    "    max_nb = min(max_nb,good_q_[i].shape[0])\n",
    "    \n",
    "for i in range(hole_nb):\n",
    "    good_q_[i] = good_q_[i][:max_nb]\n",
    "    \n",
    "good_q_ = tf.stack(good_q_)\n",
    "good_q_.shape"
   ]
  },
  {
   "cell_type": "code",
   "execution_count": 690,
   "metadata": {
    "ExecuteTime": {
     "end_time": "2020-12-17T16:56:05.961138Z",
     "start_time": "2020-12-17T16:56:05.712709Z"
    }
   },
   "outputs": [],
   "source": [
    "xs, orn_xs = get_pos_orn(good_q_)"
   ]
  },
  {
   "cell_type": "code",
   "execution_count": 691,
   "metadata": {
    "ExecuteTime": {
     "end_time": "2020-12-17T16:56:06.472779Z",
     "start_time": "2020-12-17T16:56:06.231131Z"
    }
   },
   "outputs": [],
   "source": [
    "orn_log_prob = normalS3_log_prob_(mu_orn, precs_orn, good_q_.shape[1])"
   ]
  },
  {
   "cell_type": "code",
   "execution_count": 692,
   "metadata": {
    "ExecuteTime": {
     "end_time": "2020-12-17T16:56:07.037787Z",
     "start_time": "2020-12-17T16:56:06.474731Z"
    }
   },
   "outputs": [
    {
     "data": {
      "text/plain": [
       "TensorShape([64, 713, 7])"
      ]
     },
     "execution_count": 692,
     "metadata": {},
     "output_type": "execute_result"
    }
   ],
   "source": [
    "# fourth version of the joint configurations, within joint limits and within the tolerance of corresponding rivet position\n",
    "good_q = [None for i in range(hole_nb)]\n",
    "max_nb = 1e5\n",
    "for i in range(hole_nb):\n",
    "    good_q[i] = good_q_[i][-orn_log_prob(Quaternion(orn_xs))[i] < 1e1]\n",
    "    max_nb = min(max_nb,good_q[i].shape[0])\n",
    "    \n",
    "for i in range(hole_nb):\n",
    "    good_q[i] = good_q[i][:max_nb]\n",
    "    \n",
    "good_q = tf.stack(good_q)\n",
    "good_q.shape"
   ]
  },
  {
   "cell_type": "code",
   "execution_count": 693,
   "metadata": {
    "ExecuteTime": {
     "end_time": "2020-12-17T16:56:07.737914Z",
     "start_time": "2020-12-17T16:56:07.484823Z"
    }
   },
   "outputs": [
    {
     "name": "stdout",
     "output_type": "stream",
     "text": [
      "no nan\n"
     ]
    }
   ],
   "source": [
    "# check if there is any nan\n",
    "if tf.where(tf.math.is_nan(good_q) == True).shape[0] == 0:\n",
    "    print(\"no nan\")\n",
    "else:\n",
    "    print(\"check nans\")"
   ]
  },
  {
   "cell_type": "code",
   "execution_count": 694,
   "metadata": {
    "ExecuteTime": {
     "end_time": "2020-12-17T16:56:08.112012Z",
     "start_time": "2020-12-17T16:56:07.859303Z"
    }
   },
   "outputs": [],
   "source": [
    "np.save('good_q', good_q, allow_pickle=True)"
   ]
  },
  {
   "cell_type": "markdown",
   "metadata": {},
   "source": [
    "### Fourier series of the force"
   ]
  },
  {
   "cell_type": "code",
   "execution_count": 695,
   "metadata": {
    "ExecuteTime": {
     "end_time": "2020-12-17T16:56:08.908174Z",
     "start_time": "2020-12-17T16:56:08.570057Z"
    }
   },
   "outputs": [
    {
     "data": {
      "text/plain": [
       "[<matplotlib.lines.Line2D at 0x17d258ff9c8>]"
      ]
     },
     "execution_count": 695,
     "metadata": {},
     "output_type": "execute_result"
    },
    {
     "data": {
      "image/png": "[encoded data removed]",
      "text/plain": [
       "<Figure size 432x288 with 1 Axes>"
      ]
     },
     "metadata": {
      "needs_background": "light"
     },
     "output_type": "display_data"
    }
   ],
   "source": [
    "def rect(T):\n",
    "    \"\"\"create a centered rectangular pulse of width $T\"\"\"\n",
    "    return lambda t: (-T/2 <= t) & (t < T/2)\n",
    "\n",
    "def pulse_train(t, at, shape):\n",
    "    \"\"\"create a train of pulses over $t at times $at and shape $shape\"\"\"\n",
    "    return np.sum(shape(t - at[:,np.newaxis]), axis=0)\n",
    "w = 150.\n",
    "f = w/(2*np.pi)# frequence\n",
    "T = 1./f # period\n",
    "Tf = T*2 # time\n",
    "N = 500 # timesteps\n",
    "N_period = T*N/Tf\n",
    "\n",
    "Td = T*0.08\n",
    "Fm = 550\n",
    "t = np.linspace(0, Tf, N)\n",
    "sig = pulse_train(\n",
    "    t=t,              # time domain\n",
    "    at=np.arange(0, Tf, T),  # times of pulses\n",
    "    shape=rect(Td)                 # shape of pulse\n",
    ")\n",
    "\n",
    "plt.plot(t, Fm*sig)"
   ]
  },
  {
   "cell_type": "code",
   "execution_count": 696,
   "metadata": {
    "ExecuteTime": {
     "end_time": "2020-12-17T16:56:09.235278Z",
     "start_time": "2020-12-17T16:56:08.910175Z"
    }
   },
   "outputs": [
    {
     "data": {
      "image/png": "[encoded data removed]",
      "text/plain": [
       "<Figure size 432x288 with 1 Axes>"
      ]
     },
     "metadata": {
      "needs_background": "light"
     },
     "output_type": "display_data"
    }
   ],
   "source": [
    "_t0 = 100\n",
    "_tf = int(_t0 + N_period)\n",
    "plt.plot(t[_t0:_tf],  Fm*sig[_t0:_tf])\n",
    "t_ = t[_t0:_tf]\n",
    "x = Fm*sig[_t0:_tf]"
   ]
  },
  {
   "cell_type": "code",
   "execution_count": 697,
   "metadata": {
    "ExecuteTime": {
     "end_time": "2020-12-17T16:56:09.469651Z",
     "start_time": "2020-12-17T16:56:09.236278Z"
    }
   },
   "outputs": [],
   "source": [
    "K = 10\n",
    "Fks = []\n",
    "Fk_all = []\n",
    "for k in range(K):\n",
    "    Fk = np.mean(x * np.exp(-2*1j*np.pi*t_*k/T))\n",
    "    Fk_all += [Fk]\n",
    "    Fks.append(np.real(Fk))\n"
   ]
  },
  {
   "cell_type": "code",
   "execution_count": 698,
   "metadata": {
    "ExecuteTime": {
     "end_time": "2020-12-17T16:56:09.701060Z",
     "start_time": "2020-12-17T16:56:09.471646Z"
    }
   },
   "outputs": [],
   "source": [
    "x_hat = 0\n",
    "for k in range(0,K):\n",
    "    x_hat += 2 * Fks[k] * np.cos(2*np.pi*t_*k/T)"
   ]
  },
  {
   "cell_type": "code",
   "execution_count": 699,
   "metadata": {
    "ExecuteTime": {
     "end_time": "2020-12-17T16:56:10.107943Z",
     "start_time": "2020-12-17T16:56:09.702030Z"
    }
   },
   "outputs": [
    {
     "data": {
      "text/plain": [
       "[<matplotlib.lines.Line2D at 0x17d9dd82788>]"
      ]
     },
     "execution_count": 699,
     "metadata": {},
     "output_type": "execute_result"
    },
    {
     "data": {
      "image/png": "[encoded data removed]",
      "text/plain": [
       "<Figure size 432x288 with 2 Axes>"
      ]
     },
     "metadata": {
      "needs_background": "light"
     },
     "output_type": "display_data"
    }
   ],
   "source": [
    "fig,ax = plt.subplots(2)\n",
    "ax[0].plot(t_, x)\n",
    "ax[0].plot(t_, x_hat)\n",
    "ax[1].plot(range(K), Fks, \"rx\")\n",
    "ax[1].plot(range(-K+1,1), np.flip(Fks), \"rx\")"
   ]
  },
  {
   "cell_type": "markdown",
   "metadata": {},
   "source": [
    "### Displacement cost"
   ]
  },
  {
   "cell_type": "code",
   "execution_count": 700,
   "metadata": {
    "ExecuteTime": {
     "end_time": "2020-12-17T16:56:10.345357Z",
     "start_time": "2020-12-17T16:56:10.109938Z"
    }
   },
   "outputs": [
    {
     "name": "stdout",
     "output_type": "stream",
     "text": [
      "16 48 64\n"
     ]
    }
   ],
   "source": [
    "# Force: \n",
    "F_bar = tf.cast(tf.stack(Fks), tf.float32)\n",
    "\n",
    "# Force directions\n",
    "axis_force = np.zeros((hole_nb, 3))\n",
    "ax = np.array([0., 0., 1])\n",
    "hole_nb1 = targets_x.item()[labels[0]].shape[0]\n",
    "hole_nb2 = targets_x.item()[labels[0]].shape[0] + targets_x.item()[labels[1]].shape[0]\n",
    "\n",
    "R = w2mat(quat2w(euler2quat([0,np.pi/2,0.])))\n",
    "axis_force[hole_nb1:hole_nb2] = R@ax\n",
    "v2=R@ax\n",
    "ax = -v2\n",
    "\n",
    "R = w2mat(quat2w(euler2quat([0,10,0.])))\n",
    "axis_force[:hole_nb1] = R@ax\n",
    "v1=R@ax\n",
    "\n",
    "R = w2mat(quat2w(euler2quat([0,-10,0.])))\n",
    "axis_force[hole_nb2:] = R@ax\n",
    "v3=R@ax\n",
    "axis_force = tf.cast(axis_force, tf.float32)\n",
    "\n",
    "F_vec = tf.einsum('k, ai->kai',F_bar[1:], axis_force)\n",
    "\n",
    "print(hole_nb1, hole_nb2, hole_nb)"
   ]
  },
  {
   "cell_type": "code",
   "execution_count": 701,
   "metadata": {
    "ExecuteTime": {
     "end_time": "2020-12-17T16:56:10.583743Z",
     "start_time": "2020-12-17T16:56:10.346307Z"
    }
   },
   "outputs": [],
   "source": [
    "# from mpl_toolkits.mplot3d import Axes3D\n",
    "# %matplotlib notebook\n",
    "# p0 = v1\n",
    "# p1 = v2\n",
    "# p2 = v3\n",
    "\n",
    "# origin = [0,0,0]\n",
    "# X, Y, Z = zip(origin,origin,origin) \n",
    "# U, V, W = zip(p0,p1,p2)\n",
    "# colors=[\"b\", \"r\", \"g\"]\n",
    "# fig = plt.figure()\n",
    "# ax = fig.add_subplot(111, projection='3d')\n",
    "# for i in range(3):\n",
    "#     ax.quiver(X[i],Y[i],Z[i],U[i],V[i],W[i],arrow_length_ratio=0.01, colors=colors[i], label=labels[i])\n",
    "# ax.set_xlabel('X axis')\n",
    "# ax.set_ylabel('Y axis')\n",
    "# ax.set_zlabel('Z axis')\n",
    "# ax.legend()\n",
    "# plt.show()"
   ]
  },
  {
   "cell_type": "code",
   "execution_count": 781,
   "metadata": {
    "ExecuteTime": {
     "end_time": "2020-12-17T17:06:04.039448Z",
     "start_time": "2020-12-17T17:06:03.801020Z"
    }
   },
   "outputs": [],
   "source": [
    "# For 7dof robot\n",
    "K_ = tf.eye(chain.nb_joint)*1e5\n",
    "C_ = tf.linalg.diag(tf.ones(7)*0.06)\n",
    "C_inv = tf.linalg.diag(1./(tf.ones(7)*0.06))\n",
    "\n",
    "# chosen frequency in rad/s\n",
    "ws = tf.stack([k*w for k in range(1,K)])\n",
    "ws_sq_neg = -(ws**2)\n",
    "\n",
    "B = tf.einsum('i,bc->ibc',ws,C_)[:, None,None]\n",
    "B_inv = tf.einsum('i,bc->ibc',1./ws,C_inv)[:, None,None]\n"
   ]
  },
  {
   "cell_type": "code",
   "execution_count": 782,
   "metadata": {
    "ExecuteTime": {
     "end_time": "2020-12-17T17:06:04.721758Z",
     "start_time": "2020-12-17T17:06:04.041407Z"
    }
   },
   "outputs": [],
   "source": [
    "@tf.function\n",
    "def displacement(q):\n",
    "        b1 = q.shape[0]\n",
    "        b2 = q.shape[1]\n",
    "        q_vec = tf.reshape(q, (b1*b2, 7))\n",
    "        M = tf.reshape(dyn.inertia_matrix(q_vec), (b1,b2,7,7))\n",
    "        J = tf.reshape(chain.jacobian(q_vec, layout=tk.FkLayout.x), (b1,b2,3,7))\n",
    "        A = tf.einsum('k,hbij->khbij',ws_sq_neg,M)+K\n",
    "        term1 = A@B_inv@A+B\n",
    "        term1_inv = tf.linalg.inv(term1)\n",
    "        X = B_inv@A@term1_inv\n",
    "        H = tf.einsum('khbim, hbjm->khbij',tf.einsum('hbij,khbmj->khbim',J,X), J)\n",
    "        return tf.reduce_sum(tf.einsum('khbij,khj->khbi',H, 2*F_vec), 0)\n"
   ]
  },
  {
   "cell_type": "markdown",
   "metadata": {},
   "source": [
    "### Optimization for displacement"
   ]
  },
  {
   "cell_type": "code",
   "execution_count": 866,
   "metadata": {
    "ExecuteTime": {
     "end_time": "2020-12-17T17:14:27.764145Z",
     "start_time": "2020-12-17T17:14:27.517049Z"
    }
   },
   "outputs": [],
   "source": [
    "def squash(raw_q):\n",
    "    return tf.nn.sigmoid(raw_q)*(upper_limits-lower_limits)+lower_limits\n",
    "\n",
    "def inv_squash(good_q):\n",
    "    raw_q = (good_q - lower_limits)/(upper_limits-lower_limits)\n",
    "    raw_q = tf.math.log(raw_q/(1-raw_q)+1e-20)\n",
    "    return raw_q\n",
    "\n"
   ]
  },
  {
   "cell_type": "code",
   "execution_count": 867,
   "metadata": {
    "ExecuteTime": {
     "end_time": "2020-12-17T17:14:28.013977Z",
     "start_time": "2020-12-17T17:14:27.766451Z"
    }
   },
   "outputs": [],
   "source": [
    "good_q = np.load(\"good_q.npy\", allow_pickle=True)\n",
    "good_q_inv = inv_squash(good_q)"
   ]
  },
  {
   "cell_type": "code",
   "execution_count": 868,
   "metadata": {
    "ExecuteTime": {
     "end_time": "2020-12-17T17:14:28.276752Z",
     "start_time": "2020-12-17T17:14:28.016925Z"
    },
    "scrolled": true
   },
   "outputs": [
    {
     "data": {
      "text/plain": [
       "713"
      ]
     },
     "execution_count": 868,
     "metadata": {},
     "output_type": "execute_result"
    }
   ],
   "source": [
    "# select batch to be equal or smaller to good_q.shape[1]\n",
    "good_q_inv.shape[1]"
   ]
  },
  {
   "cell_type": "code",
   "execution_count": 869,
   "metadata": {
    "ExecuteTime": {
     "end_time": "2020-12-17T17:14:28.513727Z",
     "start_time": "2020-12-17T17:14:28.278726Z"
    }
   },
   "outputs": [],
   "source": [
    "batch = good_q_inv.shape[1]"
   ]
  },
  {
   "cell_type": "code",
   "execution_count": 870,
   "metadata": {
    "ExecuteTime": {
     "end_time": "2020-12-17T17:14:28.747196Z",
     "start_time": "2020-12-17T17:14:28.515728Z"
    }
   },
   "outputs": [],
   "source": [
    "q_test = tf.Variable(good_q_inv[:, :batch], trainable=True)\n",
    "# q_test = tf.Variable(initial_val[:, :batch], trainable=True)"
   ]
  },
  {
   "cell_type": "code",
   "execution_count": 871,
   "metadata": {
    "ExecuteTime": {
     "end_time": "2020-12-17T17:14:28.984520Z",
     "start_time": "2020-12-17T17:14:28.748102Z"
    }
   },
   "outputs": [],
   "source": [
    "orn_log_prob = normalS3_log_prob_(mu_orn, precs_orn, batch)\n",
    "@tf.function\n",
    "def cost_ik(q):\n",
    "    \"\"\"\n",
    "    q: [hole_nb, batch_nb, nb_dof]\n",
    "    \"\"\"\n",
    "    batch = q.shape[1]\n",
    "    q_vec = tf.reshape(q, (hole_nb*batch, q.shape[2]))\n",
    "    xs_ = chain.xs(q_vec, layout=tk.FkLayout.xm)[:, -1]\n",
    "\n",
    "    world_end_pos = tf.reshape(xs_[..., :3], (hole_nb, batch, 3))\n",
    "    world_end_quats = rot2quat(tf.reshape(xs_[...,3:], (hole_nb*batch, 3, 3)))\n",
    "    world_end_quats = tf.reshape(world_end_quats, (hole_nb, batch, 4))\n",
    "        \n",
    "    ee_pos_cost = -pos_log_prob(world_end_pos)\n",
    "    ee_quat_cost = -orn_log_prob(Quaternion(world_end_quats))\n",
    "    return ee_pos_cost, ee_quat_cost"
   ]
  },
  {
   "cell_type": "code",
   "execution_count": 872,
   "metadata": {
    "ExecuteTime": {
     "end_time": "2020-12-17T17:14:29.223980Z",
     "start_time": "2020-12-17T17:14:28.986490Z"
    }
   },
   "outputs": [],
   "source": [
    "optimizer = tf.keras.optimizers.Adam(0.01)"
   ]
  },
  {
   "cell_type": "code",
   "execution_count": 873,
   "metadata": {
    "ExecuteTime": {
     "end_time": "2020-12-17T17:14:29.612631Z",
     "start_time": "2020-12-17T17:14:29.225941Z"
    }
   },
   "outputs": [],
   "source": [
    "@tf.function\n",
    "def train_step(lmb_pos, lmb_orn, lmb_disp):\n",
    "    with tf.GradientTape(watch_accessed_variables=False) as tape:\n",
    "        tape.watch(q_test)\n",
    "        q_ = squash(q_test)\n",
    "        loss_pos, loss_orn = cost_ik(q_)\n",
    "        d =  displacement(q_)\n",
    "        loss_disp = tf.linalg.norm(d, axis=-1)\n",
    "#         loss_disp = tf.norm(loss_disp, ord=1)[None, None]\n",
    "        loss = lmb_pos*loss_pos + lmb_quat*loss_orn + lmb_disp*loss_disp\n",
    "        \n",
    "    grads = tape.gradient(loss, [q_test])\n",
    "    grads_ = grads[0]\n",
    "    # removing nans\n",
    "#     tf.print(tf.where(tf.math.is_nan(grads_)))\n",
    "    grads_ = tf.where(tf.math.is_nan(grads_), tf.zeros_like(grads_), grads_)\n",
    "    \n",
    "    optimizer.apply_gradients(zip([grads_], [q_test]))\n",
    "    return loss_pos, loss_orn, loss_disp, grads_\n",
    "#     return loss_disp, grads"
   ]
  },
  {
   "cell_type": "code",
   "execution_count": 925,
   "metadata": {
    "ExecuteTime": {
     "end_time": "2020-12-17T17:27:36.928785Z",
     "start_time": "2020-12-17T17:27:36.682721Z"
    }
   },
   "outputs": [],
   "source": [
    "# lmb_disp = tf.constant(1e4+1000)\n",
    "lmb_disp = tf.constant(1e3+100)\n",
    "lmb =1e1"
   ]
  },
  {
   "cell_type": "code",
   "execution_count": 926,
   "metadata": {
    "ExecuteTime": {
     "end_time": "2020-12-17T17:47:23.374158Z",
     "start_time": "2020-12-17T17:27:37.145745Z"
    },
    "code_folding": [],
    "scrolled": false
   },
   "outputs": [
    {
     "name": "stdout",
     "output_type": "stream",
     "text": [
      "663 [[1.14  2.186 2.17  1.11  1.175]\n",
      " [1.868 1.275 1.481 1.258 1.39 ]\n",
      " [1.294 0.552 1.279 0.176 1.286]\n",
      " [1.416 0.515 0.889 0.954 1.382]\n",
      " [3.601 0.096 1.083 0.651 3.572]] \n",
      " [[0.006 0.004 0.004 0.004 0.004]\n",
      " [0.004 0.006 0.004 0.004 0.006]\n",
      " [0.004 0.007 0.004 0.007 0.004]\n",
      " [0.004 0.003 0.003 0.006 0.005]\n",
      " [0.004 0.003 0.005 0.007 0.004]]\n"
     ]
    }
   ],
   "source": [
    "for i in range(1000):\n",
    "    try :\n",
    "        loss_pos, loss_orn, loss_disp,  grads = train_step(lmb_pos*lmb, lmb_quat*lmb*1e9, lmb_disp)\n",
    "        display.clear_output(wait=True)\n",
    "#         print(loss_pos.numpy(), '\\n',loss_orn.numpy(), '\\n', loss_disp.numpy(), '\\n' )\n",
    "        print(i, loss_orn.numpy()[:5,:5],'\\n',loss_disp.numpy()[:5,:5] )\n",
    "#         print((loss_disp*lmb_disp).numpy()[:, 0,0])\n",
    "#         print(loss_pos.numpy()[:5, :5])\n",
    "#         print(tf.where(tf.math.is_nan(q_test)))\n",
    "    except KeyboardInterrupt:\n",
    "        break"
   ]
  },
  {
   "cell_type": "code",
   "execution_count": 927,
   "metadata": {
    "ExecuteTime": {
     "end_time": "2020-12-17T17:47:27.033265Z",
     "start_time": "2020-12-17T17:47:26.739685Z"
    }
   },
   "outputs": [],
   "source": [
    "q_after_disp = squash(q_test)\n",
    "good_q_cut = good_q[:, :batch]\n",
    "xs, orn_xs = get_pos_orn(q_after_disp)"
   ]
  },
  {
   "cell_type": "code",
   "execution_count": 928,
   "metadata": {
    "ExecuteTime": {
     "end_time": "2020-12-17T17:47:27.294095Z",
     "start_time": "2020-12-17T17:47:27.036231Z"
    }
   },
   "outputs": [
    {
     "data": {
      "text/plain": [
       "TensorShape([64, 713, 7])"
      ]
     },
     "execution_count": 928,
     "metadata": {},
     "output_type": "execute_result"
    }
   ],
   "source": [
    "q_after_disp.shape"
   ]
  },
  {
   "cell_type": "code",
   "execution_count": 929,
   "metadata": {
    "ExecuteTime": {
     "end_time": "2020-12-17T17:47:28.110604Z",
     "start_time": "2020-12-17T17:47:27.297066Z"
    }
   },
   "outputs": [
    {
     "data": {
      "text/plain": [
       "712"
      ]
     },
     "execution_count": 929,
     "metadata": {},
     "output_type": "execute_result"
    }
   ],
   "source": [
    "good_q_ = [None for i in range(hole_nb)]\n",
    "good_q_selected_ = [None for i in range(hole_nb)]\n",
    "max_nb = 1e5\n",
    "for i in range(hole_nb):\n",
    "    good_q_[i] = q_after_disp[i][-pos_log_prob(xs)[i] < 1e-1]\n",
    "    good_q_selected_[i] = good_q_cut[i][-pos_log_prob(xs)[i] < 1e-1]\n",
    "#     print(good_q[i].shape[0])\n",
    "    max_nb = min(max_nb,good_q_[i].shape[0])\n",
    "    \n",
    "for i in range(hole_nb):\n",
    "    good_q_[i] = good_q_[i][:max_nb]\n",
    "    good_q_selected_[i] = good_q_selected_[i][:max_nb]\n",
    "    \n",
    "good_q_ = tf.stack(good_q_)\n",
    "good_q_selected_ = tf.stack(good_q_selected_)\n",
    "batch__ = good_q_.shape[1]\n",
    "batch__"
   ]
  },
  {
   "cell_type": "code",
   "execution_count": 930,
   "metadata": {
    "ExecuteTime": {
     "end_time": "2020-12-17T17:47:28.997970Z",
     "start_time": "2020-12-17T17:47:28.723126Z"
    }
   },
   "outputs": [],
   "source": [
    "xs, orn_xs = get_pos_orn(good_q_)\n",
    "orn_log_prob = normalS3_log_prob_(mu_orn, precs_orn, batch__)"
   ]
  },
  {
   "cell_type": "code",
   "execution_count": 931,
   "metadata": {
    "ExecuteTime": {
     "end_time": "2020-12-17T17:47:29.944786Z",
     "start_time": "2020-12-17T17:47:28.999873Z"
    }
   },
   "outputs": [
    {
     "data": {
      "text/plain": [
       "705"
      ]
     },
     "execution_count": 931,
     "metadata": {},
     "output_type": "execute_result"
    }
   ],
   "source": [
    "opt_q = [None for i in range(hole_nb)]\n",
    "good_q_selected = [None for i in range(hole_nb)]\n",
    "max_nb = 1e5\n",
    "for i in range(hole_nb):\n",
    "    opt_q[i] = good_q_[i][-orn_log_prob(Quaternion(orn_xs))[i] < 1e1]\n",
    "    good_q_selected[i] = good_q_selected_[i][-orn_log_prob(Quaternion(orn_xs))[i] < 1e1]\n",
    "#     print(opt_q[i].shape[0])\n",
    "    max_nb = min(max_nb,opt_q[i].shape[0])\n",
    "    \n",
    "for i in range(hole_nb):\n",
    "    opt_q[i] = opt_q[i][:max_nb]\n",
    "    good_q_selected[i] = good_q_selected[i][:max_nb]\n",
    "    \n",
    "opt_q = tf.stack(opt_q)\n",
    "good_q_selected = tf.stack(good_q_selected)\n",
    "batch_ = opt_q.shape[1]\n",
    "batch_"
   ]
  },
  {
   "cell_type": "code",
   "execution_count": 932,
   "metadata": {
    "ExecuteTime": {
     "end_time": "2020-12-17T17:47:38.658165Z",
     "start_time": "2020-12-17T17:47:30.971414Z"
    }
   },
   "outputs": [],
   "source": [
    "after_opt_data = displacement(opt_q)*1e3 \n",
    "before_opt_data = displacement(good_q_selected)*1e3\n",
    "# before_opt_data = displacement(good_q)*1e3"
   ]
  },
  {
   "cell_type": "code",
   "execution_count": 933,
   "metadata": {
    "ExecuteTime": {
     "end_time": "2020-12-17T17:47:39.200245Z",
     "start_time": "2020-12-17T17:47:38.660121Z"
    }
   },
   "outputs": [
    {
     "data": {
      "image/png": "[encoded data removed]",
      "text/plain": [
       "<Figure size 1080x360 with 3 Axes>"
      ]
     },
     "metadata": {
      "needs_background": "light"
     },
     "output_type": "display_data"
    }
   ],
   "source": [
    "%matplotlib inline\n",
    "fig,axes = plt.subplots(ncols=3 , figsize=(15,5))\n",
    "density = 1\n",
    "\n",
    "distance_before = tf.linalg.norm(before_opt_data,axis=-1).numpy()\n",
    "distance_after = tf.linalg.norm(after_opt_data,axis=-1).numpy()\n",
    "\n",
    "indices = [range(hole_nb1), range(hole_nb1,hole_nb2), range(hole_nb2,hole_nb)]\n",
    "\n",
    "for k,ax in enumerate(axes):\n",
    "    \n",
    "    ax.boxplot([distance_before[indices[k]].flatten(), distance_after[indices[k]].flatten()], showfliers=False)\n",
    "\n",
    "    ticks = [\"Before\", \"After\"]\n",
    "    ax.set_xticks([1,2])\n",
    "    ax.set_xticklabels( ticks, rotation=0 )\n",
    "    ax.ticklabel_format(style='sci', axis='y', scilimits=(0,0))\n",
    "    ax.set_ylabel('$\\eta$'+' (mm)')\n",
    "\n",
    "    ax.set_title(labels[k])\n",
    "    k +=1"
   ]
  },
  {
   "cell_type": "code",
   "execution_count": 934,
   "metadata": {
    "ExecuteTime": {
     "end_time": "2020-12-17T17:48:37.327183Z",
     "start_time": "2020-12-17T17:48:36.920522Z"
    },
    "scrolled": true
   },
   "outputs": [
    {
     "data": {
      "text/plain": [
       "<matplotlib.legend.Legend at 0x17d45fc8d48>"
      ]
     },
     "execution_count": 934,
     "metadata": {},
     "output_type": "execute_result"
    },
    {
     "data": {
      "image/png": "[encoded data removed]",
      "text/plain": [
       "<Figure size 432x288 with 1 Axes>"
      ]
     },
     "metadata": {
      "needs_background": "light"
     },
     "output_type": "display_data"
    }
   ],
   "source": [
    "hole = 0\n",
    "plt.plot(tf.linalg.norm(before_opt_data[hole], axis=-1), \".\", label=\"before\")\n",
    "plt.plot(tf.linalg.norm(after_opt_data[hole], axis=-1), \".\", label=\"after\")\n",
    "plt.legend()"
   ]
  },
  {
   "cell_type": "code",
   "execution_count": 935,
   "metadata": {
    "ExecuteTime": {
     "end_time": "2020-12-17T17:48:37.671403Z",
     "start_time": "2020-12-17T17:48:37.417596Z"
    }
   },
   "outputs": [],
   "source": [
    "# %matplotlib inline\n",
    "# titles = [\"All coordinates\", \"Distance\"]\n",
    "# fig,axes = plt.subplots(ncols=2 , figsize=(10,5))\n",
    "# density = 1\n",
    "# k = 0\n",
    "\n",
    "# for ax in axes:\n",
    "    \n",
    "#     if k == 0:\n",
    "#         ax.boxplot([ before_opt_data.numpy().flatten(), after_opt_data.numpy().flatten()], showfliers=False)\n",
    "#     else:\n",
    "#         ax.boxplot([tf.linalg.norm(before_opt_data,axis=-1).numpy().flatten(), \n",
    "#                     tf.linalg.norm(after_opt_data,axis=-1).numpy().flatten()], showfliers=False)\n",
    "\n",
    "#     ticks = [\"Before\", \"After\"]\n",
    "#     ax.set_xticks([1,2])\n",
    "#     ax.set_xticklabels( ticks, rotation=0 )\n",
    "#     ax.ticklabel_format(style='sci', axis='y', scilimits=(0,0))\n",
    "#     ax.set_ylabel('$\\eta$'+' (mm)')\n",
    "\n",
    "#     ax.set_title(titles[k])\n",
    "#     k +=1"
   ]
  },
  {
   "cell_type": "code",
   "execution_count": 936,
   "metadata": {
    "ExecuteTime": {
     "end_time": "2020-12-17T17:48:38.402362Z",
     "start_time": "2020-12-17T17:48:38.035321Z"
    }
   },
   "outputs": [
    {
     "data": {
      "text/plain": [
       "<matplotlib.legend.Legend at 0x17d0cc74548>"
      ]
     },
     "execution_count": 936,
     "metadata": {},
     "output_type": "execute_result"
    },
    {
     "data": {
      "image/png": "[encoded data removed]",
      "text/plain": [
       "<Figure size 432x288 with 1 Axes>"
      ]
     },
     "metadata": {
      "needs_background": "light"
     },
     "output_type": "display_data"
    }
   ],
   "source": [
    "threshold = 2.2\n",
    "fig,ax = plt.subplots()\n",
    "ax.plot(np.sum(tf.linalg.norm(before_opt_data,axis=-1).numpy()<threshold, -1), \".\",label=\"Before opt.\")\n",
    "ax.plot(np.sum(tf.linalg.norm(after_opt_data,axis=-1).numpy()<threshold, -1), \".\", label=\"After opt.\")\n",
    "ax.legend(loc='center left')"
   ]
  },
  {
   "cell_type": "code",
   "execution_count": 937,
   "metadata": {
    "ExecuteTime": {
     "end_time": "2020-12-17T17:48:40.497078Z",
     "start_time": "2020-12-17T17:48:40.250936Z"
    }
   },
   "outputs": [],
   "source": [
    "dict_planning = {'qs':opt_q.numpy(), 'disp':after_opt_data.numpy()}"
   ]
  },
  {
   "cell_type": "code",
   "execution_count": 938,
   "metadata": {
    "ExecuteTime": {
     "end_time": "2020-12-17T17:48:41.151923Z",
     "start_time": "2020-12-17T17:48:40.915245Z"
    }
   },
   "outputs": [],
   "source": [
    "np.save('riveting_results', dict_planning , allow_pickle=True)"
   ]
  },
  {
   "cell_type": "code",
   "execution_count": null,
   "metadata": {
    "ExecuteTime": {
     "end_time": "2020-12-08T21:26:20.265630Z",
     "start_time": "2020-12-08T21:26:20.034604Z"
    }
   },
   "outputs": [],
   "source": [
    "# j = 0"
   ]
  },
  {
   "cell_type": "code",
   "execution_count": null,
   "metadata": {
    "ExecuteTime": {
     "end_time": "2020-12-08T21:26:20.874674Z",
     "start_time": "2020-12-08T21:26:20.267619Z"
    },
    "scrolled": true
   },
   "outputs": [],
   "source": [
    "# # run this cell many times to visualize the results for different rivet holes\n",
    "# plt.plot(tf.linalg.norm(displacement(good_q[j,:batch][None])[0],axis=-1), \"bx\", label=\"Before optimization\")\n",
    "# plt.plot(tf.linalg.norm(displacement(squash(q_test)[j][None])[0],axis=-1), \"rx\", label=\"After optimization\")\n",
    "# plt.legend()\n",
    "# plt.ticklabel_format(style='sci', axis='y', scilimits=(0,0))\n",
    "# j+=1"
   ]
  },
  {
   "cell_type": "code",
   "execution_count": null,
   "metadata": {
    "ExecuteTime": {
     "end_time": "2020-12-08T21:26:24.524386Z",
     "start_time": "2020-12-08T21:26:20.876635Z"
    },
    "scrolled": false
   },
   "outputs": [],
   "source": [
    "# fig,axes=plt.subplots(ncols=2,figsize=(10,5))\n",
    "# density = 1\n",
    "# after_opt_data = displacement(squash(q_test))\n",
    "# before_opt_data = displacement(good_q[:,:batch])\n",
    "# k = 0\n",
    "# for ax in axes:\n",
    "#     if k == 0:\n",
    "        \n",
    "        \n",
    "#         ax.hist(after_opt_data.numpy()[...,0].flatten(),density=density,color=\"b\", label=\"After optimization\")\n",
    "#         ax.hist(before_opt_data.numpy()[...,0].flatten(), color=\"r\",density=density, alpha=0.3, label=\"Before optimization\")\n",
    "#         ax.plot(after_opt_data.numpy()[...,0].flatten(), np.ones_like(after_opt_data.numpy()[...,0].flatten())*(-100), \"bx\", alpha=0.1)\n",
    "#         ax.plot(before_opt_data.numpy()[...,0].flatten(), np.ones_like(after_opt_data.numpy()[...,0].flatten())*(-300), \"rx\", alpha=0.1)\n",
    "      \n",
    "#     else:\n",
    "#         ax.hist(tf.linalg.norm(after_opt_data,axis=-1).numpy().flatten(), density=density, color=\"b\", label=\"After optimization\")\n",
    "#         ax.hist(tf.linalg.norm(before_opt_data,axis=-1).numpy().flatten(), density=density, alpha=0.3, color=\"r\", label=\"Before optimization\")\n",
    "#         ax.plot(after_opt_data.numpy().flatten(), np.ones_like(after_opt_data.numpy().flatten())*(-0.1), \"bx\", alpha=0.1)\n",
    "#         ax.plot(before_opt_data.numpy().flatten(), np.ones_like(after_opt_data.numpy().flatten())*(-0.2), \"rx\", alpha=0.1)\n",
    "#     ax.ticklabel_format(style='sci', axis='x', scilimits=(0,0))\n",
    "#     ax.set_xlabel('$\\eta$'+' (mm/N)')\n",
    "#     ax.set_ylabel(\"density\")\n",
    "#     secax = ax.secondary_xaxis('top', functions=(forward, inverse))\n",
    "#     secax.set_xlabel('$\\Delta x$'+' (mm)')\n",
    "#     secax.ticklabel_format(style='sci', axis='x', scilimits=(0,0))\n",
    "#     ax.legend(loc=7)\n",
    "\n",
    "#     ax.set_yticks([])\n",
    "#     ax.set_title(titles[k])\n",
    "#     k += 1"
   ]
  },
  {
   "cell_type": "code",
   "execution_count": null,
   "metadata": {},
   "outputs": [],
   "source": []
  }
 ],
 "metadata": {
  "kernelspec": {
   "display_name": "Python 3",
   "language": "python",
   "name": "python3"
  },
  "language_info": {
   "codemirror_mode": {
    "name": "ipython",
    "version": 3
   },
   "file_extension": ".py",
   "mimetype": "text/x-python",
   "name": "python",
   "nbconvert_exporter": "python",
   "pygments_lexer": "ipython3",
   "version": "3.7.6"
  },
  "latex_envs": {
   "LaTeX_envs_menu_present": true,
   "autoclose": false,
   "autocomplete": true,
   "bibliofile": "biblio.bib",
   "cite_by": "apalike",
   "current_citInitial": 1,
   "eqLabelWithNumbers": true,
   "eqNumInitial": 1,
   "hotkeys": {
    "equation": "Ctrl-E",
    "itemize": "Ctrl-I"
   },
   "labels_anchors": false,
   "latex_user_defs": false,
   "report_style_numbering": false,
   "user_envs_cfg": false
  },
  "toc": {
   "base_numbering": 1,
   "nav_menu": {},
   "number_sections": true,
   "sideBar": true,
   "skip_h1_title": false,
   "title_cell": "Table of Contents",
   "title_sidebar": "Contents",
   "toc_cell": false,
   "toc_position": {
    "height": "calc(100% - 180px)",
    "left": "10px",
    "top": "150px",
    "width": "165px"
   },
   "toc_section_display": true,
   "toc_window_display": true
  },
  "varInspector": {
   "cols": {
    "lenName": 16,
    "lenType": 16,
    "lenVar": 40
   },
   "kernels_config": {
    "python": {
     "delete_cmd_postfix": "",
     "delete_cmd_prefix": "del ",
     "library": "var_list.py",
     "varRefreshCmd": "print(var_dic_list())"
    },
    "r": {
     "delete_cmd_postfix": ") ",
     "delete_cmd_prefix": "rm(",
     "library": "var_list.r",
     "varRefreshCmd": "cat(var_dic_list()) "
    }
   },
   "types_to_exclude": [
    "module",
    "function",
    "builtin_function_or_method",
    "instance",
    "_Feature"
   ],
   "window_display": false
  }
 },
 "nbformat": 4,
 "nbformat_minor": 4
}

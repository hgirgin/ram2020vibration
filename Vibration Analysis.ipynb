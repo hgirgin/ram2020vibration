{
 "cells": [
  {
   "cell_type": "code",
   "execution_count": 7,
   "metadata": {
    "scrolled": true
   },
   "outputs": [
    {
     "name": "stdout",
     "output_type": "stream",
     "text": [
      "The autoreload extension is already loaded. To reload it, use:\n",
      "  %reload_ext autoreload\n"
     ]
    }
   ],
   "source": [
    "import tensorflow as tf\n",
    "from IPython.core import display\n",
    "import tensorflow_probability as tfp\n",
    "import matplotlib.pyplot as plt\n",
    "from math import pi\n",
    "from utils import *\n",
    "import kdl as tk\n",
    "from quaternion import *\n",
    "\n",
    "plt.style.use(\"default\")\n",
    "%matplotlib inline\n",
    "%load_ext autoreload\n",
    "%autoreload 2"
   ]
  },
  {
   "cell_type": "code",
   "execution_count": 3,
   "metadata": {},
   "outputs": [],
   "source": [
    "targets = np.array([[ 0.55, -0.6 ,  0.55],\n",
    "       [ 0.55, -0.6 ,  0.6 ],\n",
    "       [ 0.55, -0.6 ,  0.65],\n",
    "       [ 0.55, -0.6 ,  0.7 ],\n",
    "       [ 0.55, -0.6 ,  0.75],\n",
    "       [ 0.55, -0.6 ,  0.8 ],\n",
    "       [ 0.55, -0.55,  0.55],\n",
    "       [ 0.55, -0.55,  0.6 ],\n",
    "       [ 0.55, -0.55,  0.65],\n",
    "       [ 0.55, -0.55,  0.7 ],\n",
    "       [ 0.55, -0.55,  0.75],\n",
    "       [ 0.55, -0.55,  0.8 ],\n",
    "       [ 0.55, -0.5 ,  0.55],\n",
    "       [ 0.55, -0.5 ,  0.6 ],\n",
    "       [ 0.55, -0.5 ,  0.65],\n",
    "       [ 0.55, -0.5 ,  0.7 ],\n",
    "       [ 0.55, -0.5 ,  0.75],\n",
    "       [ 0.55, -0.5 ,  0.8 ],\n",
    "       [ 0.55, -0.45,  0.55],\n",
    "       [ 0.55, -0.45,  0.6 ],\n",
    "       [ 0.55, -0.45,  0.65],\n",
    "       [ 0.55, -0.45,  0.7 ],\n",
    "       [ 0.55, -0.45,  0.75],\n",
    "       [ 0.55, -0.45,  0.8 ],\n",
    "       [ 0.55, -0.4 ,  0.55],\n",
    "       [ 0.55, -0.4 ,  0.6 ],\n",
    "       [ 0.55, -0.4 ,  0.65],\n",
    "       [ 0.55, -0.4 ,  0.7 ],\n",
    "       [ 0.55, -0.4 ,  0.75],\n",
    "       [ 0.55, -0.4 ,  0.8 ],\n",
    "       [ 0.55, -0.35,  0.55],\n",
    "       [ 0.55, -0.35,  0.6 ],\n",
    "       [ 0.55, -0.35,  0.65],\n",
    "       [ 0.55, -0.35,  0.7 ],\n",
    "       [ 0.55, -0.35,  0.75],\n",
    "       [ 0.55, -0.35,  0.8 ],\n",
    "       [ 0.55, -0.3 ,  0.55],\n",
    "       [ 0.55, -0.3 ,  0.6 ],\n",
    "       [ 0.55, -0.3 ,  0.65],\n",
    "       [ 0.55, -0.3 ,  0.7 ],\n",
    "       [ 0.55, -0.3 ,  0.75],\n",
    "       [ 0.55, -0.3 ,  0.8 ],\n",
    "       [ 0.55, -0.25,  0.55],\n",
    "       [ 0.55, -0.25,  0.6 ],\n",
    "       [ 0.55, -0.25,  0.65],\n",
    "       [ 0.55, -0.25,  0.7 ],\n",
    "       [ 0.55, -0.25,  0.75],\n",
    "       [ 0.55, -0.25,  0.8 ],\n",
    "       [ 0.55, -0.2 ,  0.55],\n",
    "       [ 0.55, -0.2 ,  0.6 ],\n",
    "       [ 0.55, -0.2 ,  0.65],\n",
    "       [ 0.55, -0.2 ,  0.7 ],\n",
    "       [ 0.55, -0.2 ,  0.75],\n",
    "       [ 0.55, -0.2 ,  0.8 ],\n",
    "       [ 0.55,  0.15,  0.55],\n",
    "       [ 0.55,  0.15,  0.6 ],\n",
    "       [ 0.55,  0.15,  0.65],\n",
    "       [ 0.55,  0.15,  0.7 ],\n",
    "       [ 0.55,  0.15,  0.75],\n",
    "       [ 0.55,  0.15,  0.8 ],\n",
    "       [ 0.55,  0.2 ,  0.55],\n",
    "       [ 0.55,  0.2 ,  0.6 ],\n",
    "       [ 0.55,  0.2 ,  0.65],\n",
    "       [ 0.55,  0.2 ,  0.7 ],\n",
    "       [ 0.55,  0.2 ,  0.75],\n",
    "       [ 0.55,  0.2 ,  0.8 ],\n",
    "       [ 0.55,  0.25,  0.55],\n",
    "       [ 0.55,  0.25,  0.6 ],\n",
    "       [ 0.55,  0.25,  0.65],\n",
    "       [ 0.55,  0.25,  0.7 ],\n",
    "       [ 0.55,  0.25,  0.75],\n",
    "       [ 0.55,  0.25,  0.8 ],\n",
    "       [ 0.55,  0.3 ,  0.55],\n",
    "       [ 0.55,  0.3 ,  0.6 ],\n",
    "       [ 0.55,  0.3 ,  0.65],\n",
    "       [ 0.55,  0.3 ,  0.7 ],\n",
    "       [ 0.55,  0.3 ,  0.75],\n",
    "       [ 0.55,  0.3 ,  0.8 ],\n",
    "       [ 0.55,  0.35,  0.55],\n",
    "       [ 0.55,  0.35,  0.6 ],\n",
    "       [ 0.55,  0.35,  0.65],\n",
    "       [ 0.55,  0.35,  0.7 ],\n",
    "       [ 0.55,  0.35,  0.75],\n",
    "       [ 0.55,  0.35,  0.8 ],\n",
    "       [ 0.55,  0.4 ,  0.55],\n",
    "       [ 0.55,  0.4 ,  0.6 ],\n",
    "       [ 0.55,  0.4 ,  0.65],\n",
    "       [ 0.55,  0.4 ,  0.7 ],\n",
    "       [ 0.55,  0.4 ,  0.75],\n",
    "       [ 0.55,  0.4 ,  0.8 ]])"
   ]
  },
  {
   "cell_type": "code",
   "execution_count": 4,
   "metadata": {},
   "outputs": [],
   "source": [
    "targets = targets[6:]"
   ]
  },
  {
   "cell_type": "code",
   "execution_count": 5,
   "metadata": {
    "scrolled": false
   },
   "outputs": [
    {
     "name": "stderr",
     "output_type": "stream",
     "text": [
      "Unknown tag \"material\" in /robot[@name='panda']/link[@name='panda_link0']/collision[1]\n",
      "Unknown tag \"material\" in /robot[@name='panda']/link[@name='panda_link1']/collision[1]\n",
      "Unknown tag \"material\" in /robot[@name='panda']/link[@name='panda_link2']/collision[1]\n",
      "Unknown tag \"material\" in /robot[@name='panda']/link[@name='panda_link4']/collision[1]\n",
      "Unknown tag \"material\" in /robot[@name='panda']/link[@name='panda_link5']/collision[1]\n",
      "Unknown tag \"material\" in /robot[@name='panda']/link[@name='panda_link6']/collision[1]\n",
      "Unknown tag \"material\" in /robot[@name='panda']/link[@name='panda_link7']/collision[1]\n",
      "Unknown tag \"material\" in /robot[@name='panda']/link[@name='panda_hand']/collision[1]\n"
     ]
    }
   ],
   "source": [
    "urdf = tk.urdf_from_file('panda_arm_kdl.urdf')\n",
    "chain = tk.tk_chain_from_urdf(urdf)\n",
    "dyn = tk.ChainDynParam(chain)\n"
   ]
  },
  {
   "cell_type": "code",
   "execution_count": 9,
   "metadata": {},
   "outputs": [],
   "source": [
    "# For Panda on the floor and others\n",
    "base_pos = tf.cast(np.array([0., 0., 0.])[None], tf.float32)\n",
    "base_rot_vec = np.array([0., 0., 0.])\n",
    "base_rot_mat = tf.cast(rotvec2mat(base_rot_vec), tf.float32)\n",
    "base_rot_mat_inv = tf.cast(tf.transpose(base_rot_mat), tf.float32)\n",
    "\n",
    "\n",
    "\n",
    "def kdl2bullet_x(x):\n",
    "    \"\"\"\n",
    "    param: x: [batch, 3] position in kdl (wrt robot base frame)\n",
    "    \"\"\"\n",
    "    return tf.einsum('ij, aj->ai',base_rot_mat, x) + base_pos\n",
    "\n",
    "def bullet2kdl_x(x):\n",
    "    \"\"\"\n",
    "    param: x: [batch, 3] position in bullet (wrt bullet world frame)\n",
    "    \"\"\"\n",
    "    return tf.einsum('ij, aj->ai',base_rot_mat_inv, x - base_pos)\n",
    "\n",
    "def kdl2bullet_q(x):\n",
    "    \"\"\"\n",
    "    param: x: [batch, 9] vectorized rotation matrix in kdl (wrt robot base frame)\n",
    "    \"\"\"\n",
    "    kdl_end_rot_mat = tf.reshape(x, (x.shape[0], 3,3))\n",
    "    world_end_rot_mat =  tf.einsum('ij, ajk->aik', base_rot_mat, kdl_end_rot_mat)\n",
    "    return rot2quat(world_end_rot_mat)\n",
    "\n",
    "def bullet2kdl_q(x):\n",
    "    \"\"\"\n",
    "    param: x: [batch, 9] vectorized rotation matrix in bullet (wrt bullet world frame)\n",
    "    \"\"\"\n",
    "    world_end_rot_mat = tf.reshape(x, (x.shape[0], 3,3))\n",
    "    kdl_end_rot_mat =  tf.einsum('ij, ajk->aik', base_rot_mat_inv, world_end_rot_mat)\n",
    "    return rot2quat(kdl_end_rot_mat)\n",
    "        \n",
    "def kdl2bullet_xq(x):\n",
    "    \"\"\"\n",
    "    param: x: [batch, 12] position + vectorized rotation matrix\n",
    "    \"\"\"\n",
    "    return kdl2bullet_x(x[:, :3]), kdl2bullet_q(x[:, 3:])\n",
    "\n",
    "def bullet2kdl_xq(x):\n",
    "    \"\"\"\n",
    "    param: x: [batch, 12] position + vectorized rotation matrix\n",
    "    \"\"\"\n",
    "    return bullet2kdl_x(x[:, :3]), bullet2kdl_q(x[:, 3:])\n"
   ]
  },
  {
   "cell_type": "markdown",
   "metadata": {},
   "source": [
    "### End-pose cost"
   ]
  },
  {
   "cell_type": "code",
   "execution_count": 10,
   "metadata": {},
   "outputs": [],
   "source": [
    "quats_xyz = Quaternion(create_unit_rotations(angle=pi/2))\n",
    "u = tf.constant([0.        , np.pi/2, 0. ])       \n",
    "theta = tf.linalg.norm(u)\n",
    "u = u/theta\n",
    "mu = tf.cast(utils.axis_angle2quats(u, theta), tf.float32)[None]\n",
    "\n",
    "mu_  = Quaternion(tf.tile(mu, (3,1)))\n",
    "rot_mu =  mu_ * quats_xyz\n",
    "u = Quaternion(rot_mu) - mu_\n",
    "u = u/tf.linalg.norm(u, axis=-1)[:,None]\n",
    "norms = tf.constant([1, 1e-5, 1e-5])\n",
    "cov = tf.reduce_sum(tf.einsum('k,kij->kij', \n",
    "                                  norms,\n",
    "                                  tf.einsum('ki, kj->kij',u,u)), axis=0)\n",
    "cov += 1e-6 * tf.eye(4)\n",
    "\n",
    "prec = tf.linalg.inv(cov)\n",
    "mu_quat = mu[None]\n",
    "def normalS3_log_prob(x):\n",
    "    \"\"\"\n",
    "    x : [hole_nb, batch_nb, 4]\n",
    "    Quaternion lognormal distribution\n",
    "    \"\"\"\n",
    "    mu__ = Quaternion(tf.tile(mu_quat, (x.q.shape[0], x.q.shape[1], 1)))\n",
    "    diff = x - mu__\n",
    "    quad = -0.5*tf.linalg.einsum('hbi,hbi->hb',diff, tf.linalg.einsum('ij,hbj->hbi',prec,diff))\n",
    "    return quad\n",
    "\n",
    "\n",
    "cov_x = tf.linalg.diag([1e-3, 1e-3, 1e-3])\n",
    "prec_x = tf.linalg.inv(cov_x)\n",
    "\n",
    "def normal_log_prob_(mu_x):\n",
    "    \"\"\"\n",
    "    mu_x : [hole_nb, 1, 3]\n",
    "    \"\"\"\n",
    "    def normal_log_prob(x):\n",
    "        \"\"\"\n",
    "        x: [hole_nb, batch_nb, 3]\n",
    "        Cartesian lognormal distribution\n",
    "        \"\"\"\n",
    "        diff = x - mu_x\n",
    "        quad = -0.5*tf.linalg.einsum('hbi,hbi->hb',diff, tf.linalg.einsum('ij,hbj->hbi',prec_x,diff))\n",
    "        return quad\n",
    "    return normal_log_prob\n",
    "\n",
    "def normal_log_prob__(mu_x):\n",
    "    \"\"\"\n",
    "    mu_x : [1, 3]\n",
    "    \"\"\"\n",
    "    def normal_log_prob(x):\n",
    "        \"\"\"\n",
    "        x: [batch_nb, 3]\n",
    "        Cartesian lognormal distribution\n",
    "        \"\"\"\n",
    "        diff = x - mu_x\n",
    "        quad = -0.5*tf.linalg.einsum('bi,bi->b',diff, tf.linalg.einsum('ij,bj->bi',prec_x,diff))\n",
    "        return quad\n",
    "    return normal_log_prob"
   ]
  },
  {
   "cell_type": "markdown",
   "metadata": {},
   "source": [
    "### Joint limit costs"
   ]
  },
  {
   "cell_type": "code",
   "execution_count": 12,
   "metadata": {},
   "outputs": [],
   "source": [
    "joint_limits = tf.stack(chain.joint_limits)\n",
    "lower_limits = joint_limits[:,0][None, None]\n",
    "upper_limits = joint_limits[:,1][None, None]\n",
    "def plot_limits(q):\n",
    "    plt.plot(joint_limits, \"o\")\n",
    "    plt.plot(q, \"kx\")\n",
    "    \n",
    "mean_limits = tf.reduce_mean(joint_limits,-1)[None]\n",
    "@tf.function\n",
    "def cost_joint_limit(q):\n",
    "    rl = tf.math.minimum(q-lower_limits, 0)\n",
    "    ru = tf.math.maximum(q-upper_limits, 0)\n",
    "    return 0.5*(tf.linalg.einsum('hbi,hbi->hb',rl, rl) + tf.linalg.einsum('hbi,hbi->hb',ru, ru))\n"
   ]
  },
  {
   "cell_type": "markdown",
   "metadata": {},
   "source": [
    "### Optimization "
   ]
  },
  {
   "cell_type": "code",
   "execution_count": 16,
   "metadata": {},
   "outputs": [],
   "source": [
    "batch = 1500\n",
    "mu_x = tf.cast(targets, tf.float32)[:, None]\n",
    "normal_log_prob = normal_log_prob_(mu_x)\n",
    "hole_nb = targets.shape[0]\n",
    "@tf.function\n",
    "def cost_ik(q):\n",
    "    \"\"\"\n",
    "    q: [hole_nb, batch_nb, nb_dof]\n",
    "    \"\"\"\n",
    "    batch = q.shape[1]\n",
    "    q_vec = tf.reshape(q, (hole_nb*batch, q.shape[2]))\n",
    "    xs_ = chain.xs(q_vec, layout=tk.FkLayout.xm)[:, -1]\n",
    "#     xs_ = tf.reshape(xs_, (q.shape[0], q.shape[1], xs_.shape[-1]))\n",
    "    \n",
    "    # if robot base frame is changed:\n",
    "#     world_end_pos, world_end_quats = kdl2bullet_xq(xs_)\n",
    "#     else:kdl_end_rot_mat = tf.reshape(x, (x.shape[0], 3,3))\n",
    "    world_end_pos = tf.reshape(xs_[..., :3], (hole_nb, batch, 3))\n",
    "    \n",
    "\n",
    "    world_end_quats = rot2quat(tf.reshape(xs_[...,3:], (hole_nb*batch, 3, 3)))\n",
    "    world_end_quats = tf.reshape(world_end_quats, (hole_nb, batch, 4))\n",
    "        \n",
    "    ee_pos_cost = -normal_log_prob(world_end_pos)\n",
    "    ee_quat_cost = -normalS3_log_prob(Quaternion(world_end_quats))\n",
    "    return ee_pos_cost +  ee_quat_cost*0.1 + cost_joint_limit(q)*1e3\n"
   ]
  },
  {
   "cell_type": "code",
   "execution_count": 17,
   "metadata": {},
   "outputs": [],
   "source": [
    "start  = tf.Variable(\n",
    "    tf.random.uniform(shape=(hole_nb, batch, 7), minval=tf.stack(chain.joint_limits)[:,0],maxval=tf.stack(chain.joint_limits)[:,1]))"
   ]
  },
  {
   "cell_type": "code",
   "execution_count": 18,
   "metadata": {},
   "outputs": [],
   "source": [
    "@tf.function\n",
    "def cost():\n",
    "    return cost_ik(start)\n",
    "optimizer = tf.keras.optimizers.Adam(0.5)\n"
   ]
  },
  {
   "cell_type": "code",
   "execution_count": 32,
   "metadata": {},
   "outputs": [
    {
     "name": "stdout",
     "output_type": "stream",
     "text": [
      "[[17.4277573 0.00608956954 0.0204535089 ... 0.216130823 1.55712259 0.743399382]\n",
      " [0.000382036262 157.036743 2.92338085 ... 0.0920131877 0.000103723491 0.000209388076]\n",
      " [0.0018974673 0.0098151844 0.00541504612 ... 0.000100050493 5.00765163e-05 0.00606317725]\n",
      " ...\n",
      " [0.000161110336 8.77209187 0.0203801431 ... 11.3755322 0.000137518902 0.0812880769]\n",
      " [5.42406321 0.000817328226 25.04673 ... 5.42935133 8.80906773 0.974236]\n",
      " [2.74695945 77.7683868 3.02221084 ... 2.7028091 3.02161789 102.88208]]\r\n"
     ]
    }
   ],
   "source": [
    "# Stochastic Gradient Descent\n",
    "for i in range(1000000):\n",
    "    try :\n",
    "        optimizer.minimize(cost,[start] )\n",
    "        display.clear_output(wait=True)\n",
    "        tf.print(cost())\n",
    "    except KeyboardInterrupt:\n",
    "        break"
   ]
  },
  {
   "cell_type": "code",
   "execution_count": 33,
   "metadata": {},
   "outputs": [],
   "source": [
    "good_q__ = start"
   ]
  },
  {
   "cell_type": "code",
   "execution_count": 34,
   "metadata": {},
   "outputs": [],
   "source": [
    "good_q_ = [None for i in range(hole_nb)]\n",
    "max_nb = 1e5\n",
    "for i in range(hole_nb):\n",
    "    good_q_[i] = good_q__[i][cost_joint_limit(good_q__)[i] < 1e-2]\n",
    "    max_nb = min(max_nb,good_q_[i].shape[0])\n",
    "    \n",
    "for i in range(hole_nb):\n",
    "    good_q_[i] = good_q_[i][:max_nb]\n",
    "    \n",
    "good_q_ = tf.stack(good_q_)"
   ]
  },
  {
   "cell_type": "code",
   "execution_count": 35,
   "metadata": {},
   "outputs": [
    {
     "data": {
      "text/plain": [
       "TensorShape([84, 1274, 7])"
      ]
     },
     "execution_count": 35,
     "metadata": {},
     "output_type": "execute_result"
    }
   ],
   "source": [
    "good_q_.shape"
   ]
  },
  {
   "cell_type": "code",
   "execution_count": 36,
   "metadata": {},
   "outputs": [],
   "source": [
    "i = 0 # rivet hole\n",
    "j = 0 # configuration nb"
   ]
  },
  {
   "cell_type": "code",
   "execution_count": 37,
   "metadata": {},
   "outputs": [
    {
     "name": "stdout",
     "output_type": "stream",
     "text": [
      "[[0.000904737622]]\r\n"
     ]
    },
    {
     "data": {
      "image/png": "[encoded data removed]",
      "text/plain": [
       "<Figure size 432x288 with 1 Axes>"
      ]
     },
     "metadata": {
      "needs_background": "light"
     },
     "output_type": "display_data"
    }
   ],
   "source": [
    "plot_limits(good_q_[i][j])\n",
    "tf.print(cost_joint_limit(good_q_[i][j][None]))\n",
    "j+=1\n",
    "# i+=1"
   ]
  },
  {
   "cell_type": "code",
   "execution_count": 38,
   "metadata": {},
   "outputs": [],
   "source": [
    "def check_q(q):\n",
    "    batch = q.shape[1]\n",
    "    q_vec = tf.reshape(q, (hole_nb*batch, q.shape[2]))\n",
    "    xs_ = chain.xs(q_vec, layout=tk.FkLayout.xm)[:, -1]\n",
    "    \n",
    "    world_end_pos = tf.reshape(xs_[..., :3], (hole_nb, batch , 3))\n",
    "    world_end_quats = rot2quat(tf.reshape(xs_[...,3:], (hole_nb*batch, 3, 3)))\n",
    "    world_end_quats = tf.reshape(world_end_quats, (hole_nb, batch, 4))\n",
    "    \n",
    "    \n",
    "    \n",
    "    good_xs = [None for i in range(hole_nb)]\n",
    "    good_xs_ind = [None for i in range(hole_nb)]\n",
    "    max_nb = 1e5\n",
    "    for i in range(hole_nb):\n",
    "#         print(world_end_pos[i][normal_log_prob(world_end_pos)[i] > -1e-2].shape)\n",
    "        good_xs[i] = world_end_pos[i][normal_log_prob(world_end_pos)[i] > -1e-1]\n",
    "        good_xs_ind[i] = np.where(normal_log_prob(world_end_pos)[i] > -1e-1)\n",
    "        max_nb = min(max_nb,good_xs[i].shape[0])\n",
    "\n",
    "    for i in range(hole_nb):\n",
    "        good_xs[i] = good_xs[i][:max_nb]\n",
    "\n",
    "    good_xs = tf.stack(good_xs)\n",
    "    return world_end_pos, good_xs, good_xs_ind\n",
    "    "
   ]
  },
  {
   "cell_type": "code",
   "execution_count": 39,
   "metadata": {},
   "outputs": [
    {
     "data": {
      "text/plain": [
       "TensorShape([84, 642, 3])"
      ]
     },
     "execution_count": 39,
     "metadata": {},
     "output_type": "execute_result"
    }
   ],
   "source": [
    "xs, good_xs, good_xs_ind = check_q(good_q_)\n",
    "good_xs.shape"
   ]
  },
  {
   "cell_type": "code",
   "execution_count": 40,
   "metadata": {},
   "outputs": [
    {
     "data": {
      "image/png": "[encoded data removed]",
      "text/plain": [
       "<Figure size 1080x360 with 3 Axes>"
      ]
     },
     "metadata": {
      "needs_background": "light"
     },
     "output_type": "display_data"
    }
   ],
   "source": [
    "fig,ax = plt.subplots(ncols=3, figsize=(15,5))\n",
    "N = xs.shape[1]\n",
    "j = 0 # choose a rivet hole\n",
    "for i in range(3):\n",
    "    ax[i].plot(range(N), xs[j, :,i], \"r.\")\n",
    "    ax[i].plot(good_xs_ind[j][0][:good_xs.shape[1]], good_xs[j,:,i], \"gx\", ms=10)\n",
    "    ax[i].plot(range(N), [mu_x[j,:,i]]*N, \"k\")"
   ]
  },
  {
   "cell_type": "code",
   "execution_count": 41,
   "metadata": {
    "scrolled": true
   },
   "outputs": [
    {
     "data": {
      "text/plain": [
       "TensorShape([84, 642, 7])"
      ]
     },
     "execution_count": 41,
     "metadata": {},
     "output_type": "execute_result"
    }
   ],
   "source": [
    "good_q = [None for i in range(hole_nb)]\n",
    "max_nb = 1e5\n",
    "for i in range(hole_nb):\n",
    "    good_q[i] = good_q_[i][-normal_log_prob(xs)[i] < 1e-1]\n",
    "    max_nb = min(max_nb,good_q[i].shape[0])\n",
    "    \n",
    "for i in range(hole_nb):\n",
    "    good_q[i] = good_q[i][:max_nb]\n",
    "    \n",
    "good_q = tf.stack(good_q)\n",
    "good_q.shape"
   ]
  },
  {
   "cell_type": "code",
   "execution_count": 42,
   "metadata": {},
   "outputs": [],
   "source": [
    "i = 0\n",
    "j = 1"
   ]
  },
  {
   "cell_type": "code",
   "execution_count": 43,
   "metadata": {},
   "outputs": [
    {
     "name": "stdout",
     "output_type": "stream",
     "text": [
      "[[0]]\r\n"
     ]
    },
    {
     "data": {
      "image/png": "[encoded data removed]",
      "text/plain": [
       "<Figure size 432x288 with 1 Axes>"
      ]
     },
     "metadata": {
      "needs_background": "light"
     },
     "output_type": "display_data"
    }
   ],
   "source": [
    "plot_limits(good_q[j,i])\n",
    "tf.print(cost_joint_limit(good_q[j,i][None]))\n",
    "i+=1"
   ]
  },
  {
   "cell_type": "code",
   "execution_count": 44,
   "metadata": {},
   "outputs": [
    {
     "data": {
      "text/plain": [
       "<tf.Tensor: shape=(0, 3), dtype=int64, numpy=array([], shape=(0, 3), dtype=int64)>"
      ]
     },
     "execution_count": 44,
     "metadata": {},
     "output_type": "execute_result"
    }
   ],
   "source": [
    "# check if there is any nan\n",
    "tf.where(tf.math.is_nan(good_q) == True)"
   ]
  },
  {
   "cell_type": "markdown",
   "metadata": {},
   "source": [
    "### Displacement cost , new indices paper 2020"
   ]
  },
  {
   "cell_type": "code",
   "execution_count": 45,
   "metadata": {},
   "outputs": [],
   "source": [
    "# Force: \n",
    "F = 150 # in Newton\n",
    "nF = tf.constant([-1, 0., 0]) #direction of force in world frame coordinates"
   ]
  },
  {
   "cell_type": "code",
   "execution_count": 46,
   "metadata": {},
   "outputs": [],
   "source": [
    "# For 7dof robot\n",
    "K = tf.eye(chain.nb_joint)*1e5\n",
    "C = tf.linalg.diag(tf.ones(7)*0.06)\n",
    "\n",
    "# # ## For 3dof robot in the paper\n",
    "# K = tf.linalg.diag([2.4*1e5, 1e5, 1e5])\n",
    "# C = tf.linalg.diag([0.06, 0.06, 0.06])\n",
    "\n",
    "f = tf.constant(66.) #Hz\n",
    "w = tf.constant(2*pi*f)\n",
    "w = tf.constant(150.)\n",
    "\n",
    "def compute_H(w, M, J, C, K):\n",
    "    \"\"\"\n",
    "    Finds the displacement force frequency response function H(w)\n",
    "    \"\"\"\n",
    "    real = -(w**2)*M+K\n",
    "    imag = w*C\n",
    "    comp = tf.complex(real, imag)\n",
    "#     inv = tf.linalg.inv(comp, adjoint=True)\n",
    "    try:\n",
    "        inv = tf.linalg.inv(comp, adjoint=True)\n",
    "    except:\n",
    "        r0  = tf.linalg.pinv(real) @ imag\n",
    "        y11 = tf.linalg.pinv(imag @ r0 + real)\n",
    "        y10 = -r0 @ y11\n",
    "\n",
    "        inv = tf.cast(tf.complex(y11,y10), dtype =comp.dtype)\n",
    "    return J@inv@tf.transpose(J, (0,2,1))\n",
    "\n",
    "def displacement(q):\n",
    "        q_vec = tf.reshape(q, (q.shape[0]*q.shape[1], q.shape[2]))\n",
    "        M = dyn.inertia_matrix(q_vec)\n",
    "        J = chain.jacobian(q_vec, layout=tk.FkLayout.x)\n",
    "        J = tf.complex(J, tf.zeros_like(J))\n",
    "        H = compute_H(w, M, J, C, K)\n",
    "        \n",
    "        A = tf.transpose(H, perm=(0,2,1),conjugate=True)@H\n",
    "        evals, evecs = tf.linalg.eigh(A)\n",
    "\n",
    "        evals = tf.reshape(evals, (q.shape[0], q.shape[1], 3))\n",
    "        return tf.math.sqrt(tf.math.abs(tf.math.real(evals)))\n",
    "\n",
    "@tf.function\n",
    "def displacement_(w, q):\n",
    "        q_vec = tf.reshape(q, (q.shape[0]*q.shape[1], q.shape[2]))\n",
    "        M = dyn.inertia_matrix(q_vec)\n",
    "        J = chain.jacobian(q_vec, layout=tk.FkLayout.x)\n",
    "        J = tf.complex(J, tf.zeros_like(J))\n",
    "        H = compute_H(w, M, J, C, K)\n",
    "        A = tf.transpose(H, (0,2,1),conjugate=True)@H\n",
    "        evals, evecs = tf.linalg.eigh(A)\n",
    "        evals = tf.reshape(evals, (q.shape[0], q.shape[1], 3))\n",
    "        return  tf.math.sqrt(tf.math.abs(tf.math.real(evals)))"
   ]
  },
  {
   "cell_type": "code",
   "execution_count": 47,
   "metadata": {},
   "outputs": [
    {
     "data": {
      "text/plain": [
       "TensorShape([84, 642, 7])"
      ]
     },
     "execution_count": 47,
     "metadata": {},
     "output_type": "execute_result"
    }
   ],
   "source": [
    "good_q.shape"
   ]
  },
  {
   "cell_type": "code",
   "execution_count": 49,
   "metadata": {},
   "outputs": [],
   "source": [
    "data_nb = 50\n",
    "config_nb = 500\n",
    "w__ = 66*2*pi\n",
    "w__ = 450\n",
    "w_ = tf.cast(np.linspace(0, w__, data_nb), tf.float32)\n",
    "disp = np.zeros((hole_nb, config_nb, data_nb))\n",
    "disp_x = np.zeros((hole_nb, config_nb, data_nb, 3))\n",
    "disp_x\n",
    "q_random = tf.random.uniform(shape=(hole_nb, config_nb,7), minval=tf.stack(chain.joint_limits)[:,0],maxval=tf.stack(chain.joint_limits)[:,1])\n",
    "for i in range(data_nb):\n",
    "#     d_ = displacement_(w_[i], good_q[:,:config_nb])\n",
    "    d_ = displacement_(w_[i], q_random[:,:config_nb])\n",
    "#     disp[:,:, i] = tf.reduce_max(displacement_(w_[i], q_random), -1)\n",
    "#     disp[:,:, i] = tf.reduce_max(d_, -1)\n",
    "    disp_x[:,:,i] = d_\n"
   ]
  },
  {
   "cell_type": "code",
   "execution_count": 50,
   "metadata": {},
   "outputs": [],
   "source": [
    "# disp = tf.einsum('abci,i->abc',disp_x, tf.constant([1., 0., 0.]))\n",
    "disp = tf.reduce_max(disp_x, -1)"
   ]
  },
  {
   "cell_type": "code",
   "execution_count": 51,
   "metadata": {
    "scrolled": true
   },
   "outputs": [
    {
     "data": {
      "image/png": "[encoded data removed]",
      "text/plain": [
       "<Figure size 288x216 with 1 Axes>"
      ]
     },
     "metadata": {
      "needs_background": "light"
     },
     "output_type": "display_data"
    }
   ],
   "source": [
    "fig,ax = plt.subplots(1, figsize=(4,3))\n",
    "for j in range(1):\n",
    "    for i in range(config_nb):\n",
    "        ax.plot(w_,disp[j,i]*1e3, \"-\", label=\"Point A\")\n",
    "ax.ticklabel_format(style='sci', axis='y', scilimits=(0,0))\n",
    "ax.set_xlabel('$\\omega$'+' (rad/s)')\n",
    "ax.set_ylabel('$\\eta$'+' (mm/N)')\n",
    "ax.grid(\"on\")\n",
    "# Major ticks every 20, minor ticks every 5\n",
    "major_ticks = np.arange(0, w_[-1], 50)\n",
    "minor_ticks = np.arange(0, w_[-1], 10)\n",
    "\n",
    "ax.set_xticks(major_ticks)\n",
    "ax.set_xticks(minor_ticks, minor=True)\n",
    "\n",
    "def forward(x):\n",
    "    return x * 130.\n",
    "\n",
    "\n",
    "def inverse(x):\n",
    "    return x/130.\n",
    "\n",
    "secax = ax.secondary_yaxis('right', functions=(forward, inverse))\n",
    "secax.set_ylabel('$\\Delta x$'+' (mm)')\n",
    "secax.ticklabel_format(style='sci', axis='y', scilimits=(0,0))\n",
    "\n",
    "\n",
    "# And a corresponding grid\n",
    "ax.grid(which='both')\n",
    "\n",
    "# Or if you want different settings for the grids:\n",
    "ax.grid(which='minor', alpha=0.2)\n",
    "ax.grid(which='major', alpha=0.5)\n",
    "# ax.set_facecolor(\"w\")\n",
    "# plt.legend()"
   ]
  },
  {
   "cell_type": "markdown",
   "metadata": {},
   "source": [
    "### Optimization for displacement"
   ]
  },
  {
   "cell_type": "code",
   "execution_count": 52,
   "metadata": {},
   "outputs": [],
   "source": [
    "batch = 500\n",
    "q_test = tf.Variable(good_q[:, :batch], trainable=True)\n",
    "@tf.function\n",
    "def cost_(): \n",
    "    return cost_ik(q_test)"
   ]
  },
  {
   "cell_type": "code",
   "execution_count": 53,
   "metadata": {},
   "outputs": [],
   "source": [
    "@tf.function\n",
    "def train_step():\n",
    "    with tf.GradientTape(watch_accessed_variables=False) as tape:\n",
    "        tape.watch(q_test)\n",
    "        disp_cost = tf.norm(displacement(q_test),ord=2,axis=-1 )\n",
    "        loss = cost_ik(q_test) + 1e1*disp_cost\n",
    "        \n",
    "    grads = tape.gradient(loss, [q_test])\n",
    "\n",
    "#     J = chain.jacobian(q_test, layout=tk.FkLayout.xq)\n",
    "#     Jv = J[:, :3]\n",
    "#     Jv_pinv = tf.linalg.pinv(Jv)\n",
    "    \n",
    "#     Jw = J[:,3:]\n",
    "#     Jw_ = tf.concat([tf.zeros((batch, 1, chain.nb_joint)), Jw],1)\n",
    "#     Jq = 0.5*utils.omega_quat_left(kdl_q)@Jw_\n",
    "#     Jq_pinv = tf.linalg.pinv(Jq)\n",
    "    \n",
    "#     dquat = world_q - mu_batch\n",
    "#     dx = world_end_pos - mu_x\n",
    "#     grads_ = grads[0] + 10*tf.linalg.matvec(Jq_pinv, dquat) + 100*tf.linalg.matvec(Jv_pinv, dx)\n",
    "#     grads_ = tf.clip_by_value(grads[0], -1e15, 1e15)\n",
    "    grads_ = grads[0]\n",
    "    grads_ = tf.where(tf.math.is_nan(grads_), tf.zeros_like(grads_), grads_)\n",
    "    optimizer.apply_gradients(zip([grads_], [q_test]))\n",
    "    return loss, grads"
   ]
  },
  {
   "cell_type": "code",
   "execution_count": 54,
   "metadata": {},
   "outputs": [],
   "source": [
    "optimizer = tf.keras.optimizers.Adam(0.05)"
   ]
  },
  {
   "cell_type": "code",
   "execution_count": 55,
   "metadata": {},
   "outputs": [
    {
     "name": "stdout",
     "output_type": "stream",
     "text": [
      "[[0.0816488639 0.0344964303 0.100079171 ... 0.0123754675 0.0119957486 0.0397838913]\n",
      " [0.0144206583 0.0405650884 0.0162226502 ... 0.0271732863 0.0185198169 0.0164889]\n",
      " [0.0275611654 0.0233492609 0.0380515829 ... 0.0567786731 0.0100311935 0.0136657301]\n",
      " ...\n",
      " [0.0349497944 0.0180530772 0.130501539 ... 0.0432430767 0.0537502281 0.0362748876]\n",
      " [0.033996135 0.0111526819 0.0223232582 ... 0.0431865528 0.0245018452 0.0375087745]\n",
      " [0.060681887 0.0371367633 0.069521606 ... 0.0280242041 0.0345587842 0.01116296]]\r\n"
     ]
    }
   ],
   "source": [
    "for i in range(1000000):\n",
    "    try :\n",
    "        loss, grads = train_step()\n",
    "        display.clear_output(wait=True)\n",
    "        tf.print(loss)\n",
    "    except KeyboardInterrupt:\n",
    "        break"
   ]
  },
  {
   "cell_type": "code",
   "execution_count": 56,
   "metadata": {},
   "outputs": [
    {
     "data": {
      "text/plain": [
       "<tf.Tensor: shape=(0, 2), dtype=int64, numpy=array([], shape=(0, 2), dtype=int64)>"
      ]
     },
     "execution_count": 56,
     "metadata": {},
     "output_type": "execute_result"
    }
   ],
   "source": [
    "# check if there is any nan\n",
    "tf.where(tf.math.is_nan(loss) == True)"
   ]
  },
  {
   "cell_type": "code",
   "execution_count": 57,
   "metadata": {
    "scrolled": true
   },
   "outputs": [
    {
     "name": "stdout",
     "output_type": "stream",
     "text": [
      "(84, 500, 3)\n"
     ]
    }
   ],
   "source": [
    "xs_,_,_ = check_q(q_test)\n",
    "print(xs_.shape)\n",
    "i=0"
   ]
  },
  {
   "cell_type": "code",
   "execution_count": 58,
   "metadata": {},
   "outputs": [],
   "source": [
    "j = 0"
   ]
  },
  {
   "cell_type": "code",
   "execution_count": 59,
   "metadata": {
    "scrolled": true
   },
   "outputs": [
    {
     "data": {
      "image/png": "[encoded data removed]",
      "text/plain": [
       "<Figure size 432x288 with 1 Axes>"
      ]
     },
     "metadata": {
      "needs_background": "light"
     },
     "output_type": "display_data"
    }
   ],
   "source": [
    "plt.plot(tf.linalg.norm(displacement(good_q[j,:batch][None])[0],axis=-1), \"bx\", label=\"Before optimization\")\n",
    "plt.plot(tf.linalg.norm(displacement(q_test[j][None])[0],axis=-1), \"rx\", label=\"After optimization\")\n",
    "plt.legend()\n",
    "plt.ticklabel_format(style='sci', axis='y', scilimits=(0,0))\n",
    "j+=1\n",
    "# do with 3 different w values"
   ]
  },
  {
   "cell_type": "code",
   "execution_count": 60,
   "metadata": {},
   "outputs": [
    {
     "data": {
      "text/plain": [
       "(42000,)"
      ]
     },
     "execution_count": 60,
     "metadata": {},
     "output_type": "execute_result"
    }
   ],
   "source": [
    "(displacement(good_q[:,:batch])*1e3).numpy()[...,0].flatten().shape"
   ]
  },
  {
   "cell_type": "code",
   "execution_count": 61,
   "metadata": {
    "scrolled": false
   },
   "outputs": [
    {
     "data": {
      "text/plain": [
       "[]"
      ]
     },
     "execution_count": 61,
     "metadata": {},
     "output_type": "execute_result"
    },
    {
     "data": {
      "image/png": "[encoded data removed]",
      "text/plain": [
       "<Figure size 288x216 with 1 Axes>"
      ]
     },
     "metadata": {
      "needs_background": "light"
     },
     "output_type": "display_data"
    }
   ],
   "source": [
    "fig,ax=plt.subplots(1,figsize=(4,3))\n",
    "density = 1\n",
    "after_opt_data = displacement(q_test)*1e3\n",
    "before_opt_data = displacement(good_q[:,:batch])*1e3\n",
    "# ax.hist(tf.linalg.norm(after_opt_data,axis=-1).numpy().flatten(), density=density, color=\"b\", label=\"After optimization\")\n",
    "# ax.hist(tf.linalg.norm(before_opt_data,axis=-1).numpy().flatten(), density=density, alpha=0.3, color=\"r\", label=\"Before optimization\")\n",
    "# ax.plot(after_opt_data.numpy().flatten(), np.ones_like(after_opt_data.numpy().flatten())*(-0.1), \"bx\", alpha=0.1)\n",
    "# ax.plot(before_opt_data.numpy().flatten(), np.ones_like(after_opt_data.numpy().flatten())*(-0.2), \"rx\", alpha=0.1)\n",
    "\n",
    "ax.hist(after_opt_data.numpy()[...,0].flatten(),density=density,color=\"b\", label=\"After optimization\")\n",
    "ax.hist(before_opt_data.numpy()[...,0].flatten(), color=\"r\",density=density, alpha=0.3, label=\"Before optimization\")\n",
    "ax.plot(after_opt_data.numpy()[...,0].flatten(), np.ones_like(after_opt_data.numpy()[...,0].flatten())*(-100), \"bx\", alpha=0.1)\n",
    "ax.plot(before_opt_data.numpy()[...,0].flatten(), np.ones_like(after_opt_data.numpy()[...,0].flatten())*(-300), \"rx\", alpha=0.1)\n",
    "\n",
    "\n",
    "\n",
    "ax.ticklabel_format(style='sci', axis='x', scilimits=(0,0))\n",
    "ax.set_xlabel('$\\eta$'+' (mm/N)')\n",
    "ax.set_ylabel(\"density\")\n",
    "secax = ax.secondary_xaxis('top', functions=(forward, inverse))\n",
    "secax.set_xlabel('$\\Delta x$'+' (mm)')\n",
    "secax.ticklabel_format(style='sci', axis='x', scilimits=(0,0))\n",
    "ax.legend(loc=7)\n",
    "\n",
    "ax.set_yticks([])"
   ]
  },
  {
   "cell_type": "code",
   "execution_count": 62,
   "metadata": {},
   "outputs": [
    {
     "data": {
      "image/png": "[encoded data removed]",
      "text/plain": [
       "<Figure size 432x288 with 3 Axes>"
      ]
     },
     "metadata": {
      "needs_background": "light"
     },
     "output_type": "display_data"
    }
   ],
   "source": [
    "fig,ax = plt.subplots(ncols=3)\n",
    "j = 0\n",
    "for i in range(3):\n",
    "    ax[i].plot(before_opt_data.numpy()[j,:,i])"
   ]
  },
  {
   "cell_type": "code",
   "execution_count": 63,
   "metadata": {},
   "outputs": [
    {
     "data": {
      "image/png": "[encoded data removed]",
      "text/plain": [
       "<Figure size 288x216 with 1 Axes>"
      ]
     },
     "metadata": {
      "needs_background": "light"
     },
     "output_type": "display_data"
    }
   ],
   "source": [
    "fig,ax = plt.subplots(figsize=(4,3))\n",
    "density = 1\n",
    "after_opt_data = displacement(q_test)*1e3\n",
    "before_opt_data = displacement(good_q[:,:batch])*1e3\n",
    "\n",
    "ax.boxplot([ before_opt_data.numpy()[...,0].flatten(), after_opt_data.numpy()[...,0].flatten()])\n",
    "\n",
    "# ax.boxplot([tf.linalg.norm(before_opt_data,axis=-1).numpy().flatten(), \n",
    "#             tf.linalg.norm(after_opt_data,axis=-1).numpy().flatten()])\n",
    "\n",
    "# ax.boxplot(tf.linalg.norm(after_opt_data,axis=-1).numpy().flatten())\n",
    "ticks = [\"Before\", \"After\"]\n",
    "ax.set_xticks([1,2])\n",
    "ax.set_xticklabels( ticks, rotation=0 )\n",
    "ax.ticklabel_format(style='sci', axis='y', scilimits=(0,0))\n",
    "ax.set_ylabel('$\\eta$'+' (mm/N)')\n",
    "\n",
    "secax = ax.secondary_yaxis('right', functions=(forward, inverse))\n",
    "secax.set_ylabel('$\\Delta x$'+' (mm)')\n",
    "secax.ticklabel_format(style='sci', axis='y', scilimits=(0,0))"
   ]
  },
  {
   "cell_type": "code",
   "execution_count": 64,
   "metadata": {},
   "outputs": [
    {
     "name": "stdout",
     "output_type": "stream",
     "text": [
      "0.00013378389\n"
     ]
    },
    {
     "data": {
      "text/plain": [
       "0.0004084899"
      ]
     },
     "execution_count": 64,
     "metadata": {},
     "output_type": "execute_result"
    }
   ],
   "source": [
    "print(np.std(after_opt_data.numpy()[...,0].flatten()))\n",
    "np.mean(after_opt_data.numpy()[...,0].flatten())"
   ]
  },
  {
   "cell_type": "code",
   "execution_count": 65,
   "metadata": {},
   "outputs": [
    {
     "name": "stdout",
     "output_type": "stream",
     "text": [
      "0.00046401683\n"
     ]
    },
    {
     "data": {
      "text/plain": [
       "0.00043478268"
      ]
     },
     "execution_count": 65,
     "metadata": {},
     "output_type": "execute_result"
    }
   ],
   "source": [
    "print(np.std(before_opt_data.numpy()[...,0].flatten()))\n",
    "np.mean(before_opt_data.numpy()[...,0].flatten())"
   ]
  }
 ],
 "metadata": {
  "kernelspec": {
   "display_name": "Python 3",
   "language": "python",
   "name": "python3"
  },
  "language_info": {
   "codemirror_mode": {
    "name": "ipython",
    "version": 3
   },
   "file_extension": ".py",
   "mimetype": "text/x-python",
   "name": "python",
   "nbconvert_exporter": "python",
   "pygments_lexer": "ipython3",
   "version": "3.7.6"
  }
 },
 "nbformat": 4,
 "nbformat_minor": 4
}

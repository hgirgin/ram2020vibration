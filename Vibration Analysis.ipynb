{
 "cells": [
  {
   "cell_type": "code",
   "execution_count": null,
   "metadata": {},
   "outputs": [],
   "source": [
    "import tensorflow as tf\n",
    "# tf.debugging.set_log_device_placement(True)  # to  visualize which functions are assigned to which device(CPU or GPU)\n",
    "# # by default, GPU is assigned priority for tensorflow. To disable it, run this:\n",
    "import os\n",
    "os.environ[\"CUDA_VISIBLE_DEVICES\"]=\"-1\""
   ]
  },
  {
   "cell_type": "code",
   "execution_count": null,
   "metadata": {
    "scrolled": true
   },
   "outputs": [],
   "source": [
    "from IPython.core import display\n",
    "import tensorflow_probability as tfp\n",
    "import matplotlib.pyplot as plt\n",
    "from math import pi\n",
    "import kdl as tk\n",
    "from quaternion import *\n",
    "from scipy.spatial.transform import Rotation as R\n",
    "\n",
    "plt.style.use(\"default\")\n",
    "%matplotlib inline\n",
    "%load_ext autoreload\n",
    "%autoreload 2"
   ]
  },
  {
   "cell_type": "markdown",
   "metadata": {},
   "source": [
    "### Setup of some functions and variables\n"
   ]
  },
  {
   "cell_type": "code",
   "execution_count": null,
   "metadata": {},
   "outputs": [],
   "source": [
    "def rotvec2mat(x):\n",
    "    return R.as_matrix(R.from_rotvec(x))"
   ]
  },
  {
   "cell_type": "code",
   "execution_count": null,
   "metadata": {},
   "outputs": [],
   "source": [
    "# Loading the rivet positions in 3D position vectors\n",
    "targets = np.load(\"targets.npy\")"
   ]
  },
  {
   "cell_type": "code",
   "execution_count": null,
   "metadata": {
    "scrolled": false
   },
   "outputs": [],
   "source": [
    "# Using tensorflow implementation of KDL, get the urdf, chain and dyn parameters\n",
    "urdf = tk.urdf_from_file('panda_arm_kdl.urdf')\n",
    "chain = tk.tk_chain_from_urdf(urdf)\n",
    "dyn = tk.ChainDynParam(chain)\n"
   ]
  },
  {
   "cell_type": "code",
   "execution_count": null,
   "metadata": {},
   "outputs": [],
   "source": [
    "# Transformations from world frame(bullet) of the simulation to the robot frame(kdl):\n",
    "# For Panda on the floor and for this paper, we used the same frame, but the user can change it from here.\n",
    "base_pos = tf.cast(np.array([0., 0., 0.])[None], tf.float32)\n",
    "base_rot_vec = np.array([0., 0., 0.])\n",
    "base_rot_mat = tf.cast(rotvec2mat(base_rot_vec), tf.float32)\n",
    "base_rot_mat_inv = tf.cast(tf.transpose(base_rot_mat), tf.float32)\n",
    "\n",
    "def kdl2bullet_x(x):\n",
    "    \"\"\"\n",
    "    param: x: [batch, 3] position in kdl (wrt robot base frame)\n",
    "    return: [batch, 3] position in bullet (wrt bullet world frame)\n",
    "    \"\"\"\n",
    "    return tf.einsum('ij, aj->ai',base_rot_mat, x) + base_pos\n",
    "\n",
    "def bullet2kdl_x(x):\n",
    "    \"\"\"\n",
    "    param: x: [batch, 3] position in bullet (wrt bullet world frame)\n",
    "    return: [batch, 3] position in kdl (wrt robot base frame)\n",
    "    \"\"\"\n",
    "    return tf.einsum('ij, aj->ai',base_rot_mat_inv, x - base_pos)\n",
    "\n",
    "def kdl2bullet_q(x):\n",
    "    \"\"\"\n",
    "    param: x: [batch, 9] vectorized rotation matrix in kdl (wrt robot base frame)\n",
    "    return: [batch, 4] quaternion vector in bullet (wrt bullet world frame)\n",
    "    \"\"\"\n",
    "    kdl_end_rot_mat = tf.reshape(x, (x.shape[0], 3,3))\n",
    "    world_end_rot_mat =  tf.einsum('ij, ajk->aik', base_rot_mat, kdl_end_rot_mat)\n",
    "    return rot2quat(world_end_rot_mat)\n",
    "\n",
    "def bullet2kdl_q(x):\n",
    "    \"\"\"\n",
    "    param: x: [batch, 9] vectorized rotation matrix in bullet (wrt bullet world frame)\n",
    "    return: [batch, 4] quaternion vector in kdl (wrt robot base frame)\n",
    "    \"\"\"\n",
    "    world_end_rot_mat = tf.reshape(x, (x.shape[0], 3,3))\n",
    "    kdl_end_rot_mat =  tf.einsum('ij, ajk->aik', base_rot_mat_inv, world_end_rot_mat)\n",
    "    return rot2quat(kdl_end_rot_mat)\n",
    "        \n",
    "def kdl2bullet_xq(x):\n",
    "    \"\"\"\n",
    "    param: x: [batch, 12] position + vectorized rotation matrix in kdl (wrt robot base frame)\n",
    "    return: [batch, 3], [batch, 4]  position, quaternion in bullet (wrt bullet world frame)\n",
    "    \"\"\"\n",
    "    return kdl2bullet_x(x[:, :3]), kdl2bullet_q(x[:, 3:])\n",
    "\n",
    "def bullet2kdl_xq(x):\n",
    "    \"\"\"\n",
    "    param: x: [batch, 12] position + vectorized rotation matrix in bullet (wrt bullet world frame)\n",
    "    return: [batch, 3], [batch, 4]  position, quaternion in kdl (wrt robot base frame)\n",
    "    \"\"\"\n",
    "    return bullet2kdl_x(x[:, :3]), bullet2kdl_q(x[:, 3:])\n"
   ]
  },
  {
   "cell_type": "markdown",
   "metadata": {},
   "source": [
    "### Defining the end-pose cost"
   ]
  },
  {
   "cell_type": "code",
   "execution_count": null,
   "metadata": {},
   "outputs": [],
   "source": [
    "# Quaternion cost\n",
    "quats_xyz = Quaternion(create_unit_rotations(angle=pi/2))\n",
    "u = tf.constant([0.        , np.pi/2, 0. ])       \n",
    "theta = tf.linalg.norm(u)\n",
    "u = u/theta\n",
    "mu = tf.cast(utils.axis_angle2quats(u, theta), tf.float32)[None]\n",
    "\n",
    "mu_  = Quaternion(tf.tile(mu, (3,1)))\n",
    "rot_mu =  mu_ * quats_xyz\n",
    "u = Quaternion(rot_mu) - mu_\n",
    "u = u/tf.linalg.norm(u, axis=-1)[:,None]\n",
    "norms = tf.constant([1, 1e-5, 1e-5])\n",
    "cov = tf.reduce_sum(tf.einsum('k,kij->kij', \n",
    "                                  norms,\n",
    "                                  tf.einsum('ki, kj->kij',u,u)), axis=0)\n",
    "cov += 1e-6 * tf.eye(4)\n",
    "\n",
    "prec = tf.linalg.inv(cov)\n",
    "mu_quat = mu[None]\n",
    "def normalS3_log_prob(x):\n",
    "    \"\"\"\n",
    "    x : [hole_nb, batch_nb, 4]\n",
    "    Quaternion lognormal distribution\n",
    "    \"\"\"\n",
    "    mu__ = Quaternion(tf.tile(mu_quat, (x.q.shape[0], x.q.shape[1], 1)))\n",
    "    diff = x - mu__\n",
    "    quad = -0.5*tf.linalg.einsum('hbi,hbi->hb',diff, tf.linalg.einsum('ij,hbj->hbi',prec,diff))\n",
    "    return quad\n",
    "\n",
    "\n",
    "# Position cost\n",
    "cov_x = tf.linalg.diag([1e-3, 1e-3, 1e-3])\n",
    "prec_x = tf.linalg.inv(cov_x)\n",
    "\n",
    "def normal_log_prob_(mu_x):\n",
    "    \"\"\"\n",
    "    mu_x : [hole_nb, 1, 3]\n",
    "    \"\"\"\n",
    "    def normal_log_prob(x):\n",
    "        \"\"\"\n",
    "        x: [hole_nb, batch_nb, 3]\n",
    "        Cartesian lognormal distribution\n",
    "        \"\"\"\n",
    "        diff = x - mu_x\n",
    "        quad = -0.5*tf.linalg.einsum('hbi,hbi->hb',diff, tf.linalg.einsum('ij,hbj->hbi',prec_x,diff))\n",
    "        return quad\n",
    "    return normal_log_prob\n",
    "\n",
    "def normal_log_prob__(mu_x):\n",
    "    \"\"\"\n",
    "    mu_x : [1, 3]\n",
    "    \"\"\"\n",
    "    def normal_log_prob(x):\n",
    "        \"\"\"\n",
    "        x: [batch_nb, 3]\n",
    "        Cartesian lognormal distribution\n",
    "        \"\"\"\n",
    "        diff = x - mu_x\n",
    "        quad = -0.5*tf.linalg.einsum('bi,bi->b',diff, tf.linalg.einsum('ij,bj->bi',prec_x,diff))\n",
    "        return quad\n",
    "    return normal_log_prob"
   ]
  },
  {
   "cell_type": "markdown",
   "metadata": {},
   "source": [
    "### Joint limit costs"
   ]
  },
  {
   "cell_type": "code",
   "execution_count": null,
   "metadata": {},
   "outputs": [],
   "source": [
    "joint_limits = tf.stack(chain.joint_limits)\n",
    "lower_limits = joint_limits[:,0][None, None]\n",
    "upper_limits = joint_limits[:,1][None, None]\n",
    "def plot_limits(q):\n",
    "    plt.plot(joint_limits, \"o\")\n",
    "    plt.plot(q, \"kx\")\n",
    "    \n",
    "mean_limits = tf.reduce_mean(joint_limits,-1)[None]\n",
    "@tf.function\n",
    "def cost_joint_limit(q):\n",
    "    rl = tf.math.minimum(q-lower_limits, 0)\n",
    "    ru = tf.math.maximum(q-upper_limits, 0)\n",
    "    return 0.5*(tf.linalg.einsum('hbi,hbi->hb',rl, rl) + tf.linalg.einsum('hbi,hbi->hb',ru, ru))\n"
   ]
  },
  {
   "cell_type": "markdown",
   "metadata": {},
   "source": [
    "### Optimization to find the joint configuration corresponding to rivet hole positions within joint limits"
   ]
  },
  {
   "cell_type": "code",
   "execution_count": null,
   "metadata": {},
   "outputs": [],
   "source": [
    "batch = 100\n",
    "mu_x = tf.cast(targets, tf.float32)[:, None]\n",
    "normal_log_prob = normal_log_prob_(mu_x)\n",
    "hole_nb = targets.shape[0]\n",
    "@tf.function\n",
    "def cost_ik(q):\n",
    "    \"\"\"\n",
    "    q: [hole_nb, batch_nb, nb_dof]\n",
    "    \"\"\"\n",
    "    batch = q.shape[1]\n",
    "    q_vec = tf.reshape(q, (hole_nb*batch, q.shape[2]))\n",
    "    xs_ = chain.xs(q_vec, layout=tk.FkLayout.xm)[:, -1]\n",
    "    \n",
    "    # if robot base frame is changed, uncomment this\n",
    "    # world_end_pos, world_end_quats = kdl2bullet_xq(xs_)\n",
    "    \n",
    "    world_end_pos = tf.reshape(xs_[..., :3], (hole_nb, batch, 3))\n",
    "    world_end_quats = rot2quat(tf.reshape(xs_[...,3:], (hole_nb*batch, 3, 3)))\n",
    "    world_end_quats = tf.reshape(world_end_quats, (hole_nb, batch, 4))\n",
    "        \n",
    "    ee_pos_cost = -normal_log_prob(world_end_pos)\n",
    "    ee_quat_cost = -normalS3_log_prob(Quaternion(world_end_quats))\n",
    "    return ee_pos_cost +  ee_quat_cost*0.1 + cost_joint_limit(q)*1e3\n"
   ]
  },
  {
   "cell_type": "code",
   "execution_count": null,
   "metadata": {},
   "outputs": [],
   "source": [
    "# Start is the initial guess on the joint configurations within the joint limits\n",
    "start  = tf.Variable(\n",
    "    tf.random.uniform(shape=(hole_nb, batch, 7),\n",
    "                      minval=tf.stack(chain.joint_limits)[:,0],\n",
    "                      maxval=tf.stack(chain.joint_limits)[:,1]))"
   ]
  },
  {
   "cell_type": "code",
   "execution_count": null,
   "metadata": {},
   "outputs": [],
   "source": [
    "@tf.function\n",
    "def cost():\n",
    "    return cost_ik(start)\n",
    "optimizer = tf.keras.optimizers.Adam(0.5)"
   ]
  },
  {
   "cell_type": "code",
   "execution_count": null,
   "metadata": {},
   "outputs": [],
   "source": [
    "# Stochastic Gradient Descent\n",
    "for i in range(1000000):\n",
    "    try :\n",
    "        optimizer.minimize(cost,[start] )\n",
    "        display.clear_output(wait=True)\n",
    "        tf.print(cost())\n",
    "    except KeyboardInterrupt:\n",
    "        break"
   ]
  },
  {
   "cell_type": "markdown",
   "metadata": {},
   "source": [
    "### Filtering to get converging solutions"
   ]
  },
  {
   "cell_type": "code",
   "execution_count": null,
   "metadata": {},
   "outputs": [],
   "source": [
    "# first version of the found joint configurations,\n",
    "# some may not be within the joint limits nor correspond to rivet positions since the SGD did not converge\n",
    "good_q__ = start\n",
    "good_q__.shape"
   ]
  },
  {
   "cell_type": "code",
   "execution_count": null,
   "metadata": {},
   "outputs": [],
   "source": [
    "# Second version containing all the solutions in the joint configuraitons\n",
    "good_q_ = [None for i in range(hole_nb)]\n",
    "max_nb = 1e5\n",
    "for i in range(hole_nb):\n",
    "    good_q_[i] = good_q__[i][cost_joint_limit(good_q__)[i] < 1e-2]\n",
    "    max_nb = min(max_nb,good_q_[i].shape[0])\n",
    "    \n",
    "for i in range(hole_nb):\n",
    "    good_q_[i] = good_q_[i][:max_nb]\n",
    "    \n",
    "good_q_ = tf.stack(good_q_)\n",
    "good_q_.shape"
   ]
  },
  {
   "cell_type": "code",
   "execution_count": null,
   "metadata": {},
   "outputs": [],
   "source": [
    "# This cell and the next cell can be used to see if the chosen configuration is within the joint limits-\n",
    "i = 0 # rivet hole\n",
    "j = 0 # configuration nb"
   ]
  },
  {
   "cell_type": "code",
   "execution_count": null,
   "metadata": {},
   "outputs": [],
   "source": [
    "plot_limits(good_q_[i][j])\n",
    "tf.print(cost_joint_limit(good_q_[i][j][None]))\n",
    "j+=1\n",
    "# i+=1"
   ]
  },
  {
   "cell_type": "code",
   "execution_count": null,
   "metadata": {},
   "outputs": [],
   "source": [
    "# A function to check if the configurations correspond to rivet positions within the tolerance\n",
    "def check_q(q):\n",
    "    batch = q.shape[1]\n",
    "    q_vec = tf.reshape(q, (hole_nb*batch, q.shape[2]))\n",
    "    xs_ = chain.xs(q_vec, layout=tk.FkLayout.xm)[:, -1]\n",
    "    \n",
    "    world_end_pos = tf.reshape(xs_[..., :3], (hole_nb, batch , 3))\n",
    "    world_end_quats = rot2quat(tf.reshape(xs_[...,3:], (hole_nb*batch, 3, 3)))\n",
    "    world_end_quats = tf.reshape(world_end_quats, (hole_nb, batch, 4))\n",
    "    \n",
    "    good_xs = [None for i in range(hole_nb)]\n",
    "    good_xs_ind = [None for i in range(hole_nb)]\n",
    "    max_nb = 1e5\n",
    "    for i in range(hole_nb):\n",
    "#         print(world_end_pos[i][normal_log_prob(world_end_pos)[i] > -1e-2].shape)\n",
    "        good_xs[i] = world_end_pos[i][normal_log_prob(world_end_pos)[i] > -1e-1]\n",
    "        good_xs_ind[i] = np.where(normal_log_prob(world_end_pos)[i] > -1e-1)\n",
    "        max_nb = min(max_nb,good_xs[i].shape[0])\n",
    "\n",
    "    for i in range(hole_nb):\n",
    "        good_xs[i] = good_xs[i][:max_nb]\n",
    "\n",
    "    good_xs = tf.stack(good_xs)\n",
    "    return world_end_pos, good_xs, good_xs_ind\n",
    "    "
   ]
  },
  {
   "cell_type": "code",
   "execution_count": null,
   "metadata": {},
   "outputs": [],
   "source": [
    "xs, good_xs, good_xs_ind = check_q(good_q_)\n",
    "# xs : all the end positions corresponding to good_q_\n",
    "# good_xs : all the end positions within the good tolerance corresponding to good_q_\n",
    "good_xs.shape"
   ]
  },
  {
   "cell_type": "code",
   "execution_count": null,
   "metadata": {},
   "outputs": [],
   "source": [
    "# Plotting good_xs\n",
    "fig,ax = plt.subplots(ncols=3, figsize=(15,5))\n",
    "N = xs.shape[1]\n",
    "j = 0 # choose a rivet hole\n",
    "for i in range(3):\n",
    "    ax[i].plot(range(N), xs[j, :,i], \"r.\", label=\"before filtering\")\n",
    "    ax[i].plot(good_xs_ind[j][0][:good_xs.shape[1]], good_xs[j,:,i], \"gx\", ms=10, label=\"after filtering\")\n",
    "    ax[i].plot(range(N), [mu_x[j,:,i]]*N, \"k\")\n",
    "    ax[i].legend()\n",
    "# plt.legend()"
   ]
  },
  {
   "cell_type": "code",
   "execution_count": null,
   "metadata": {
    "scrolled": true
   },
   "outputs": [],
   "source": [
    "# third version of the joint configurations, within joint limits and within the tolerance of corresponding rivet position\n",
    "good_q = [None for i in range(hole_nb)]\n",
    "max_nb = 1e5\n",
    "for i in range(hole_nb):\n",
    "    good_q[i] = good_q_[i][-normal_log_prob(xs)[i] < 1e-1]\n",
    "    max_nb = min(max_nb,good_q[i].shape[0])\n",
    "    \n",
    "for i in range(hole_nb):\n",
    "    good_q[i] = good_q[i][:max_nb]\n",
    "    \n",
    "good_q = tf.stack(good_q)\n",
    "good_q.shape"
   ]
  },
  {
   "cell_type": "code",
   "execution_count": null,
   "metadata": {},
   "outputs": [],
   "source": [
    "i = 0\n",
    "j = 1"
   ]
  },
  {
   "cell_type": "code",
   "execution_count": null,
   "metadata": {},
   "outputs": [],
   "source": [
    "plot_limits(good_q[j,i])\n",
    "tf.print(cost_joint_limit(good_q[j,i][None]))\n",
    "i+=1"
   ]
  },
  {
   "cell_type": "code",
   "execution_count": null,
   "metadata": {},
   "outputs": [],
   "source": [
    "# check if there is any nan\n",
    "if tf.where(tf.math.is_nan(good_q) == True).shape[0] == 0:\n",
    "    print(\"no nan\")\n",
    "else:\n",
    "    print(\"check nans\")"
   ]
  },
  {
   "cell_type": "markdown",
   "metadata": {},
   "source": [
    "### Displacement cost"
   ]
  },
  {
   "cell_type": "code",
   "execution_count": null,
   "metadata": {},
   "outputs": [],
   "source": [
    "# Force: \n",
    "F = 150 # in Newton\n",
    "nF = tf.constant([-1, 0., 0]) #direction of force in world frame coordinates"
   ]
  },
  {
   "cell_type": "code",
   "execution_count": null,
   "metadata": {},
   "outputs": [],
   "source": [
    "# For 7dof robot\n",
    "K = tf.eye(chain.nb_joint)*1e5\n",
    "C = tf.linalg.diag(tf.ones(7)*0.06)\n",
    "\n",
    "# chosen frequency in rad/s\n",
    "w = tf.constant(150.)\n",
    "\n",
    "def compute_H(w, M, J, C, K):\n",
    "    \"\"\"\n",
    "    Finds the displacement force frequency response function H(w)\n",
    "    \"\"\"\n",
    "    real = -(w**2)*M+K\n",
    "    imag = w*C\n",
    "    comp = tf.complex(real, imag)\n",
    "    try:\n",
    "        inv = tf.linalg.inv(comp, adjoint=True)\n",
    "    except:\n",
    "        r0  = tf.linalg.pinv(real) @ imag\n",
    "        y11 = tf.linalg.pinv(imag @ r0 + real)\n",
    "        y10 = -r0 @ y11\n",
    "\n",
    "        inv = tf.cast(tf.complex(y11,y10), dtype =comp.dtype)\n",
    "    return J@inv@tf.transpose(J, (0,2,1))\n",
    "\n",
    "def displacement(q):\n",
    "        q_vec = tf.reshape(q, (q.shape[0]*q.shape[1], q.shape[2]))\n",
    "        M = dyn.inertia_matrix(q_vec) \n",
    "        J = chain.jacobian(q_vec, layout=tk.FkLayout.x)\n",
    "        J = tf.complex(J, tf.zeros_like(J))\n",
    "        H = compute_H(w, M, J, C, K)\n",
    "        \n",
    "        A = tf.transpose(H, perm=(0,2,1),conjugate=True)@H\n",
    "        evals, evecs = tf.linalg.eigh(A)\n",
    "\n",
    "        evals = tf.reshape(evals, (q.shape[0], q.shape[1], 3))\n",
    "        return tf.math.sqrt(tf.math.abs(tf.math.real(evals)))\n",
    "\n",
    "@tf.function\n",
    "def displacement_(w, q):\n",
    "        q_vec = tf.reshape(q, (q.shape[0]*q.shape[1], q.shape[2]))\n",
    "        M = dyn.inertia_matrix(q_vec)\n",
    "        J = chain.jacobian(q_vec, layout=tk.FkLayout.x)\n",
    "        J = tf.complex(J, tf.zeros_like(J))\n",
    "        H = compute_H(w, M, J, C, K)\n",
    "        A = tf.transpose(H, (0,2,1),conjugate=True)@H\n",
    "        evals, evecs = tf.linalg.eigh(A)\n",
    "        evals = tf.reshape(evals, (q.shape[0], q.shape[1], 3))\n",
    "        return  tf.math.sqrt(tf.math.abs(tf.math.real(evals)))"
   ]
  },
  {
   "cell_type": "code",
   "execution_count": null,
   "metadata": {},
   "outputs": [],
   "source": [
    "data_nb = 50\n",
    "config_nb = 50\n",
    "w__ = 450 # last frequency for the plotting\n",
    "w_ = tf.cast(np.linspace(0, w__, data_nb), tf.float32)\n",
    "disp = np.zeros((hole_nb, config_nb, data_nb))\n",
    "disp_x = np.zeros((hole_nb, config_nb, data_nb, 3))\n",
    "disp_x\n",
    "q_random = tf.random.uniform(shape=(hole_nb, config_nb,7), minval=tf.stack(chain.joint_limits)[:,0],maxval=tf.stack(chain.joint_limits)[:,1])\n",
    "for i in range(data_nb):\n",
    "#     d_ = displacement_(w_[i], good_q[:,:config_nb])\n",
    "    d_ = displacement_(w_[i], q_random[:,:config_nb])\n",
    "#     disp[:,:, i] = tf.reduce_max(displacement_(w_[i], q_random), -1)\n",
    "#     disp[:,:, i] = tf.reduce_max(d_, -1)\n",
    "    disp_x[:,:,i] = d_\n"
   ]
  },
  {
   "cell_type": "code",
   "execution_count": null,
   "metadata": {},
   "outputs": [],
   "source": [
    "def forward(x):\n",
    "    return x * 130.\n",
    "def inverse(x):\n",
    "    return x/130.\n",
    "titles = [\"In riveting direction\", \"Worst-case scenario(max)\"]\n"
   ]
  },
  {
   "cell_type": "code",
   "execution_count": null,
   "metadata": {
    "scrolled": true
   },
   "outputs": [],
   "source": [
    "fig,axes = plt.subplots(ncols=2, figsize=(10,5))\n",
    "k = 0\n",
    "for disp,ax in zip([tf.einsum('abci,i->abc',disp_x, tf.constant([1., 0., 0.])), tf.reduce_max(disp_x, -1)], axes):\n",
    "    \n",
    "    for j in range(1):\n",
    "        for i in range(config_nb):\n",
    "            ax.plot(w_,disp[j,i]*1e3, \"-\", label=\"Point A\")\n",
    "    ax.ticklabel_format(style='sci', axis='y', scilimits=(0,0))\n",
    "    ax.set_xlabel('$\\omega$'+' (rad/s)')\n",
    "    ax.set_ylabel('$\\eta$'+' (mm/N)')\n",
    "    ax.grid(\"on\")\n",
    "    # Major ticks every 20, minor ticks every 5\n",
    "    major_ticks = np.arange(0, w_[-1], 50)\n",
    "    minor_ticks = np.arange(0, w_[-1], 10)\n",
    "\n",
    "    ax.set_xticks(major_ticks)\n",
    "    ax.set_xticks(minor_ticks, minor=True)\n",
    "\n",
    "\n",
    "    secax = ax.secondary_yaxis('right', functions=(forward, inverse))\n",
    "    secax.set_ylabel('$\\Delta x$'+' (mm)')\n",
    "    secax.ticklabel_format(style='sci', axis='y', scilimits=(0,0))\n",
    "\n",
    "\n",
    "    # And a corresponding grid\n",
    "    ax.grid(which='both')\n",
    "\n",
    "    # Or if you want different settings for the grids:\n",
    "    ax.grid(which='minor', alpha=0.2)\n",
    "    ax.grid(which='major', alpha=0.5)\n",
    "    ax.set_title(titles[k])\n",
    "    k += 1\n",
    "    # ax.set_facecolor(\"w\")\n",
    "    # plt.legend()"
   ]
  },
  {
   "cell_type": "markdown",
   "metadata": {},
   "source": [
    "### Optimization for displacement"
   ]
  },
  {
   "cell_type": "code",
   "execution_count": null,
   "metadata": {},
   "outputs": [],
   "source": [
    "# select batch to be equal or smaller to good_q.shape[1]\n",
    "good_q.shape[1]"
   ]
  },
  {
   "cell_type": "code",
   "execution_count": null,
   "metadata": {},
   "outputs": [],
   "source": [
    "batch = 30\n",
    "q_test = tf.Variable(good_q[:, :batch], trainable=True)\n",
    "@tf.function\n",
    "def cost_(): \n",
    "    return cost_ik(q_test)"
   ]
  },
  {
   "cell_type": "code",
   "execution_count": null,
   "metadata": {},
   "outputs": [],
   "source": [
    "@tf.function\n",
    "def train_step():\n",
    "    with tf.GradientTape(watch_accessed_variables=False) as tape:\n",
    "        tape.watch(q_test)\n",
    "        disp_cost = tf.norm(displacement(q_test),ord=2,axis=-1 )\n",
    "        loss = cost_ik(q_test) + 1e1*disp_cost\n",
    "        \n",
    "    grads = tape.gradient(loss, [q_test])\n",
    "    grads_ = grads[0]\n",
    "    # removing nans\n",
    "    grads_ = tf.where(tf.math.is_nan(grads_), tf.zeros_like(grads_), grads_)\n",
    "    optimizer.apply_gradients(zip([grads_], [q_test]))\n",
    "    return loss, grads"
   ]
  },
  {
   "cell_type": "code",
   "execution_count": null,
   "metadata": {},
   "outputs": [],
   "source": [
    "optimizer = tf.keras.optimizers.Adam(0.05)"
   ]
  },
  {
   "cell_type": "code",
   "execution_count": null,
   "metadata": {},
   "outputs": [],
   "source": [
    "for i in range(1000000):\n",
    "    try :\n",
    "        loss, grads = train_step()\n",
    "        display.clear_output(wait=True)\n",
    "        tf.print(loss)\n",
    "    except KeyboardInterrupt:\n",
    "        break"
   ]
  },
  {
   "cell_type": "code",
   "execution_count": null,
   "metadata": {},
   "outputs": [],
   "source": [
    "# check if there is any nan\n",
    "if tf.where(tf.math.is_nan(loss) == True).shape[0] == 0:\n",
    "    print(\"no nan\")\n",
    "else:\n",
    "    print(\"check nans\")"
   ]
  },
  {
   "cell_type": "code",
   "execution_count": null,
   "metadata": {
    "scrolled": true
   },
   "outputs": [],
   "source": [
    "# filter again for good riveting positions\n",
    "xs_,_,_ = check_q(q_test)\n",
    "print(xs_.shape)\n",
    "i=0"
   ]
  },
  {
   "cell_type": "code",
   "execution_count": null,
   "metadata": {},
   "outputs": [],
   "source": [
    "j = 0"
   ]
  },
  {
   "cell_type": "code",
   "execution_count": null,
   "metadata": {
    "scrolled": true
   },
   "outputs": [],
   "source": [
    "# run this cell many times to visualize the results for different rivet holes\n",
    "plt.plot(tf.linalg.norm(displacement(good_q[j,:batch][None])[0],axis=-1), \"bx\", label=\"Before optimization\")\n",
    "plt.plot(tf.linalg.norm(displacement(q_test[j][None])[0],axis=-1), \"rx\", label=\"After optimization\")\n",
    "plt.legend()\n",
    "plt.ticklabel_format(style='sci', axis='y', scilimits=(0,0))\n",
    "j+=1"
   ]
  },
  {
   "cell_type": "code",
   "execution_count": null,
   "metadata": {
    "scrolled": false
   },
   "outputs": [],
   "source": [
    "fig,axes=plt.subplots(ncols=2,figsize=(10,5))\n",
    "density = 1\n",
    "after_opt_data = displacement(q_test)*1e3\n",
    "before_opt_data = displacement(good_q[:,:batch])*1e3\n",
    "k = 0\n",
    "for ax in axes:\n",
    "    if k == 0:\n",
    "        \n",
    "        \n",
    "        ax.hist(after_opt_data.numpy()[...,0].flatten(),density=density,color=\"b\", label=\"After optimization\")\n",
    "        ax.hist(before_opt_data.numpy()[...,0].flatten(), color=\"r\",density=density, alpha=0.3, label=\"Before optimization\")\n",
    "        ax.plot(after_opt_data.numpy()[...,0].flatten(), np.ones_like(after_opt_data.numpy()[...,0].flatten())*(-100), \"bx\", alpha=0.1)\n",
    "        ax.plot(before_opt_data.numpy()[...,0].flatten(), np.ones_like(after_opt_data.numpy()[...,0].flatten())*(-300), \"rx\", alpha=0.1)\n",
    "      \n",
    "    else:\n",
    "        ax.hist(tf.linalg.norm(after_opt_data,axis=-1).numpy().flatten(), density=density, color=\"b\", label=\"After optimization\")\n",
    "        ax.hist(tf.linalg.norm(before_opt_data,axis=-1).numpy().flatten(), density=density, alpha=0.3, color=\"r\", label=\"Before optimization\")\n",
    "        ax.plot(after_opt_data.numpy().flatten(), np.ones_like(after_opt_data.numpy().flatten())*(-0.1), \"bx\", alpha=0.1)\n",
    "        ax.plot(before_opt_data.numpy().flatten(), np.ones_like(after_opt_data.numpy().flatten())*(-0.2), \"rx\", alpha=0.1)\n",
    "    ax.ticklabel_format(style='sci', axis='x', scilimits=(0,0))\n",
    "    ax.set_xlabel('$\\eta$'+' (mm/N)')\n",
    "    ax.set_ylabel(\"density\")\n",
    "    secax = ax.secondary_xaxis('top', functions=(forward, inverse))\n",
    "    secax.set_xlabel('$\\Delta x$'+' (mm)')\n",
    "    secax.ticklabel_format(style='sci', axis='x', scilimits=(0,0))\n",
    "    ax.legend(loc=7)\n",
    "\n",
    "    ax.set_yticks([])\n",
    "    ax.set_title(titles[k])\n",
    "    k += 1"
   ]
  },
  {
   "cell_type": "code",
   "execution_count": null,
   "metadata": {},
   "outputs": [],
   "source": [
    "fig,axes = plt.subplots(ncols=2 , figsize=(10,5))\n",
    "density = 1\n",
    "k = 0\n",
    "for ax in axes:\n",
    "    \n",
    "    after_opt_data = displacement(q_test)*1e3\n",
    "    before_opt_data = displacement(good_q[:,:batch])*1e3\n",
    "    if k == 0:\n",
    "        ax.boxplot([ before_opt_data.numpy()[...,0].flatten(), after_opt_data.numpy()[...,0].flatten()])\n",
    "    else:\n",
    "        ax.boxplot([tf.linalg.norm(before_opt_data,axis=-1).numpy().flatten(), \n",
    "                    tf.linalg.norm(after_opt_data,axis=-1).numpy().flatten()])\n",
    "\n",
    "    ticks = [\"Before\", \"After\"]\n",
    "    ax.set_xticks([1,2])\n",
    "    ax.set_xticklabels( ticks, rotation=0 )\n",
    "    ax.ticklabel_format(style='sci', axis='y', scilimits=(0,0))\n",
    "    ax.set_ylabel('$\\eta$'+' (mm/N)')\n",
    "\n",
    "    secax = ax.secondary_yaxis('right', functions=(forward, inverse))\n",
    "    secax.set_ylabel('$\\Delta x$'+' (mm)')\n",
    "    secax.ticklabel_format(style='sci', axis='y', scilimits=(0,0))\n",
    "    ax.set_title(titles[k])\n",
    "    k +=1"
   ]
  }
 ],
 "metadata": {
  "kernelspec": {
   "display_name": "Python 3",
   "language": "python",
   "name": "python3"
  },
  "language_info": {
   "codemirror_mode": {
    "name": "ipython",
    "version": 3
   },
   "file_extension": ".py",
   "mimetype": "text/x-python",
   "name": "python",
   "nbconvert_exporter": "python",
   "pygments_lexer": "ipython3",
   "version": "3.7.6"
  }
 },
 "nbformat": 4,
 "nbformat_minor": 4
}

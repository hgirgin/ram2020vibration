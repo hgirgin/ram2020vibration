{
 "cells": [
  {
   "cell_type": "code",
   "execution_count": 1,
   "metadata": {
    "ExecuteTime": {
     "end_time": "2020-12-15T16:22:29.661949Z",
     "start_time": "2020-12-15T16:22:29.275165Z"
    }
   },
   "outputs": [],
   "source": [
    "import numpy as np\n",
    "import matplotlib.pyplot as plt\n",
    "%matplotlib inline"
   ]
  },
  {
   "cell_type": "code",
   "execution_count": 2,
   "metadata": {
    "ExecuteTime": {
     "end_time": "2020-12-15T16:22:29.676908Z",
     "start_time": "2020-12-15T16:22:29.662946Z"
    }
   },
   "outputs": [],
   "source": [
    "T = 100\n",
    "t = np.arange(T)"
   ]
  },
  {
   "cell_type": "code",
   "execution_count": 3,
   "metadata": {
    "ExecuteTime": {
     "end_time": "2020-12-15T16:22:29.691935Z",
     "start_time": "2020-12-15T16:22:29.678905Z"
    }
   },
   "outputs": [],
   "source": [
    "x = np.cos(2*t*np.pi/T) + 2*np.cos(4*t*np.pi/T)"
   ]
  },
  {
   "cell_type": "code",
   "execution_count": 4,
   "metadata": {
    "ExecuteTime": {
     "end_time": "2020-12-15T16:22:29.922270Z",
     "start_time": "2020-12-15T16:22:29.769209Z"
    }
   },
   "outputs": [
    {
     "data": {
      "text/plain": [
       "[<matplotlib.lines.Line2D at 0x2501dd09e08>]"
      ]
     },
     "execution_count": 4,
     "metadata": {},
     "output_type": "execute_result"
    },
    {
     "data": {
      "image/png": "[encoded data removed]",
      "text/plain": [
       "<Figure size 432x288 with 1 Axes>"
      ]
     },
     "metadata": {
      "needs_background": "light"
     },
     "output_type": "display_data"
    }
   ],
   "source": [
    "plt.plot(t, x)"
   ]
  },
  {
   "cell_type": "markdown",
   "metadata": {},
   "source": [
    "### Calculating kth Fourier coefficient"
   ]
  },
  {
   "cell_type": "markdown",
   "metadata": {},
   "source": [
    "We have:\n",
    "\n",
    "$$\n",
    "x[t] = \\sum_{k=-(T-1)}^{T-1} F_{k} \\exp(2𝑖𝜋𝑘t/𝑇)\n",
    "$$"
   ]
  },
  {
   "cell_type": "markdown",
   "metadata": {},
   "source": [
    "The idea behind calculating Fourier coefficients is to use the fact that:\n",
    "\n",
    "$$\n",
    "\\forall k \\neq 0, \\sum_{t=0}^{T-1} \\exp(2𝑖𝜋𝑘t/𝑇) = 0\n",
    "$$"
   ]
  },
  {
   "cell_type": "markdown",
   "metadata": {},
   "source": [
    "Therefore:\n",
    "\n",
    "\\begin{align}\n",
    "\\sum_{t=0}^{T-1} x[t] \\exp(-2𝑖𝜋𝑘t/𝑇) &= \\sum_{t=0}^{T-1} \\sum_{k'=-(T-1)}^{T-1} F_{k'} \\exp(2𝑖𝜋𝑘't/𝑇) \\exp(-2𝑖𝜋𝑘t/𝑇) \\\\\n",
    "&= \\sum_{k'=-(T-1)}^{T-1} \\sum_{t=0}^{T-1} F_{k'} \\exp(2𝑖𝜋𝑘't/𝑇) \\exp(-2𝑖𝜋𝑘t/𝑇) \\\\\n",
    "&= \\sum_{k'=-(T-1)}^{T-1} F_{k'} \\Big( \\sum_{t=0}^{T-1}  \\exp(2𝑖𝜋(𝑘'-k)t/𝑇) \\Big) \\\\\n",
    "&= TF_{k}\n",
    "\\end{align}"
   ]
  },
  {
   "cell_type": "markdown",
   "metadata": {},
   "source": [
    "It is easy to show that $\\text{Re}[F_{k}] = \\text{Re}[F_{-k}]$, because $\\text{Re}[\\exp{(2i \\pi kt/T)}]=\\text{Re}[\\exp{(-2i \\pi kt/T)}]$"
   ]
  },
  {
   "cell_type": "markdown",
   "metadata": {},
   "source": [
    "Similarly, $\\text{Im}[F_{k}] = -\\text{Im}[F_{-k}]$, because $\\text{Im}[\\exp{(2i \\pi kt/T)}]=-\\text{Im}[\\exp{(-2i \\pi kt/T)}]$"
   ]
  },
  {
   "cell_type": "markdown",
   "metadata": {},
   "source": [
    "Using this, we can rewrite the signal by using only the positive Fourier coefficients:\n",
    "\n",
    "\\begin{align}\n",
    "x[t] &= F_{0} + \\sum_{k=1}^{T-1} 2F_{k} \\text{Re}[\\exp(2𝑖𝜋𝑘t/𝑇)] \\\\\n",
    "&= F_{0} + \\sum_{k=1}^{T-1} 2\\text{Re}[F_{k}] \\cos{(2𝜋𝑘t/𝑇)}]\n",
    "\\end{align}"
   ]
  },
  {
   "cell_type": "code",
   "execution_count": 5,
   "metadata": {
    "ExecuteTime": {
     "end_time": "2020-12-15T16:22:31.455593Z",
     "start_time": "2020-12-15T16:22:31.445619Z"
    }
   },
   "outputs": [
    {
     "name": "stdout",
     "output_type": "stream",
     "text": [
      "[-2.708944180085382e-16, 0.4999999999999999, 1.0, 3.9968028886505634e-17, -1.3988810110276973e-16]\n"
     ]
    }
   ],
   "source": [
    "Fks = []\n",
    "for k in range(5):\n",
    "    Fk = np.real(np.mean(x * np.exp(-2*1j*np.pi*t*k/T)))\n",
    "    Fks.append(Fk)\n",
    "print(Fks)"
   ]
  },
  {
   "cell_type": "markdown",
   "metadata": {},
   "source": [
    "Reconstructing the signal"
   ]
  },
  {
   "cell_type": "code",
   "execution_count": 8,
   "metadata": {
    "ExecuteTime": {
     "end_time": "2020-12-15T16:23:34.007705Z",
     "start_time": "2020-12-15T16:23:33.887210Z"
    }
   },
   "outputs": [
    {
     "data": {
      "text/plain": [
       "[<matplotlib.lines.Line2D at 0x250211c9188>]"
      ]
     },
     "execution_count": 8,
     "metadata": {},
     "output_type": "execute_result"
    },
    {
     "data": {
      "image/png": "[encoded data removed]",
      "text/plain": [
       "<Figure size 432x288 with 1 Axes>"
      ]
     },
     "metadata": {
      "needs_background": "light"
     },
     "output_type": "display_data"
    }
   ],
   "source": [
    "plt.plot(x)\n",
    "x_hat = 0\n",
    "for k in np.arange(0,5):\n",
    "    x_hat += 2 * Fks[k] * np.cos(2*np.pi*t*k/T)\n",
    "    \n",
    "plt.plot(x_hat, alpha=0.7, c='orange')"
   ]
  },
  {
   "cell_type": "code",
   "execution_count": null,
   "metadata": {},
   "outputs": [],
   "source": []
  }
 ],
 "metadata": {
  "kernelspec": {
   "display_name": "Python 3",
   "language": "python",
   "name": "python3"
  },
  "language_info": {
   "codemirror_mode": {
    "name": "ipython",
    "version": 3
   },
   "file_extension": ".py",
   "mimetype": "text/x-python",
   "name": "python",
   "nbconvert_exporter": "python",
   "pygments_lexer": "ipython3",
   "version": "3.7.6"
  },
  "latex_envs": {
   "LaTeX_envs_menu_present": true,
   "autoclose": false,
   "autocomplete": true,
   "bibliofile": "biblio.bib",
   "cite_by": "apalike",
   "current_citInitial": 1,
   "eqLabelWithNumbers": true,
   "eqNumInitial": 1,
   "hotkeys": {
    "equation": "Ctrl-E",
    "itemize": "Ctrl-I"
   },
   "labels_anchors": false,
   "latex_user_defs": false,
   "report_style_numbering": false,
   "user_envs_cfg": false
  },
  "toc": {
   "base_numbering": 1,
   "nav_menu": {},
   "number_sections": true,
   "sideBar": true,
   "skip_h1_title": false,
   "title_cell": "Table of Contents",
   "title_sidebar": "Contents",
   "toc_cell": false,
   "toc_position": {},
   "toc_section_display": true,
   "toc_window_display": false
  }
 },
 "nbformat": 4,
 "nbformat_minor": 2
}

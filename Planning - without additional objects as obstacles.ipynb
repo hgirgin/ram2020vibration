{
 "cells": [
  {
   "cell_type": "code",
   "execution_count": 1,
   "metadata": {
    "ExecuteTime": {
     "end_time": "2020-12-17T12:32:48.807323Z",
     "start_time": "2020-12-17T12:32:44.535039Z"
    },
    "scrolled": true
   },
   "outputs": [],
   "source": [
    "import matplotlib.pyplot as plt\n",
    "import numpy as np\n",
    "import time\n",
    "from IPython.display import clear_output\n",
    "import os\n",
    "\n",
    "import scipy\n",
    "import matplotlib\n",
    "\n",
    "from robot import *\n",
    "from utils import *\n",
    "import pybullet as p\n",
    "import pybullet_data\n",
    "import networkx as nx\n",
    "from functools import partial\n",
    "\n",
    "%load_ext autoreload\n",
    "%autoreload 2"
   ]
  },
  {
   "cell_type": "markdown",
   "metadata": {},
   "source": [
    "## Setup Pybullet"
   ]
  },
  {
   "cell_type": "code",
   "execution_count": 2,
   "metadata": {
    "ExecuteTime": {
     "end_time": "2020-12-17T12:34:55.549372Z",
     "start_time": "2020-12-17T12:32:48.808340Z"
    }
   },
   "outputs": [],
   "source": [
    "# name_in =  'urdf/support.obj'\n",
    "# name_out = 'urdf/support_concave.obj'\n",
    "# name_in =  'urdf/support_cylindrical_col.obj'\n",
    "# name_out = 'urdf/support_cylindrical_colconc.obj'\n",
    "# name_log = \"log.txt\"\n",
    "# p.vhacd(name_in, name_out, name_log, alpha=0.04,resolution=1000000 )"
   ]
  },
  {
   "cell_type": "markdown",
   "metadata": {},
   "source": [
    "Now 'urdf/support_cylindrical.urdf' shows the structure real visualization but with the collision shape constructed from the command p.vhacd(.)"
   ]
  },
  {
   "cell_type": "code",
   "execution_count": 3,
   "metadata": {
    "ExecuteTime": {
     "end_time": "2020-12-17T12:34:56.511370Z",
     "start_time": "2020-12-17T12:34:55.553360Z"
    }
   },
   "outputs": [],
   "source": [
    "physics_client_id = p.connect(p.GUI)\n",
    "p.setPhysicsEngineParameter(enableFileCaching=0)\n",
    "p.setAdditionalSearchPath(pybullet_data.getDataPath())\n",
    "p.configureDebugVisualizer(p.COV_ENABLE_GUI,0)\n"
   ]
  },
  {
   "cell_type": "code",
   "execution_count": 4,
   "metadata": {
    "ExecuteTime": {
     "end_time": "2020-12-17T12:34:56.663962Z",
     "start_time": "2020-12-17T12:34:56.513365Z"
    }
   },
   "outputs": [],
   "source": [
    "p.resetSimulation()"
   ]
  },
  {
   "cell_type": "markdown",
   "metadata": {},
   "source": [
    "### Setup Robot"
   ]
  },
  {
   "cell_type": "code",
   "execution_count": 5,
   "metadata": {
    "ExecuteTime": {
     "end_time": "2020-12-17T12:34:58.532808Z",
     "start_time": "2020-12-17T12:34:56.667952Z"
    }
   },
   "outputs": [],
   "source": [
    "robot_urdf = 'urdf/panda/panda_arm_rivet.urdf';\n",
    "robot_id = p.loadURDF(fileName=robot_urdf)\n",
    "dof = p.getNumJoints(robot_id)\n",
    "\n",
    "plane_id = p.loadURDF('plane.urdf')\n",
    "pb_joint_indices = np.arange(7)\n",
    "joint_limits = get_joint_limits(robot_id, pb_joint_indices)\n",
    "\n",
    "\n",
    "set_q_std = partial(set_q,robot_id, pb_joint_indices)\n",
    "\n",
    "vis_traj_std = partial(vis_traj, vis_func= set_q_std)"
   ]
  },
  {
   "cell_type": "markdown",
   "metadata": {},
   "source": [
    "### Visualize the big frame"
   ]
  },
  {
   "cell_type": "code",
   "execution_count": 6,
   "metadata": {
    "ExecuteTime": {
     "end_time": "2020-12-17T12:35:01.410114Z",
     "start_time": "2020-12-17T12:35:00.421757Z"
    }
   },
   "outputs": [],
   "source": [
    "is_simple = False\n",
    "obs_ids = []\n",
    "rgbacolor = (0,0,1,0)\n",
    "\n",
    "board_id = p.loadURDF('urdf/support_cylindrical.urdf', globalScaling=0.0008, useFixedBase=1)\n",
    "quat = w2quat(np.array([0,0,-np.pi/2]))\n",
    "p.resetBasePositionAndOrientation(board_id, (0.6,-2.2,-.3), quat)\n",
    "\n",
    "offset = 0."
   ]
  },
  {
   "cell_type": "code",
   "execution_count": 7,
   "metadata": {
    "ExecuteTime": {
     "end_time": "2020-12-17T12:35:01.532786Z",
     "start_time": "2020-12-17T12:35:01.412109Z"
    }
   },
   "outputs": [],
   "source": [
    "x_board = 0.37\n",
    "p.resetBasePositionAndOrientation(board_id, (x_board,-1.7,-.41), quat)"
   ]
  },
  {
   "cell_type": "markdown",
   "metadata": {},
   "source": [
    "### Setup targets in the middle"
   ]
  },
  {
   "cell_type": "code",
   "execution_count": 8,
   "metadata": {
    "ExecuteTime": {
     "end_time": "2020-12-17T12:35:03.159307Z",
     "start_time": "2020-12-17T12:35:01.534781Z"
    }
   },
   "outputs": [],
   "source": [
    "ys = np.concatenate([np.arange(-0.34, -0.15, 0.05), np.arange(0.2, 0.36, 0.05)],-1)\n",
    "zs = np.arange(0.35, 0.54, 0.05) + 0.2\n",
    "x = x_board + 0.3\n",
    "targets_mid = []\n",
    "target_ids = []\n",
    "offset = -0.05\n",
    "for y in ys:\n",
    "    for z in zs:\n",
    "        target = np.array([x, y,z])\n",
    "        targets_mid += [target]\n",
    "        _,_,target_id = create_primitives(p.GEOM_BOX, halfExtents=(0.03, 0.01, 0.01), rgbaColor=(1,0,0,1), baseMass=0)\n",
    "        target_ids += [target_id]\n",
    "        p.resetBasePositionAndOrientation(target_id, targets_mid[-1], (0,0,0,1))\n",
    "        targets_mid[-1][0] -= 0.03\n",
    "\n",
    "targets_mid = np.array(targets_mid)"
   ]
  },
  {
   "cell_type": "markdown",
   "metadata": {},
   "source": [
    "### Targets on the bottom"
   ]
  },
  {
   "cell_type": "code",
   "execution_count": 9,
   "metadata": {
    "ExecuteTime": {
     "end_time": "2020-12-17T12:35:03.280981Z",
     "start_time": "2020-12-17T12:35:03.160305Z"
    }
   },
   "outputs": [],
   "source": [
    "R = w2mat(quat2w(euler2quat([0,10,0.])))"
   ]
  },
  {
   "cell_type": "code",
   "execution_count": 10,
   "metadata": {
    "ExecuteTime": {
     "end_time": "2020-12-17T12:35:03.620073Z",
     "start_time": "2020-12-17T12:35:03.282977Z"
    }
   },
   "outputs": [],
   "source": [
    "zs = np.arange(0.25,0.31, 0.05) + 0.2\n",
    "#ys = np.array([-0.45, -0.25,  0.15,  0.35])\n",
    "#zs = np.arange(0.6, 0.81, 0.1)\n",
    "x = x_board + 0.25\n",
    "targets_down = []\n",
    "target_ids = []\n",
    "offset = 0.03\n",
    "for y in ys:\n",
    "    offset_x = 0.\n",
    "    for z in zs:\n",
    "        target = np.array([x+offset_x, y,z])\n",
    "        targets_down += [target]\n",
    "        _,_,target_id = create_primitives(p.GEOM_BOX, halfExtents=(0.03, 0.01, 0.01), rgbaColor=(0,0,1,1), baseMass=0)\n",
    "        target_ids += [target_id]\n",
    "        p.resetBasePositionAndOrientation(target_id, targets_down[-1], (0,0,0,1))\n",
    "        targets_down[-1] += (R@np.array([1,0,0]))*offset\n",
    "        offset_x += 0.03\n",
    "\n",
    "targets_down = np.array(targets_down)"
   ]
  },
  {
   "cell_type": "code",
   "execution_count": 11,
   "metadata": {
    "ExecuteTime": {
     "end_time": "2020-12-17T12:35:03.743743Z",
     "start_time": "2020-12-17T12:35:03.622069Z"
    }
   },
   "outputs": [],
   "source": [
    "for target_id in target_ids:\n",
    "    p.resetBasePositionAndOrientation(target_id,posObj=p.getBasePositionAndOrientation(target_id)[0 ], ornObj=euler2quat([0,10,0.]).tolist())"
   ]
  },
  {
   "cell_type": "markdown",
   "metadata": {},
   "source": [
    "### Targets on the top"
   ]
  },
  {
   "cell_type": "code",
   "execution_count": 12,
   "metadata": {
    "ExecuteTime": {
     "end_time": "2020-12-17T12:35:03.851455Z",
     "start_time": "2020-12-17T12:35:03.744782Z"
    }
   },
   "outputs": [],
   "source": [
    "R = w2mat(quat2w(euler2quat([0,-10,0.])))"
   ]
  },
  {
   "cell_type": "code",
   "execution_count": 13,
   "metadata": {
    "ExecuteTime": {
     "end_time": "2020-12-17T12:35:04.787020Z",
     "start_time": "2020-12-17T12:35:03.853450Z"
    }
   },
   "outputs": [],
   "source": [
    "zs = np.arange(0.55,0.61, 0.05) + 0.2\n",
    "\n",
    "x = x_board + 0.27\n",
    "targets_up = []\n",
    "target_ids = []\n",
    "offset = 0.03\n",
    "for y in ys:\n",
    "    offset_x = 0.\n",
    "    for z in zs:\n",
    "        target = np.array([x+offset_x, y,z])\n",
    "        targets_up += [target]\n",
    "        _,_,target_id = create_primitives(p.GEOM_BOX, halfExtents=(0.03, 0.01, 0.01), rgbaColor=(0,1,0,1), baseMass=0)\n",
    "        target_ids += [target_id]\n",
    "        p.resetBasePositionAndOrientation(target_id, targets_up[-1], (0,0,0,1))\n",
    "        targets_up[-1] += (R@np.array([1,0,0]))*offset\n",
    "        offset_x -= 0.03\n",
    "\n",
    "targets_up = np.array(targets_up)"
   ]
  },
  {
   "cell_type": "code",
   "execution_count": 14,
   "metadata": {
    "ExecuteTime": {
     "end_time": "2020-12-17T12:35:04.897658Z",
     "start_time": "2020-12-17T12:35:04.787975Z"
    }
   },
   "outputs": [],
   "source": [
    "for target_id in target_ids:\n",
    "    p.resetBasePositionAndOrientation(target_id,posObj=p.getBasePositionAndOrientation(target_id)[0], ornObj=euler2quat([0,-10,0.]).tolist())"
   ]
  },
  {
   "cell_type": "markdown",
   "metadata": {},
   "source": [
    "### RRT"
   ]
  },
  {
   "cell_type": "code",
   "execution_count": 18,
   "metadata": {
    "ExecuteTime": {
     "end_time": "2020-12-17T12:36:14.649814Z",
     "start_time": "2020-12-17T12:36:14.533103Z"
    }
   },
   "outputs": [],
   "source": [
    "rob_sampler = sampler(joint_limits)\n",
    "# rob_col_checker = col_checker(robot_id, pb_joint_indices, [ plane_id] + obs_ids)\n",
    "rob_col_checker = col_checker(robot_id, pb_joint_indices, [ plane_id] + [board_id])\n",
    "\n",
    "rob_interpolator = interpolator()"
   ]
  },
  {
   "cell_type": "code",
   "execution_count": 19,
   "metadata": {
    "ExecuteTime": {
     "end_time": "2020-12-17T12:36:14.916588Z",
     "start_time": "2020-12-17T12:36:14.799390Z"
    }
   },
   "outputs": [],
   "source": [
    "rrt = BiRRT(7, rob_sampler, rob_col_checker, rob_interpolator)"
   ]
  },
  {
   "cell_type": "code",
   "execution_count": 20,
   "metadata": {
    "ExecuteTime": {
     "end_time": "2020-12-17T12:36:17.908622Z",
     "start_time": "2020-12-17T12:36:15.126031Z"
    }
   },
   "outputs": [
    {
     "name": "stdout",
     "output_type": "stream",
     "text": [
      "Goal is reached!\n",
      "Solution found!\n"
     ]
    }
   ],
   "source": [
    "start_state = rrt.sample(True).flatten()\n",
    "end_state = rrt.sample(True).flatten()\n",
    "traj,_,_ = rrt.plan(start_state,end_state)\n",
    "shortpath = rrt.shortcut_path(traj)\n",
    "shorttraj = rrt.interpolate_traj(shortpath, traj)"
   ]
  },
  {
   "cell_type": "code",
   "execution_count": 21,
   "metadata": {
    "ExecuteTime": {
     "end_time": "2020-12-17T12:36:20.408478Z",
     "start_time": "2020-12-17T12:36:20.157151Z"
    }
   },
   "outputs": [],
   "source": [
    "for q in shorttraj[:2]:\n",
    "    set_q_std(q)\n",
    "    time.sleep(0.05)"
   ]
  },
  {
   "cell_type": "markdown",
   "metadata": {},
   "source": [
    "#### Setup IK solver"
   ]
  },
  {
   "cell_type": "code",
   "execution_count": 22,
   "metadata": {
    "ExecuteTime": {
     "end_time": "2020-12-17T12:36:22.821622Z",
     "start_time": "2020-12-17T12:36:22.692935Z"
    }
   },
   "outputs": [],
   "source": [
    "class CostProjector():\n",
    "    def __init__(self, cost):\n",
    "        self.cost = cost\n",
    "    \n",
    "    def project(self, q, ftol = 1e-12, gtol = 1e-12, disp = 1, maxiter = 1000 ):\n",
    "        #update the variables\n",
    "        self.cost.reset_iter()\n",
    "\n",
    "        status = False\n",
    "        res = minimize(self.cost.calc,q,method='l-bfgs-b', jac=self.cost.calcDiff,  options={'ftol':ftol, 'gtol':gtol, 'disp':disp, 'maxiter':maxiter})      \n",
    "        res = {'stat':status, 'q':  self.cost.qs[-1], 'qs': self.cost.qs, 'nfev': self.cost.nfev, 'feval': self.cost.feval}\n",
    "        return res"
   ]
  },
  {
   "cell_type": "markdown",
   "metadata": {},
   "source": [
    "#### Load model in pinocchio"
   ]
  },
  {
   "cell_type": "code",
   "execution_count": 23,
   "metadata": {
    "ExecuteTime": {
     "end_time": "2020-12-17T12:36:24.347543Z",
     "start_time": "2020-12-17T12:36:24.172979Z"
    }
   },
   "outputs": [],
   "source": [
    "robot_urdf = 'urdf/panda/panda_arm_rivet.urdf';\n",
    "rmodel = pin.buildModelFromUrdf(robot_urdf)\n",
    "rdata = rmodel.createData()\n",
    "\n",
    "pin_frame_names = [f.name for f in rmodel.frames]\n",
    "ee_frame_id = rmodel.getFrameId('panda_grasptarget_hand')\n",
    "pb_ee_frame_id = 7"
   ]
  },
  {
   "cell_type": "code",
   "execution_count": 24,
   "metadata": {
    "ExecuteTime": {
     "end_time": "2020-12-17T12:36:25.222169Z",
     "start_time": "2020-12-17T12:36:25.094539Z"
    }
   },
   "outputs": [],
   "source": [
    "# Teguh version\n",
    "# robot_urdf = 'urdf/panda/panda_arm_franka.urdf';\n",
    "# rmodel = pin.buildModelFromUrdf(robot_urdf)\n",
    "# rdata = rmodel.createData()\n",
    "\n",
    "# pin_frame_names = [f.name for f in rmodel.frames]\n",
    "# ee_frame_id = rmodel.getFrameId('panda_grasptarget_hand')\n",
    "# pb_ee_frame_id = 7"
   ]
  },
  {
   "cell_type": "markdown",
   "metadata": {},
   "source": [
    "#### Set IK Solver"
   ]
  },
  {
   "cell_type": "code",
   "execution_count": 25,
   "metadata": {
    "ExecuteTime": {
     "end_time": "2020-12-17T12:36:28.133405Z",
     "start_time": "2020-12-17T12:36:28.020686Z"
    }
   },
   "outputs": [],
   "source": [
    "x = np.array([0.4,0.2,0.4])\n",
    "w = np.array([0.,np.pi/2,0.])\n",
    "pose = np.concatenate((x,w))\n",
    "\n",
    "#define joint limit cost\n",
    "bound_cost = CostBound(joint_limits)\n",
    "#define pose cost\n",
    "pos_cost = CostFrame(rmodel, rdata, pose, ee_frame_id, np.array([1,1,1,1,1,1]))\n",
    "\n",
    "#Define IK solver\n",
    "cost_sum_ik = CostSum()\n",
    "cost_sum_ik.addCost(pos_cost, 50., 'pose_cost', 1e-12)\n",
    "cost_sum_ik.addCost(bound_cost, 100., 'joint_limit', 1e-12)\n",
    "ik_solver = CostProjector(cost_sum_ik)"
   ]
  },
  {
   "cell_type": "markdown",
   "metadata": {},
   "source": [
    "## Load Data"
   ]
  },
  {
   "cell_type": "raw",
   "metadata": {},
   "source": [
    "data = np.load('rivetting_data2.npy')\n",
    "qs = data['qs']\n",
    "targets = data['targets']\n",
    "w = data['w']"
   ]
  },
  {
   "cell_type": "code",
   "execution_count": 85,
   "metadata": {
    "ExecuteTime": {
     "end_time": "2020-12-17T12:48:45.867415Z",
     "start_time": "2020-12-17T12:48:45.738761Z"
    }
   },
   "outputs": [
    {
     "name": "stdout",
     "output_type": "stream",
     "text": [
      "64\n"
     ]
    }
   ],
   "source": [
    "# Loading the rivet positions\n",
    "targets_x = np.load(\"targets_x.npy\", allow_pickle=True)\n",
    "targets_orn = np.load(\"targets_orn.npy\", allow_pickle=True)\n",
    "rotation_axes = np.load('rotation_axes.npy', allow_pickle=True)\n",
    "labels = targets_x.item().keys()\n",
    "hole_nb = 0\n",
    "for label in labels:\n",
    "    hole_nb += targets_x.item()[label].shape[0]\n",
    "print(hole_nb)\n",
    "targets = np.concatenate([targets_x.item()[name] for name in labels],0)\n",
    "# Loading the joint configurations\n",
    "data = np.load('riveting_results.npy', allow_pickle=True)[()]\n",
    "qs_raw = data['qs']\n",
    "disp = np.linalg.norm(data['disp'], axis=2)\n",
    "disp = data['disp'][:,:,0]"
   ]
  },
  {
   "cell_type": "markdown",
   "metadata": {},
   "source": [
    "#### Filter the data"
   ]
  },
  {
   "cell_type": "code",
   "execution_count": 86,
   "metadata": {
    "ExecuteTime": {
     "end_time": "2020-12-17T12:48:46.445870Z",
     "start_time": "2020-12-17T12:48:46.340153Z"
    }
   },
   "outputs": [
    {
     "data": {
      "text/plain": [
       "True"
      ]
     },
     "execution_count": 86,
     "metadata": {},
     "output_type": "execute_result"
    }
   ],
   "source": [
    "rob_col_checker.check_collision(qs_raw[0,0])"
   ]
  },
  {
   "cell_type": "code",
   "execution_count": 87,
   "metadata": {
    "ExecuteTime": {
     "end_time": "2020-12-17T12:49:26.915576Z",
     "start_time": "2020-12-17T12:48:47.429240Z"
    }
   },
   "outputs": [],
   "source": [
    "qs = []\n",
    "disps = []\n",
    "count_col = 0\n",
    "for i,qset in enumerate(qs_raw):\n",
    "    qlist = []\n",
    "    displist = []\n",
    "    for j,q in enumerate(qset):\n",
    "        if rob_col_checker.check_collision(q) is False:\n",
    "            qlist += [q]\n",
    "            displist += [disp[i][j]*1000]\n",
    "        else:\n",
    "            count_col += 1 \n",
    "#             print('Collision',count_col)\n",
    "    qlist = np.array(qlist)\n",
    "    displist = np.array(displist)\n",
    "    if len(qlist)== 0: \n",
    "        print(i)\n",
    "        \n",
    "    qs += [qlist]\n",
    "    disps += [displist]\n",
    "clear_output()"
   ]
  },
  {
   "cell_type": "code",
   "execution_count": 88,
   "metadata": {
    "ExecuteTime": {
     "end_time": "2020-12-17T12:49:53.102817Z",
     "start_time": "2020-12-17T12:49:52.973165Z"
    }
   },
   "outputs": [
    {
     "data": {
      "text/plain": [
       "False"
      ]
     },
     "execution_count": 88,
     "metadata": {},
     "output_type": "execute_result"
    }
   ],
   "source": [
    "rrt.check_collision(qs[0][0])"
   ]
  },
  {
   "cell_type": "code",
   "execution_count": 90,
   "metadata": {
    "ExecuteTime": {
     "end_time": "2020-12-17T12:50:01.712209Z",
     "start_time": "2020-12-17T12:50:01.605494Z"
    }
   },
   "outputs": [
    {
     "name": "stdout",
     "output_type": "stream",
     "text": [
      "49\n",
      "61\n"
     ]
    }
   ],
   "source": [
    "i = 0\n",
    "for q in qs:\n",
    "    if len(q) == 0: print(i)\n",
    "    i += 1"
   ]
  },
  {
   "cell_type": "code",
   "execution_count": 34,
   "metadata": {
    "ExecuteTime": {
     "end_time": "2020-12-17T12:37:52.137753Z",
     "start_time": "2020-12-17T12:37:52.014085Z"
    }
   },
   "outputs": [],
   "source": [
    "j = 0"
   ]
  },
  {
   "cell_type": "code",
   "execution_count": 83,
   "metadata": {
    "ExecuteTime": {
     "end_time": "2020-12-17T12:38:18.808159Z",
     "start_time": "2020-12-17T12:38:18.679512Z"
    }
   },
   "outputs": [],
   "source": [
    "rob_col_checker.check_collision(qs_raw[61,j])\n",
    "j+=1"
   ]
  },
  {
   "cell_type": "markdown",
   "metadata": {},
   "source": [
    "#### Visualize the data"
   ]
  },
  {
   "cell_type": "raw",
   "metadata": {},
   "source": [
    "for qset in qs:\n",
    "    for q in qset[:20]:\n",
    "        set_q_std(q)\n",
    "        time.sleep(0.02)\n",
    "    input()"
   ]
  },
  {
   "cell_type": "markdown",
   "metadata": {},
   "source": [
    "### Construct Graph & Solve TSP"
   ]
  },
  {
   "cell_type": "code",
   "execution_count": null,
   "metadata": {
    "ExecuteTime": {
     "end_time": "2020-12-15T16:05:18.944823Z",
     "start_time": "2020-12-15T16:05:18.827659Z"
    }
   },
   "outputs": [],
   "source": [
    "from rtsp import *"
   ]
  },
  {
   "cell_type": "code",
   "execution_count": null,
   "metadata": {
    "ExecuteTime": {
     "end_time": "2020-12-15T16:05:20.241815Z",
     "start_time": "2020-12-15T16:05:19.523231Z"
    }
   },
   "outputs": [],
   "source": [
    "graph = from_coordinate_list(targets, euclidean_metric)\n",
    "\n",
    "path = two_opt(graph)"
   ]
  },
  {
   "cell_type": "markdown",
   "metadata": {},
   "source": [
    "### Construct the c-space graph"
   ]
  },
  {
   "cell_type": "code",
   "execution_count": null,
   "metadata": {
    "ExecuteTime": {
     "end_time": "2020-12-15T16:05:40.655583Z",
     "start_time": "2020-12-15T16:05:40.541614Z"
    }
   },
   "outputs": [],
   "source": [
    "qs.shape"
   ]
  },
  {
   "cell_type": "code",
   "execution_count": null,
   "metadata": {
    "ExecuteTime": {
     "end_time": "2020-12-15T16:06:15.767138Z",
     "start_time": "2020-12-15T16:06:15.659372Z"
    }
   },
   "outputs": [],
   "source": [
    "max_config = 50\n",
    "\n",
    "q_init = np.array([ 0.73170025, -1.10558688,  0.22936525, -2.28523573, -1.07928728,\n",
    "        2.17303381, -1.24231352])[None,:]\n",
    "\n",
    "q_init = qs[0][7][None,:]\n",
    "set_q_std(q_init[0])"
   ]
  },
  {
   "cell_type": "code",
   "execution_count": null,
   "metadata": {
    "ExecuteTime": {
     "end_time": "2020-12-15T16:06:22.834654Z",
     "start_time": "2020-12-15T16:06:22.714942Z"
    }
   },
   "outputs": [],
   "source": [
    "class time_struct():\n",
    "    def __init__(self):\n",
    "        self.select_config = 0\n",
    "        self.plan = 0\n",
    "        self.postplan = 0"
   ]
  },
  {
   "cell_type": "code",
   "execution_count": null,
   "metadata": {
    "ExecuteTime": {
     "end_time": "2020-12-15T16:06:23.651976Z",
     "start_time": "2020-12-15T16:06:23.523779Z"
    }
   },
   "outputs": [],
   "source": [
    "def plan_motion(q_init, path, qs, disps, max_config, w_disp = 20, max_try = 20):\n",
    "    comp_time = time_struct()\n",
    "    tic = time.time()\n",
    "    print('Obtaining configurations in the required order')\n",
    "    qs_new = [q_init]\n",
    "    disps_new = [np.array([0])]\n",
    "    for idx in path:\n",
    "        qs_new += [qs[idx][:max_config]]\n",
    "        disps_new += [disps[idx][:max_config]]\n",
    "    qs_new += [q_init]\n",
    "    disps_new += [np.array([0])]\n",
    "    \n",
    "    print(\"Construct cgraph\")\n",
    "    cgraph = construct_cgraph(qs_new, disps_new, w_disp = w_disp)\n",
    "    \n",
    "    print('Plan configuration path')\n",
    "    cpath = nx.dijkstra_path(cgraph, 0, len(cgraph.nodes()) - 1)\n",
    "    traj, total_disp = extract_traj(cgraph, cpath)\n",
    "    clear_output()\n",
    "    toc = time.time()\n",
    "    \n",
    "    comp_time.select_config = toc-tic\n",
    "    comp_time.plan = 0\n",
    "    comp_time.postplan = 0\n",
    "    \n",
    "    print('Plan motion')\n",
    "    trajs = []\n",
    "    total_dist = 0\n",
    "    for i in range(0,len(cpath)-1):\n",
    "        q = cgraph.nodes[cpath[i]]['value']\n",
    "        qn = cgraph.nodes[cpath[i+1]]['value']\n",
    "        tic = time.time()\n",
    "        traj,_,_ = rrt.plan(q,qn)\n",
    "        toc = time.time()\n",
    "        comp_time.plan += toc-tic\n",
    "        shortpath = rrt.shortcut_path(traj, max_try = max_try)\n",
    "        shorttraj = np.array(traj)[shortpath]\n",
    "        shortpath2 = rrt.shortcut_path_old(shorttraj,step_length=0.05)\n",
    "        shorttraj2 = rrt.interpolate_traj(shortpath2, shorttraj)\n",
    "        toc2 = time.time()\n",
    "        comp_time.postplan += toc2-toc\n",
    "        trajs += [shorttraj2]\n",
    "        total_dist += calc_dist(shorttraj2)\n",
    "        clear_output()\n",
    "\n",
    "    clear_output()\n",
    "    print('Planning time:{}, {}, {}'.format(comp_time.select_config, comp_time.plan, comp_time.postplan))\n",
    "    return trajs, total_dist, total_disp, comp_time"
   ]
  },
  {
   "cell_type": "code",
   "execution_count": null,
   "metadata": {
    "ExecuteTime": {
     "end_time": "2020-12-15T16:06:24.506464Z",
     "start_time": "2020-12-15T16:06:24.395254Z"
    }
   },
   "outputs": [],
   "source": [
    "def plan_motion_max(q_init, path, qs, disps, max_config, w_disp = 0.3, max_try = 20):\n",
    "    comp_time = time_struct()\n",
    "    tic = time.time()\n",
    "    print('Obtaining configurations that minimizes d') \n",
    "    qs_new = [q_init[0]]\n",
    "    disps_new = [np.array([0])]\n",
    "    total_disp = 0\n",
    "    for idx in path:\n",
    "        disp = disps[idx]\n",
    "        idx_min = np.argmin(disp[:max_config])\n",
    "        total_disp += disp[idx_min]\n",
    "        qs_new += [qs[idx][idx_min]]\n",
    "        disps_new += [disps[idx][idx_min]]\n",
    "    disps_new += [np.array([0])]\n",
    "    qs_new += [q_init[0]]\n",
    "    toc = time.time()\n",
    "\n",
    "    comp_time.select_config = toc-tic\n",
    "    comp_time.plan = 0\n",
    "    comp_time.postplan = 0\n",
    "\n",
    "    \n",
    "    clear_output()\n",
    "    print('Plan the motion')\n",
    "    trajs = []\n",
    "    total_dist = 0\n",
    "    for i in range(len(path)-1):\n",
    "        q = qs_new[i]\n",
    "        qn = qs_new[i+1]\n",
    "        tic = time.time()\n",
    "        traj,_,_ = rrt.plan(q,qn)\n",
    "        toc = time.time()\n",
    "        comp_time.plan += toc-tic\n",
    "        \n",
    "        shortpath = rrt.shortcut_path(traj, max_try = max_try)\n",
    "        shorttraj = np.array(traj)[shortpath]\n",
    "        shortpath2 = rrt.shortcut_path_old(shorttraj,step_length=0.05)\n",
    "        shorttraj2 = rrt.interpolate_traj(shortpath2, shorttraj)\n",
    "        #shorttraj2 = rrt.interpolate_traj(shortpath, traj)\n",
    "        toc2 = time.time()\n",
    "        comp_time.postplan += toc2-toc\n",
    "        trajs += [shorttraj2]\n",
    "        total_dist += calc_dist(shorttraj2)\n",
    "        clear_output()\n",
    "\n",
    "\n",
    "    clear_output()\n",
    "    print('Planning time:{}, {}, {}'.format(comp_time.select_config, comp_time.plan, comp_time.postplan))\n",
    "    return trajs, total_dist, total_disp, comp_time"
   ]
  },
  {
   "cell_type": "markdown",
   "metadata": {},
   "source": [
    "#### Determine the weight"
   ]
  },
  {
   "cell_type": "raw",
   "metadata": {},
   "source": [
    "ws = [10, 100, 1000, 5000]\n",
    "rtsp_fixed_dists = dict()\n",
    "rtsp_fixed_disps = dict()\n",
    "rtsp_fixed_trajs = dict()\n",
    "rtsp_fixed_time = dict()"
   ]
  },
  {
   "cell_type": "raw",
   "metadata": {},
   "source": [
    "ws = [2000]\n",
    "for n in ws:\n",
    "    rtsp_fixed_trajs[n], rtsp_fixed_dists[n], rtsp_fixed_disps[n], rtsp_fixed_time[n] = plan_motion(q_init, np.arange(len(path)), qs, disps, 100, w_disp = n)"
   ]
  },
  {
   "cell_type": "raw",
   "metadata": {},
   "source": [
    "for traj in rtsp_fixed_trajs[2000]:\n",
    "    vis_traj_std(traj,dt=0.02)"
   ]
  },
  {
   "cell_type": "raw",
   "metadata": {},
   "source": [
    "plt.plot(list(rtsp_fixed_dists.keys()), list(rtsp_fixed_dists.values()), '*')"
   ]
  },
  {
   "cell_type": "raw",
   "metadata": {},
   "source": [
    "plt.plot(list(rtsp_fixed_disps.keys()), list(rtsp_fixed_disps.values()), '*')"
   ]
  },
  {
   "cell_type": "markdown",
   "metadata": {},
   "source": [
    "#### Plan using RTSP"
   ]
  },
  {
   "cell_type": "code",
   "execution_count": null,
   "metadata": {
    "ExecuteTime": {
     "end_time": "2020-12-15T16:06:29.398592Z",
     "start_time": "2020-12-15T16:06:29.274923Z"
    }
   },
   "outputs": [],
   "source": [
    "num_configs = [1, 5, 10, 20, 50, 75, 100, 200]\n",
    "num_configs = num_configs[6:7]"
   ]
  },
  {
   "cell_type": "code",
   "execution_count": null,
   "metadata": {
    "ExecuteTime": {
     "end_time": "2020-12-15T16:06:31.442504Z",
     "start_time": "2020-12-15T16:06:31.322825Z"
    }
   },
   "outputs": [],
   "source": [
    "rtsp_fixed_dists = dict()\n",
    "rtsp_fixed_disps = dict()\n",
    "rtsp_fixed_trajs = dict()\n",
    "rtsp_fixed_time = dict()"
   ]
  },
  {
   "cell_type": "code",
   "execution_count": null,
   "metadata": {
    "ExecuteTime": {
     "end_time": "2020-12-15T16:06:33.287351Z",
     "start_time": "2020-12-15T16:06:33.186588Z"
    }
   },
   "outputs": [],
   "source": [
    "path2 = np.arange(len(path))\n",
    "\n",
    "w_disp = 2000"
   ]
  },
  {
   "cell_type": "code",
   "execution_count": null,
   "metadata": {
    "ExecuteTime": {
     "end_time": "2020-12-15T16:06:33.962739Z",
     "start_time": "2020-12-15T16:06:33.851527Z"
    }
   },
   "outputs": [],
   "source": [
    "comp_time = time_struct()\n",
    "tic = time.time()\n",
    "print('Obtaining configurations in the required order')\n",
    "qs_new = [q_init]\n",
    "disps_new = [np.array([0])]\n",
    "for idx in path2:\n",
    "    qs_new += [qs[idx][:max_config]]\n",
    "    disps_new += [disps[idx][:max_config]]\n",
    "qs_new += [q_init]\n",
    "disps_new += [np.array([0])]\n",
    "\n",
    "print(\"Construct cgraph\")\n",
    "cgraph = construct_cgraph(qs_new, disps_new, w_disp = w_disp)\n"
   ]
  },
  {
   "cell_type": "code",
   "execution_count": null,
   "metadata": {
    "ExecuteTime": {
     "end_time": "2020-10-16T13:35:10.346923Z",
     "start_time": "2020-10-16T13:35:10.199313Z"
    }
   },
   "outputs": [],
   "source": [
    "set_q_std(q[0])"
   ]
  },
  {
   "cell_type": "code",
   "execution_count": null,
   "metadata": {
    "ExecuteTime": {
     "end_time": "2020-10-16T13:35:13.645500Z",
     "start_time": "2020-10-16T13:35:13.477948Z"
    }
   },
   "outputs": [],
   "source": [
    "set_q_std(qn[0])"
   ]
  },
  {
   "cell_type": "code",
   "execution_count": null,
   "metadata": {
    "ExecuteTime": {
     "end_time": "2020-10-16T13:35:16.748077Z",
     "start_time": "2020-10-16T13:35:16.584191Z"
    }
   },
   "outputs": [],
   "source": [
    "rrt.init_plan(q[0], qn[0])"
   ]
  },
  {
   "cell_type": "code",
   "execution_count": null,
   "metadata": {
    "ExecuteTime": {
     "end_time": "2020-10-16T13:35:19.953564Z",
     "start_time": "2020-10-16T13:35:19.765048Z"
    }
   },
   "outputs": [],
   "source": [
    "# Sample random configs\n",
    "q_rand = rrt.sample()[0]"
   ]
  },
  {
   "cell_type": "code",
   "execution_count": null,
   "metadata": {
    "ExecuteTime": {
     "end_time": "2020-10-16T13:35:23.266030Z",
     "start_time": "2020-10-16T13:35:23.094455Z"
    }
   },
   "outputs": [],
   "source": [
    "# find a nearest node\n",
    "rrt.G = rrt.G0\n",
    "rrt.samples = rrt.samples0\n",
    "nearest_index_, nearest_sample = rrt.find_nearest(q_rand, np.array(rrt.samples))\n",
    "nearest_index = nearest_index_[0]"
   ]
  },
  {
   "cell_type": "code",
   "execution_count": null,
   "metadata": {
    "ExecuteTime": {
     "end_time": "2020-10-16T13:35:26.317483Z",
     "start_time": "2020-10-16T13:35:26.163866Z"
    }
   },
   "outputs": [],
   "source": [
    "rrt.check_collision(q[0])"
   ]
  },
  {
   "cell_type": "code",
   "execution_count": null,
   "metadata": {
    "ExecuteTime": {
     "end_time": "2020-10-16T15:21:48.731209Z",
     "start_time": "2020-10-16T15:21:10.663154Z"
    }
   },
   "outputs": [],
   "source": [
    "set_q_std(q_rand.flatten())"
   ]
  },
  {
   "cell_type": "code",
   "execution_count": null,
   "metadata": {
    "ExecuteTime": {
     "end_time": "2020-10-16T13:35:32.611538Z",
     "start_time": "2020-10-16T13:35:32.457920Z"
    }
   },
   "outputs": [],
   "source": [
    "set_q_std(nearest_sample.flatten())"
   ]
  },
  {
   "cell_type": "code",
   "execution_count": null,
   "metadata": {
    "ExecuteTime": {
     "end_time": "2020-10-16T13:35:35.893731Z",
     "start_time": "2020-10-16T13:35:35.683301Z"
    }
   },
   "outputs": [],
   "source": [
    "rrt.extend(nearest_index, nearest_sample.flatten(), q_rand)"
   ]
  },
  {
   "cell_type": "code",
   "execution_count": null,
   "metadata": {
    "ExecuteTime": {
     "end_time": "2020-10-16T13:26:13.735234Z",
     "start_time": "2020-10-16T13:26:13.587623Z"
    }
   },
   "outputs": [],
   "source": [
    "step_length = 0.1"
   ]
  },
  {
   "cell_type": "code",
   "execution_count": null,
   "metadata": {
    "ExecuteTime": {
     "end_time": "2020-10-16T13:26:17.016497Z",
     "start_time": "2020-10-16T13:26:16.848946Z"
    }
   },
   "outputs": [],
   "source": [
    "sample1, sample2 = nearest_sample.flatten(), q_rand\n",
    "state1, state2 = sample1.copy(), sample2.copy()\n",
    "dist = np.linalg.norm(state2-state1)\n",
    "N = int(dist/step_length) + 2\n",
    "state_list = rrt.interpolate(state1, state2, N)"
   ]
  },
  {
   "cell_type": "code",
   "execution_count": null,
   "metadata": {
    "ExecuteTime": {
     "end_time": "2020-10-16T13:27:50.298583Z",
     "start_time": "2020-10-16T13:27:50.157958Z"
    }
   },
   "outputs": [],
   "source": [
    "set_q_std(state1)"
   ]
  },
  {
   "cell_type": "code",
   "execution_count": null,
   "metadata": {
    "ExecuteTime": {
     "end_time": "2020-10-16T13:27:59.502530Z",
     "start_time": "2020-10-16T13:27:59.337968Z"
    }
   },
   "outputs": [],
   "source": [
    "rrt.check_collision(state1)"
   ]
  },
  {
   "cell_type": "code",
   "execution_count": null,
   "metadata": {
    "ExecuteTime": {
     "end_time": "2020-10-16T13:27:17.483555Z",
     "start_time": "2020-10-16T13:27:17.336911Z"
    }
   },
   "outputs": [],
   "source": [
    "set_q_std(state_list[0])"
   ]
  },
  {
   "cell_type": "raw",
   "metadata": {
    "ExecuteTime": {
     "end_time": "2020-10-16T13:26:50.563478Z",
     "start_time": "2020-10-16T13:26:50.218398Z"
    }
   },
   "source": [
    "next_states = []\n",
    "for state in state_list:\n",
    "    set_q_std(state)\n",
    "    if rrt.check_collision(state):\n",
    "        print('collision')"
   ]
  },
  {
   "cell_type": "raw",
   "metadata": {
    "ExecuteTime": {
     "end_time": "2020-10-16T13:23:18.720298Z",
     "start_time": "2020-10-16T13:23:18.574709Z"
    }
   },
   "source": [
    "# Extend to this config\n",
    "rrt.next_states= rrt.extend(nearest_index, nearest_sample.flatten(), q_rand)\n",
    "rrt.q_reach_a = rrt.next_states[-1]"
   ]
  },
  {
   "cell_type": "raw",
   "metadata": {
    "ExecuteTime": {
     "end_time": "2020-10-16T12:30:14.599337Z",
     "start_time": "2020-10-16T12:30:14.432779Z"
    }
   },
   "source": [
    "i = 0\n",
    "q = qs_new[i]\n",
    "qn = qs_new[i+1]\n",
    "traj,_,_ = rrt.plan(q.flatten(),qn.flatten())"
   ]
  },
  {
   "cell_type": "code",
   "execution_count": null,
   "metadata": {
    "ExecuteTime": {
     "end_time": "2020-10-16T13:37:20.579744Z",
     "start_time": "2020-10-16T13:35:50.061840Z"
    }
   },
   "outputs": [],
   "source": [
    "for n in num_configs:\n",
    "    print(n)\n",
    "    print('Planning with {} configs'.format(n))\n",
    "    rtsp_fixed_trajs[n], rtsp_fixed_dists[n], rtsp_fixed_disps[n], rtsp_fixed_time[n] = plan_motion(q_init, np.arange(len(path)), qs, disps, n, w_disp = 2000.)"
   ]
  },
  {
   "cell_type": "code",
   "execution_count": null,
   "metadata": {
    "ExecuteTime": {
     "end_time": "2020-10-16T11:39:11.497678Z",
     "start_time": "2020-10-16T11:39:10.097Z"
    }
   },
   "outputs": [],
   "source": [
    "set_q_std(q_init[0])"
   ]
  },
  {
   "cell_type": "code",
   "execution_count": null,
   "metadata": {
    "ExecuteTime": {
     "end_time": "2020-10-16T13:38:54.065864Z",
     "start_time": "2020-10-16T13:38:15.946070Z"
    }
   },
   "outputs": [],
   "source": [
    "for traj in rtsp_fixed_trajs[100]:\n",
    "    vis_traj_std(traj,dt=0.02)\n",
    "    time.sleep(0.1)"
   ]
  },
  {
   "cell_type": "code",
   "execution_count": null,
   "metadata": {},
   "outputs": [],
   "source": [
    "\n",
    "\n",
    "rtsp_fixed_dists[100], rtsp_fixed_disps[100]/84"
   ]
  },
  {
   "cell_type": "code",
   "execution_count": null,
   "metadata": {},
   "outputs": [],
   "source": [
    "set_q_std(rtsp_fixed_trajs[n][1][0])"
   ]
  },
  {
   "cell_type": "code",
   "execution_count": null,
   "metadata": {
    "ExecuteTime": {
     "end_time": "2020-10-16T13:40:01.892654Z",
     "start_time": "2020-10-16T13:40:01.732034Z"
    }
   },
   "outputs": [],
   "source": [
    "rtsp_fixed_config_time = []\n",
    "rtsp_fixed_plan_time = []\n",
    "rtsp_fixed_postplan_time = []\n",
    "for n in num_configs:\n",
    "    rtsp_fixed_config_time += [rtsp_fixed_time[n].select_config]\n",
    "    rtsp_fixed_plan_time += [rtsp_fixed_time[n].plan]\n",
    "    rtsp_fixed_postplan_time += [rtsp_fixed_time[n].postplan]"
   ]
  },
  {
   "cell_type": "code",
   "execution_count": null,
   "metadata": {
    "ExecuteTime": {
     "end_time": "2020-10-16T13:40:05.374284Z",
     "start_time": "2020-10-16T13:40:05.208724Z"
    }
   },
   "outputs": [],
   "source": [
    "data = dict()\n",
    "data['rtsp_fixed'] = [rtsp_fixed_dists, rtsp_fixed_disps, rtsp_fixed_trajs, rtsp_fixed_config_time,rtsp_fixed_plan_time, rtsp_fixed_postplan_time ]\n",
    "data['num_configs'] = num_configs\n",
    "np.save('data/rivet_planning_cylindrical' + str(len(qs)) + '.npy', data, allow_pickle=True)"
   ]
  },
  {
   "cell_type": "markdown",
   "metadata": {},
   "source": [
    "#### visualize saved data"
   ]
  },
  {
   "cell_type": "code",
   "execution_count": null,
   "metadata": {
    "ExecuteTime": {
     "end_time": "2020-10-16T15:19:36.970898Z",
     "start_time": "2020-10-16T15:19:36.842248Z"
    }
   },
   "outputs": [],
   "source": [
    "data_loaded = np.load('data/rivet_planning_cylindrical84.npy', allow_pickle=True)"
   ]
  },
  {
   "cell_type": "code",
   "execution_count": null,
   "metadata": {
    "ExecuteTime": {
     "end_time": "2020-10-16T15:19:54.779291Z",
     "start_time": "2020-10-16T15:19:54.645689Z"
    }
   },
   "outputs": [],
   "source": [
    "loaded_traj = data_loaded.item()[\"rtsp_fixed\"][2][100]"
   ]
  },
  {
   "cell_type": "code",
   "execution_count": null,
   "metadata": {
    "ExecuteTime": {
     "end_time": "2020-10-16T15:21:48.731209Z",
     "start_time": "2020-10-16T15:21:10.663154Z"
    }
   },
   "outputs": [],
   "source": [
    "for traj in loaded_traj:\n",
    "    vis_traj_std(traj,dt=0.02)\n",
    "    time.sleep(0.1)"
   ]
  },
  {
   "cell_type": "code",
   "execution_count": null,
   "metadata": {},
   "outputs": [],
   "source": []
  }
 ],
 "metadata": {
  "kernelspec": {
   "display_name": "Python 3",
   "language": "python",
   "name": "python3"
  },
  "language_info": {
   "codemirror_mode": {
    "name": "ipython",
    "version": 3
   },
   "file_extension": ".py",
   "mimetype": "text/x-python",
   "name": "python",
   "nbconvert_exporter": "python",
   "pygments_lexer": "ipython3",
   "version": "3.7.6"
  },
  "latex_envs": {
   "LaTeX_envs_menu_present": true,
   "autoclose": false,
   "autocomplete": true,
   "bibliofile": "biblio.bib",
   "cite_by": "apalike",
   "current_citInitial": 1,
   "eqLabelWithNumbers": true,
   "eqNumInitial": 1,
   "hotkeys": {
    "equation": "Ctrl-E",
    "itemize": "Ctrl-I"
   },
   "labels_anchors": false,
   "latex_user_defs": false,
   "report_style_numbering": false,
   "user_envs_cfg": false
  },
  "toc": {
   "base_numbering": 1,
   "nav_menu": {},
   "number_sections": true,
   "sideBar": true,
   "skip_h1_title": false,
   "title_cell": "Table of Contents",
   "title_sidebar": "Contents",
   "toc_cell": false,
   "toc_position": {
    "height": "calc(100% - 180px)",
    "left": "10px",
    "top": "150px",
    "width": "199.091px"
   },
   "toc_section_display": true,
   "toc_window_display": true
  },
  "varInspector": {
   "cols": {
    "lenName": 16,
    "lenType": 16,
    "lenVar": 40
   },
   "kernels_config": {
    "python": {
     "delete_cmd_postfix": "",
     "delete_cmd_prefix": "del ",
     "library": "var_list.py",
     "varRefreshCmd": "print(var_dic_list())"
    },
    "r": {
     "delete_cmd_postfix": ") ",
     "delete_cmd_prefix": "rm(",
     "library": "var_list.r",
     "varRefreshCmd": "cat(var_dic_list()) "
    }
   },
   "types_to_exclude": [
    "module",
    "function",
    "builtin_function_or_method",
    "instance",
    "_Feature"
   ],
   "window_display": false
  }
 },
 "nbformat": 4,
 "nbformat_minor": 4
}
